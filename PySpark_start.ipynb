{
 "cells": [
  {
   "cell_type": "markdown",
   "id": "bc034709",
   "metadata": {},
   "source": [
    "## Часть 1\n",
    "\n",
    "PySpark\n",
    "\n",
    "1.       Попробуем использовать возможности Spark для анализа данных clickstream пользователей новостного Интернет-портала.\n",
    "\n",
    "* Создадим схему будущего фрейма данных. Схема должна включать следующие атрибуты:\n",
    "\n",
    "        ·   id -  уникальный идентификатор посетителя сайта. Тип – последовательность чисел фиксированной длины. Данное поле не является первичным ключом.\n",
    "\n",
    "        ·   timestamp – дата и время события в формате unix timestamp.\n",
    "\n",
    "        ·   type – тип события, значение из списка (факт посещения(visit), клик по визуальному элементу страницы(click), скролл(scroll), перед на другую страницу(move)).\n",
    "\n",
    "        ·   page_id – id текущей страницы. Тип - последовательность чисел фиксированной длины.\n",
    "\n",
    "        ·   tag – каждая страница с новостью размечается редакцией специальными тегами, которые отражают тематику конкретной новости со страницы. Возможный список тематик: политика, спорт, медицина и т.д.\n",
    "\n",
    "        ·   sign – наличие у пользователя личного кабинета. Значения – True/False.\n",
    "        \n",
    "\n",
    "* Создадим датафрейм с описанной выше схемой данных.\n",
    "\n",
    "* Наполним датафрейм данными. \n",
    "\n",
    "        Пример: (12345, 1667627426, \"click\", 101, \"Sport”, False)\n",
    "\n",
    "* Подзадачи:\n",
    "\n",
    "        ·   Вывести топ-5 самых активных посетителей сайта\n",
    "\n",
    "        ·   Посчитать процент посетителей, у которых есть ЛК\n",
    "\n",
    "        ·   Вывести топ-5 страниц сайта по показателю общего кол-ва кликов на данной странице\n",
    "\n",
    "        ·   Добавить столбец к фрейму данных со значением временного диапазона в рамках суток с размером окна – 4 часа(0-4, 4-8, 8-12 и т.д.)\n",
    "\n",
    "        ·   Вывести временной промежуток на основе предыдущего задания, в течение которого было больше всего активностей на сайте.\n",
    "\n",
    "        ·   Создать второй фрейм данных, который будет содержать информацию о ЛК посетителя сайта со следующим списком атрибутов: \n",
    "                1.       Id – уникальный идентификатор личного кабинета\n",
    "                2.       User_id – уникальный идентификатор посетителя\n",
    "                3.       ФИО посетителя\n",
    "                4.       Дату рождения посетителя \n",
    "                5.       Дата создания ЛК\n",
    "\n",
    "* По второму фрейму данных:\n",
    "\n",
    "        ·   Вывести фамилии посетителей, которые читали хотя бы одну новость про спорт.\n",
    "\n",
    "        ·   Выведите 10% ЛК, у которых максимальная разница между датой создания ЛК и датой последнего посещения.\n",
    "\n",
    "        ·   Вывести топ-5 страниц, которые чаще всего посещают мужчины и топ-5 страниц, которые посещают чаще женщины."
   ]
  },
  {
   "cell_type": "code",
   "execution_count": 1,
   "id": "544adfac",
   "metadata": {},
   "outputs": [
    {
     "name": "stdout",
     "output_type": "stream",
     "text": [
      "Requirement already satisfied: pyspark in c:\\users\\asus\\anaconda3\\lib\\site-packages (3.3.1)\n",
      "Requirement already satisfied: py4j==0.10.9.5 in c:\\users\\asus\\anaconda3\\lib\\site-packages (from pyspark) (0.10.9.5)\n"
     ]
    }
   ],
   "source": [
    "!pip install pyspark"
   ]
  },
  {
   "cell_type": "code",
   "execution_count": 2,
   "id": "fd0b92bc",
   "metadata": {},
   "outputs": [
    {
     "name": "stdout",
     "output_type": "stream",
     "text": [
      "Запущен Spark версии 3.3.1\n"
     ]
    }
   ],
   "source": [
    "from pyspark import SparkConf, SparkContext\n",
    "from pyspark.sql import SparkSession\n",
    "conf = SparkConf()\n",
    "conf.setMaster(\"local\").setAppName('My app')\n",
    "sc = SparkContext.getOrCreate(conf=conf)\n",
    "spark = SparkSession(sc)\n",
    "print('Запущен Spark версии', spark.version)"
   ]
  },
  {
   "cell_type": "code",
   "execution_count": 3,
   "id": "8d43fc58",
   "metadata": {},
   "outputs": [],
   "source": [
    "#import functions with alias\n",
    "import pyspark.sql.types as T\n",
    "import pyspark.sql.functions as F\n",
    "from pyspark.sql.functions import udf \n",
    "from pyspark.sql.window import Window\n",
    "import datetime"
   ]
  },
  {
   "cell_type": "code",
   "execution_count": 4,
   "id": "4e35f14f",
   "metadata": {},
   "outputs": [],
   "source": [
    "# Запустим Spark сесиию\n",
    "spark = SparkSession.builder.master(\"local\").\\\n",
    "                    appName(\"Home_Work_3.1\").\\\n",
    "                    config(\"spark.driver.bindAddress\",\"localhost\").\\\n",
    "                    config(\"spark.ui.port\",\"4040\").\\\n",
    "                    getOrCreate()"
   ]
  },
  {
   "cell_type": "code",
   "execution_count": 5,
   "id": "57c8b17b",
   "metadata": {},
   "outputs": [],
   "source": [
    "# Создадим струкутуру данных\n",
    "schema_web = T.StructType([\n",
    "                T.StructField(\"id\", T.IntegerType(), False),\n",
    "                T.StructField(\"timestamp\", T.LongType(), True),\n",
    "                T.StructField(\"type\", T.StringType(), True),\n",
    "                T.StructField(\"page_id\", T.IntegerType(), True),\n",
    "                T.StructField(\"tag\", T.StringType(), True),\n",
    "                T.StructField(\"sign\", T.BooleanType(), True)])\n",
    "\n",
    "data_web = [  (1, 1668967844, 'click', 30, 'sport', True), \n",
    "              (2, 1668477844,'scroll', 40, 'medical', False),\n",
    "              (3, 1668967841,'click', 40, 'politic', True),\n",
    "              (4, 1668989844,'', 40, 'sport', False),\n",
    "              (5, 1668912843, 'scroll', 10, 'medical', False),\n",
    "              (6, 1668237845,'visit', 10, 'politic', True),\n",
    "              (7, 1668967844,'move', 20, 'medical', True),\n",
    "              (8, 1668967856, 'visit', 30, 'sport', True),\n",
    "              (9, 1668967844,'click', 30, 'politic', True),\n",
    "              (10, 1668968878, 'visit', 30, 'sport', True),\n",
    "              (1, 1668967844, 'visit', 30, 'sport', True),\n",
    "              (10, 1668935678,'scroll', 40, 'medical', True),\n",
    "              (10, 1668967844,'click', 40, 'politic', True),\n",
    "              (4, 1668346777,'visit', 20, 'medical', False),\n",
    "              (5, 1668456868, 'scroll', 10, 'medical', False),\n",
    "              (5, 1668456484,'move', 10, 'politic', False),\n",
    "              (7, 1668967844,'move', 20, 'medical', True),\n",
    "              (10, 1666778844, 'visit', 30, 'sport', True),\n",
    "              (9, 1668645644,'move', 30, 'politic', True),\n",
    "              (1, 1668577844, 'visit', 30, 'sport', True),\n",
    "              (6, 1668547444,'scroll', 40, 'politic', True),\n",
    "              (7, 1666568474,'scroll', 10, 'medical', True),\n",
    "              (10, 1661478494, 'visit', 10, 'sport', True),\n",
    "              (9, 1668196744,'visit', 10, 'politic', True),\n",
    "              (1, 1668197890, 'visit', 10, 'politic', True)\n",
    "            ]"
   ]
  },
  {
   "cell_type": "code",
   "execution_count": 6,
   "id": "fabae550",
   "metadata": {},
   "outputs": [
    {
     "name": "stdout",
     "output_type": "stream",
     "text": [
      "+---+----------+------+-------+-------+-----+\n",
      "| id| timestamp|  type|page_id|    tag| sign|\n",
      "+---+----------+------+-------+-------+-----+\n",
      "|  1|1668967844| click|     30|  sport| true|\n",
      "|  2|1668477844|scroll|     40|medical|false|\n",
      "|  3|1668967841| click|     40|politic| true|\n",
      "|  4|1668989844|      |     40|  sport|false|\n",
      "|  5|1668912843|scroll|     10|medical|false|\n",
      "|  6|1668237845| visit|     10|politic| true|\n",
      "|  7|1668967844|  move|     20|medical| true|\n",
      "|  8|1668967856| visit|     30|  sport| true|\n",
      "|  9|1668967844| click|     30|politic| true|\n",
      "| 10|1668968878| visit|     30|  sport| true|\n",
      "|  1|1668967844| visit|     30|  sport| true|\n",
      "| 10|1668935678|scroll|     40|medical| true|\n",
      "| 10|1668967844| click|     40|politic| true|\n",
      "|  4|1668346777| visit|     20|medical|false|\n",
      "|  5|1668456868|scroll|     10|medical|false|\n",
      "|  5|1668456484|  move|     10|politic|false|\n",
      "|  7|1668967844|  move|     20|medical| true|\n",
      "| 10|1666778844| visit|     30|  sport| true|\n",
      "|  9|1668645644|  move|     30|politic| true|\n",
      "|  1|1668577844| visit|     30|  sport| true|\n",
      "+---+----------+------+-------+-------+-----+\n",
      "only showing top 20 rows\n",
      "\n"
     ]
    }
   ],
   "source": [
    "df_web = spark.createDataFrame(data=data_web, schema = schema_web) \n",
    "df_web.show()"
   ]
  },
  {
   "cell_type": "code",
   "execution_count": 7,
   "id": "7030ac3d",
   "metadata": {},
   "outputs": [
    {
     "name": "stdout",
     "output_type": "stream",
     "text": [
      "root\n",
      " |-- id: integer (nullable = false)\n",
      " |-- timestamp: long (nullable = true)\n",
      " |-- type: string (nullable = true)\n",
      " |-- page_id: integer (nullable = true)\n",
      " |-- tag: string (nullable = true)\n",
      " |-- sign: boolean (nullable = true)\n",
      "\n"
     ]
    }
   ],
   "source": [
    "# дерево нашей схемы\n",
    "df_web.printSchema()"
   ]
  },
  {
   "cell_type": "code",
   "execution_count": 8,
   "id": "c2b931f3",
   "metadata": {},
   "outputs": [
    {
     "name": "stdout",
     "output_type": "stream",
     "text": [
      "+---+------+-------+-------+-----+-------------------+\n",
      "| id|  type|page_id|    tag| sign|         event_time|\n",
      "+---+------+-------+-------+-----+-------------------+\n",
      "|  1| click|     30|  sport| true|2022-11-20 21:10:44|\n",
      "|  2|scroll|     40|medical|false|2022-11-15 05:04:04|\n",
      "|  3| click|     40|politic| true|2022-11-20 21:10:41|\n",
      "|  4|      |     40|  sport|false|2022-11-21 03:17:24|\n",
      "|  5|scroll|     10|medical|false|2022-11-20 05:54:03|\n",
      "|  6| visit|     10|politic| true|2022-11-12 10:24:05|\n",
      "|  7|  move|     20|medical| true|2022-11-20 21:10:44|\n",
      "|  8| visit|     30|  sport| true|2022-11-20 21:10:56|\n",
      "|  9| click|     30|politic| true|2022-11-20 21:10:44|\n",
      "| 10| visit|     30|  sport| true|2022-11-20 21:27:58|\n",
      "+---+------+-------+-------+-----+-------------------+\n",
      "only showing top 10 rows\n",
      "\n"
     ]
    }
   ],
   "source": [
    "# Переведем колонку \"timestamp\" в тип _unixtime, переименуем колонку на 'event_time' и выведем новую таблицу со всеми колонками\n",
    "df_web = df_web.select(*[i for i in df_web.columns if i != 'timestamp'],\n",
    "    F.from_unixtime('timestamp').alias('event_time'))\n",
    "df_web.show(10)"
   ]
  },
  {
   "cell_type": "markdown",
   "id": "d3ff2af4",
   "metadata": {},
   "source": [
    "d.1 Выведем топ-5 самых активных посетителей сайта"
   ]
  },
  {
   "cell_type": "code",
   "execution_count": 9,
   "id": "d313c59b",
   "metadata": {},
   "outputs": [
    {
     "name": "stdout",
     "output_type": "stream",
     "text": [
      "+---+-----------+\n",
      "| id|event_count|\n",
      "+---+-----------+\n",
      "| 10|          5|\n",
      "|  1|          4|\n",
      "|  9|          3|\n",
      "|  5|          3|\n",
      "|  7|          3|\n",
      "+---+-----------+\n",
      "only showing top 5 rows\n",
      "\n"
     ]
    }
   ],
   "source": [
    "df_web.groupBy('id').agg(F.count(\"*\").alias('event_count')).orderBy('event_count', ascending=False).show(5) "
   ]
  },
  {
   "cell_type": "markdown",
   "id": "cbdd2543",
   "metadata": {},
   "source": [
    "d.2 Посчитаем процент посетителей, у которых есть ЛК"
   ]
  },
  {
   "cell_type": "code",
   "execution_count": 10,
   "id": "9534cdb2",
   "metadata": {},
   "outputs": [
    {
     "name": "stdout",
     "output_type": "stream",
     "text": [
      "+---+-----+\n",
      "| id| sign|\n",
      "+---+-----+\n",
      "|  1| true|\n",
      "|  2|false|\n",
      "|  3| true|\n",
      "|  4|false|\n",
      "|  5|false|\n",
      "|  6| true|\n",
      "|  7| true|\n",
      "|  8| true|\n",
      "|  9| true|\n",
      "| 10| true|\n",
      "+---+-----+\n",
      "\n"
     ]
    }
   ],
   "source": [
    "# Выедем ID пользователя и инфу о ЛК\n",
    "all = df_web.select('id','sign').distinct().orderBy(\"id\")\n",
    "all.show() "
   ]
  },
  {
   "cell_type": "code",
   "execution_count": 11,
   "id": "1c4a1916",
   "metadata": {},
   "outputs": [
    {
     "name": "stdout",
     "output_type": "stream",
     "text": [
      "+---+----+\n",
      "| id|sign|\n",
      "+---+----+\n",
      "|  1|true|\n",
      "|  3|true|\n",
      "|  6|true|\n",
      "|  7|true|\n",
      "|  8|true|\n",
      "|  9|true|\n",
      "| 10|true|\n",
      "+---+----+\n",
      "\n"
     ]
    }
   ],
   "source": [
    "# # Выедем ID пользователя, у которых есть ЛК\n",
    "lk_true = df_web.select('id','sign').distinct().orderBy(\"id\").filter((F.col('sign')=='true'))\n",
    "lk_true.show()"
   ]
  },
  {
   "cell_type": "code",
   "execution_count": 12,
   "id": "ecda87ce",
   "metadata": {},
   "outputs": [
    {
     "name": "stdout",
     "output_type": "stream",
     "text": [
      "Процент посетителей, у которых есть ЛК: 70.0%\n"
     ]
    }
   ],
   "source": [
    "print(f'Процент посетителей, у которых есть ЛК: {round(lk_true.count()/all.count()*100, 2)}%')"
   ]
  },
  {
   "cell_type": "markdown",
   "id": "eb00a591",
   "metadata": {},
   "source": [
    "d.3 Выведем топ-5 страниц сайта по показателю общего кол-ва кликов на данной странице"
   ]
  },
  {
   "cell_type": "code",
   "execution_count": 13,
   "id": "f40449b2",
   "metadata": {},
   "outputs": [
    {
     "name": "stdout",
     "output_type": "stream",
     "text": [
      "+---+-----+-------+-------+----+-------------------+\n",
      "| id| type|page_id|    tag|sign|         event_time|\n",
      "+---+-----+-------+-------+----+-------------------+\n",
      "|  1|click|     30|  sport|true|2022-11-20 21:10:44|\n",
      "|  3|click|     40|politic|true|2022-11-20 21:10:41|\n",
      "|  9|click|     30|politic|true|2022-11-20 21:10:44|\n",
      "| 10|click|     40|politic|true|2022-11-20 21:10:44|\n",
      "+---+-----+-------+-------+----+-------------------+\n",
      "\n"
     ]
    }
   ],
   "source": [
    "# Выведем строки таблицы, где тип события - это клик\n",
    "df_web.filter((F.col('type')=='click')).show() "
   ]
  },
  {
   "cell_type": "code",
   "execution_count": 14,
   "id": "ce1fb1a9",
   "metadata": {},
   "outputs": [
    {
     "name": "stdout",
     "output_type": "stream",
     "text": [
      "+-------+-----+\n",
      "|page_id|count|\n",
      "+-------+-----+\n",
      "|     40|    2|\n",
      "|     30|    2|\n",
      "+-------+-----+\n",
      "\n"
     ]
    }
   ],
   "source": [
    "#топ-5 страниц сайта по показателю общего кол-ва кликов на данной странице\n",
    "df_web.filter((F.col('type')=='click')).groupBy('page_id').count().orderBy(\"count\", acsending = False).show(5)\n"
   ]
  },
  {
   "cell_type": "markdown",
   "id": "e9c43826",
   "metadata": {},
   "source": [
    "d.4 Добавим столбец к фрейму данных со значением временного диапазона в рамках суток с размером окна – 4 часа(0-4, 4-8, 8-12 и т.д.)"
   ]
  },
  {
   "cell_type": "code",
   "execution_count": 15,
   "id": "ded3f4b8",
   "metadata": {},
   "outputs": [
    {
     "name": "stdout",
     "output_type": "stream",
     "text": [
      "+---+------+-------+-------+-----+-------------------+----------+\n",
      "| id|  type|page_id|    tag| sign|         event_time|time_range|\n",
      "+---+------+-------+-------+-----+-------------------+----------+\n",
      "|  1| click|     30|  sport| true|2022-11-20 21:10:44|         6|\n",
      "|  2|scroll|     40|medical|false|2022-11-15 05:04:04|         2|\n",
      "|  3| click|     40|politic| true|2022-11-20 21:10:41|         6|\n",
      "|  4|      |     40|  sport|false|2022-11-21 03:17:24|         1|\n",
      "|  5|scroll|     10|medical|false|2022-11-20 05:54:03|         2|\n",
      "|  6| visit|     10|politic| true|2022-11-12 10:24:05|         3|\n",
      "|  7|  move|     20|medical| true|2022-11-20 21:10:44|         6|\n",
      "|  8| visit|     30|  sport| true|2022-11-20 21:10:56|         6|\n",
      "|  9| click|     30|politic| true|2022-11-20 21:10:44|         6|\n",
      "| 10| visit|     30|  sport| true|2022-11-20 21:27:58|         6|\n",
      "|  1| visit|     30|  sport| true|2022-11-20 21:10:44|         6|\n",
      "| 10|scroll|     40|medical| true|2022-11-20 12:14:38|         4|\n",
      "| 10| click|     40|politic| true|2022-11-20 21:10:44|         6|\n",
      "|  4| visit|     20|medical|false|2022-11-13 16:39:37|         5|\n",
      "|  5|scroll|     10|medical|false|2022-11-14 23:14:28|         6|\n",
      "+---+------+-------+-------+-----+-------------------+----------+\n",
      "only showing top 15 rows\n",
      "\n"
     ]
    }
   ],
   "source": [
    "# У нас будет 1 диапазон: 0-4ч, 2 диапазон: 4-8 и тд...\n",
    "df_web = df_web.withColumn('time_range', F.ceil((F.hour('event_time')*60+F.minute('event_time'))/240))\n",
    "df_web.show(15)"
   ]
  },
  {
   "cell_type": "markdown",
   "id": "49ec7c42",
   "metadata": {},
   "source": [
    "d.5 Выведем временной промежуток на основе предыдущего задания, в течение которого было больше всего активностей на сайте."
   ]
  },
  {
   "cell_type": "code",
   "execution_count": 16,
   "id": "b4fe86c8",
   "metadata": {},
   "outputs": [
    {
     "name": "stdout",
     "output_type": "stream",
     "text": [
      "+----------+-----+\n",
      "|time_range|count|\n",
      "+----------+-----+\n",
      "|         6|   13|\n",
      "+----------+-----+\n",
      "only showing top 1 row\n",
      "\n"
     ]
    }
   ],
   "source": [
    "df_web.groupBy('time_range').count().orderBy('count', ascending = False).show(1)"
   ]
  },
  {
   "cell_type": "markdown",
   "id": "6d592e88",
   "metadata": {},
   "source": [
    "Второй фрейм данных"
   ]
  },
  {
   "cell_type": "code",
   "execution_count": 17,
   "id": "0e37bf67",
   "metadata": {},
   "outputs": [],
   "source": [
    "schema_lk = T.StructType([\n",
    "                T.StructField(\"id\", T.IntegerType(), False),\n",
    "                T.StructField(\"user_id\", T.IntegerType(), False),\n",
    "                T.StructField(\"fio\", T.StringType(), True),\n",
    "                T.StructField(\"date_birth\", T.DateType(), True),\n",
    "                T.StructField(\"time_lk\", T.DateType(), True)])\n",
    "\n",
    "data_lk = [(101, 1, 'James Smith', datetime.datetime(1991, 4, 1), datetime.datetime(2021, 4, 1)),\n",
    "  (102, 2, 'Michael Rose', datetime.datetime(1994, 7, 1), datetime.datetime(2021, 7, 1)),\n",
    "  (103, 3, 'Robert Williams', datetime.datetime(1998, 6, 11).date(),datetime.datetime(2022, 4, 4)),\n",
    "  (104, 4, 'Maria Anne Jones', datetime.datetime(1999, 12, 14),datetime.datetime(2020, 2, 11)),\n",
    "  (105, 5, 'Jen Mary Brown', datetime.datetime(1992, 11, 17), datetime.datetime(2020, 5, 10)),\n",
    "  (106, 6, 'Jake Ray', datetime.datetime(1991, 4, 1), datetime.datetime(2021, 4, 1)),\n",
    "  (107, 7, 'Milly Ann Rose', datetime.datetime(1994, 7, 1), datetime.datetime(2021, 7, 1)),\n",
    "  (108, 8, 'Robert Grey', datetime.datetime(1998, 6, 11).date(),datetime.datetime(2022, 4, 4)),\n",
    "  (109, 9, 'Rose Anne Jones', datetime.datetime(1999, 12, 14),datetime.datetime(2020, 2, 11)),\n",
    "  (110, 10, 'Mark White', datetime.datetime(1992, 11, 17), datetime.datetime(2020, 5, 10))\n",
    "]"
   ]
  },
  {
   "cell_type": "code",
   "execution_count": 18,
   "id": "0e3fa33f",
   "metadata": {},
   "outputs": [
    {
     "name": "stdout",
     "output_type": "stream",
     "text": [
      "+---+-------+----------------+----------+----------+\n",
      "| id|user_id|             fio|date_birth|   time_lk|\n",
      "+---+-------+----------------+----------+----------+\n",
      "|101|      1|     James Smith|1991-04-01|2021-04-01|\n",
      "|102|      2|    Michael Rose|1994-07-01|2021-07-01|\n",
      "|103|      3| Robert Williams|1998-06-11|2022-04-04|\n",
      "|104|      4|Maria Anne Jones|1999-12-14|2020-02-11|\n",
      "|105|      5|  Jen Mary Brown|1992-11-17|2020-05-10|\n",
      "|106|      6|        Jake Ray|1991-04-01|2021-04-01|\n",
      "|107|      7|  Milly Ann Rose|1994-07-01|2021-07-01|\n",
      "|108|      8|     Robert Grey|1998-06-11|2022-04-04|\n",
      "|109|      9| Rose Anne Jones|1999-12-14|2020-02-11|\n",
      "|110|     10|      Mark White|1992-11-17|2020-05-10|\n",
      "+---+-------+----------------+----------+----------+\n",
      "\n"
     ]
    }
   ],
   "source": [
    "df_lk = spark.createDataFrame(data=data_lk, schema = schema_lk)\n",
    "df_lk.show()"
   ]
  },
  {
   "cell_type": "code",
   "execution_count": 19,
   "id": "c853fd81",
   "metadata": {},
   "outputs": [
    {
     "name": "stdout",
     "output_type": "stream",
     "text": [
      "root\n",
      " |-- id: integer (nullable = false)\n",
      " |-- user_id: integer (nullable = false)\n",
      " |-- fio: string (nullable = true)\n",
      " |-- date_birth: date (nullable = true)\n",
      " |-- time_lk: date (nullable = true)\n",
      "\n"
     ]
    }
   ],
   "source": [
    "# дерево нашей схемы\n",
    "df_lk.printSchema()"
   ]
  },
  {
   "cell_type": "markdown",
   "id": "58143d99",
   "metadata": {},
   "source": [
    "Соединим две таблицы. Тип соединения 'outer', так как нам нужны все данные о посещениях."
   ]
  },
  {
   "cell_type": "code",
   "execution_count": 20,
   "id": "8842e34b",
   "metadata": {},
   "outputs": [
    {
     "name": "stdout",
     "output_type": "stream",
     "text": [
      "+---+-------+----------------+----------+----------+---+------+-------+-------+-----+-------------------+----------+\n",
      "| id|user_id|             fio|date_birth|   time_lk| id|  type|page_id|    tag| sign|         event_time|time_range|\n",
      "+---+-------+----------------+----------+----------+---+------+-------+-------+-----+-------------------+----------+\n",
      "|101|      1|     James Smith|1991-04-01|2021-04-01|  1| click|     30|  sport| true|2022-11-20 21:10:44|         6|\n",
      "|101|      1|     James Smith|1991-04-01|2021-04-01|  1| visit|     30|  sport| true|2022-11-20 21:10:44|         6|\n",
      "|101|      1|     James Smith|1991-04-01|2021-04-01|  1| visit|     30|  sport| true|2022-11-16 08:50:44|         3|\n",
      "|101|      1|     James Smith|1991-04-01|2021-04-01|  1| visit|     10|politic| true|2022-11-11 23:18:10|         6|\n",
      "|102|      2|    Michael Rose|1994-07-01|2021-07-01|  2|scroll|     40|medical|false|2022-11-15 05:04:04|         2|\n",
      "|103|      3| Robert Williams|1998-06-11|2022-04-04|  3| click|     40|politic| true|2022-11-20 21:10:41|         6|\n",
      "|104|      4|Maria Anne Jones|1999-12-14|2020-02-11|  4|      |     40|  sport|false|2022-11-21 03:17:24|         1|\n",
      "|104|      4|Maria Anne Jones|1999-12-14|2020-02-11|  4| visit|     20|medical|false|2022-11-13 16:39:37|         5|\n",
      "|105|      5|  Jen Mary Brown|1992-11-17|2020-05-10|  5|scroll|     10|medical|false|2022-11-20 05:54:03|         2|\n",
      "|105|      5|  Jen Mary Brown|1992-11-17|2020-05-10|  5|scroll|     10|medical|false|2022-11-14 23:14:28|         6|\n",
      "|105|      5|  Jen Mary Brown|1992-11-17|2020-05-10|  5|  move|     10|politic|false|2022-11-14 23:08:04|         6|\n",
      "|106|      6|        Jake Ray|1991-04-01|2021-04-01|  6| visit|     10|politic| true|2022-11-12 10:24:05|         3|\n",
      "|106|      6|        Jake Ray|1991-04-01|2021-04-01|  6|scroll|     40|politic| true|2022-11-16 00:24:04|         1|\n",
      "|107|      7|  Milly Ann Rose|1994-07-01|2021-07-01|  7|  move|     20|medical| true|2022-11-20 21:10:44|         6|\n",
      "|107|      7|  Milly Ann Rose|1994-07-01|2021-07-01|  7|  move|     20|medical| true|2022-11-20 21:10:44|         6|\n",
      "|107|      7|  Milly Ann Rose|1994-07-01|2021-07-01|  7|scroll|     10|medical| true|2022-10-24 02:41:14|         1|\n",
      "|108|      8|     Robert Grey|1998-06-11|2022-04-04|  8| visit|     30|  sport| true|2022-11-20 21:10:56|         6|\n",
      "|109|      9| Rose Anne Jones|1999-12-14|2020-02-11|  9| click|     30|politic| true|2022-11-20 21:10:44|         6|\n",
      "|109|      9| Rose Anne Jones|1999-12-14|2020-02-11|  9|  move|     30|politic| true|2022-11-17 03:40:44|         1|\n",
      "|109|      9| Rose Anne Jones|1999-12-14|2020-02-11|  9| visit|     10|politic| true|2022-11-11 22:59:04|         6|\n",
      "|110|     10|      Mark White|1992-11-17|2020-05-10| 10| visit|     30|  sport| true|2022-11-20 21:27:58|         6|\n",
      "|110|     10|      Mark White|1992-11-17|2020-05-10| 10|scroll|     40|medical| true|2022-11-20 12:14:38|         4|\n",
      "|110|     10|      Mark White|1992-11-17|2020-05-10| 10| click|     40|politic| true|2022-11-20 21:10:44|         6|\n",
      "|110|     10|      Mark White|1992-11-17|2020-05-10| 10| visit|     30|  sport| true|2022-10-26 13:07:24|         4|\n",
      "|110|     10|      Mark White|1992-11-17|2020-05-10| 10| visit|     10|  sport| true|2022-08-26 04:48:14|         2|\n",
      "+---+-------+----------------+----------+----------+---+------+-------+-------+-----+-------------------+----------+\n",
      "\n"
     ]
    }
   ],
   "source": [
    "df_all = df_lk.alias('lk').join(df_web.alias('web'),\n",
    "                               on = F.col('lk.user_id') == F.col('web.id'),\n",
    "                               how = 'outer')\n",
    "df_all.show(30)"
   ]
  },
  {
   "cell_type": "markdown",
   "id": "224a3332",
   "metadata": {},
   "source": [
    "d.6 Выведем фамилии посетителей, которые читали хотя бы одну новость про спорт."
   ]
  },
  {
   "cell_type": "code",
   "execution_count": 21,
   "id": "0e4c2107",
   "metadata": {},
   "outputs": [],
   "source": [
    "# Пользовательская функция, которая вычленяет фамилию из полного имени клиента\n",
    "@udf(T.StringType())\n",
    "def calc_surname(fio):\n",
    "    name, *mid_name, surname = fio.split(' ')\n",
    "    return (surname)"
   ]
  },
  {
   "cell_type": "code",
   "execution_count": 22,
   "id": "55e6f969",
   "metadata": {},
   "outputs": [
    {
     "name": "stdout",
     "output_type": "stream",
     "text": [
      "+-------+-----+\n",
      "|surname|  tag|\n",
      "+-------+-----+\n",
      "|   Grey|sport|\n",
      "|  White|sport|\n",
      "|  Jones|sport|\n",
      "|  Smith|sport|\n",
      "+-------+-----+\n",
      "\n"
     ]
    }
   ],
   "source": [
    "# Выведем фамилии посетителей, которые читали хотя бы одну новость про спорт, ну и сам tag для наглядности\n",
    "df_all.withColumn('surname', calc_surname(F.col('fio')))\\\n",
    "    .where(F.col('tag') == 'sport')\\\n",
    "    .select('surname','tag')\\\n",
    "    .distinct()\\\n",
    "    .show()"
   ]
  },
  {
   "cell_type": "markdown",
   "id": "f227a76b",
   "metadata": {},
   "source": [
    "d.7 Выведем 10% ЛК, у которых максимальная разница между датой создания ЛК и датой последнего посещения."
   ]
  },
  {
   "cell_type": "code",
   "execution_count": 23,
   "id": "1cec1104",
   "metadata": {},
   "outputs": [
    {
     "data": {
      "text/plain": [
       "1"
      ]
     },
     "execution_count": 23,
     "metadata": {},
     "output_type": "execute_result"
    }
   ],
   "source": [
    "n = round(df_lk.count() * 0.1)\n",
    "n"
   ]
  },
  {
   "cell_type": "code",
   "execution_count": 24,
   "id": "37eb1665",
   "metadata": {},
   "outputs": [
    {
     "name": "stdout",
     "output_type": "stream",
     "text": [
      "+-------+----------------+--------+\n",
      "|user_id|             fio|max_diff|\n",
      "+-------+----------------+--------+\n",
      "|      4|Maria Anne Jones|    1014|\n",
      "+-------+----------------+--------+\n",
      "only showing top 1 row\n",
      "\n"
     ]
    }
   ],
   "source": [
    "df_all.withColumn(\"date_diff\", F.floor(F.datediff(F.col('event_time'), F.col('time_lk'))))\\\n",
    "    .groupBy('user_id','fio')\\\n",
    "    .agg(F.max('date_diff').alias('max_diff'))\\\n",
    "    .orderBy('max_diff', ascending = False)\\\n",
    "    .select('user_id', 'fio', 'max_diff')\\\n",
    "    .show(n)"
   ]
  },
  {
   "cell_type": "markdown",
   "id": "585a874e",
   "metadata": {},
   "source": [
    "Однако, 10 % из 10 пользователей это всего один человек. Давайте выведем 50%. Или я задание неверно истолковала..."
   ]
  },
  {
   "cell_type": "code",
   "execution_count": 25,
   "id": "c21fdabe",
   "metadata": {},
   "outputs": [
    {
     "name": "stdout",
     "output_type": "stream",
     "text": [
      "+-------+----------------+--------+\n",
      "|user_id|             fio|max_diff|\n",
      "+-------+----------------+--------+\n",
      "|      4|Maria Anne Jones|    1014|\n",
      "|      9| Rose Anne Jones|    1013|\n",
      "|     10|      Mark White|     924|\n",
      "|      5|  Jen Mary Brown|     924|\n",
      "|      1|     James Smith|     598|\n",
      "+-------+----------------+--------+\n",
      "only showing top 5 rows\n",
      "\n"
     ]
    }
   ],
   "source": [
    "df_all.withColumn(\"date_diff\", F.floor(F.datediff(F.col('event_time'), F.col('time_lk'))))\\\n",
    "    .groupBy('user_id','fio')\\\n",
    "    .agg(F.max('date_diff').alias('max_diff'))\\\n",
    "    .orderBy('max_diff', ascending = False)\\\n",
    "    .select('user_id', 'fio', 'max_diff')\\\n",
    "    .show(round(df_lk.count() * 0.5))"
   ]
  },
  {
   "cell_type": "markdown",
   "id": "35987bd0",
   "metadata": {},
   "source": [
    "d.8 Выведем топ-5 страниц, которые чаще всего посещают мужчины и топ-5 страниц, которые посещают чаще женщины."
   ]
  },
  {
   "cell_type": "code",
   "execution_count": 26,
   "id": "63d245c5",
   "metadata": {},
   "outputs": [],
   "source": [
    "# Пользовательская функция, которая определяет пол клиента\n",
    "@udf(T.StringType())\n",
    "def calc_gender(fio):\n",
    "    name, *mid_name, surname = fio.split(' ')\n",
    "    if name in ['Maria', 'Rose', 'Jen', 'Milly']:\n",
    "        return 'female'\n",
    "    else:\n",
    "        return 'male'"
   ]
  },
  {
   "cell_type": "code",
   "execution_count": 27,
   "id": "8eaef500",
   "metadata": {},
   "outputs": [
    {
     "name": "stdout",
     "output_type": "stream",
     "text": [
      "+-------+----------------+------+\n",
      "|user_id|             fio|gender|\n",
      "+-------+----------------+------+\n",
      "|      1|     James Smith|  male|\n",
      "|      2|    Michael Rose|  male|\n",
      "|      3| Robert Williams|  male|\n",
      "|      4|Maria Anne Jones|female|\n",
      "|      5|  Jen Mary Brown|female|\n",
      "|      6|        Jake Ray|  male|\n",
      "|      7|  Milly Ann Rose|female|\n",
      "|      8|     Robert Grey|  male|\n",
      "|      9| Rose Anne Jones|female|\n",
      "|     10|      Mark White|  male|\n",
      "+-------+----------------+------+\n",
      "\n"
     ]
    }
   ],
   "source": [
    "# Проверим, как работает функция: выведем фио и пол\n",
    "df_all = df_all.withColumn('gender', calc_gender(F.col('fio')))\n",
    "df_all.select('user_id', 'fio', 'gender').distinct().orderBy('user_id').show()\n"
   ]
  },
  {
   "cell_type": "code",
   "execution_count": 28,
   "id": "2d14d272",
   "metadata": {},
   "outputs": [
    {
     "name": "stdout",
     "output_type": "stream",
     "text": [
      "+---+-------+----------------+----------+----------+---+------+-------+-------+-----+-------------------+----------+------+\n",
      "| id|user_id|             fio|date_birth|   time_lk| id|  type|page_id|    tag| sign|         event_time|time_range|gender|\n",
      "+---+-------+----------------+----------+----------+---+------+-------+-------+-----+-------------------+----------+------+\n",
      "|101|      1|     James Smith|1991-04-01|2021-04-01|  1| click|     30|  sport| true|2022-11-20 21:10:44|         6|  male|\n",
      "|101|      1|     James Smith|1991-04-01|2021-04-01|  1| visit|     30|  sport| true|2022-11-20 21:10:44|         6|  male|\n",
      "|101|      1|     James Smith|1991-04-01|2021-04-01|  1| visit|     30|  sport| true|2022-11-16 08:50:44|         3|  male|\n",
      "|101|      1|     James Smith|1991-04-01|2021-04-01|  1| visit|     10|politic| true|2022-11-11 23:18:10|         6|  male|\n",
      "|102|      2|    Michael Rose|1994-07-01|2021-07-01|  2|scroll|     40|medical|false|2022-11-15 05:04:04|         2|  male|\n",
      "|103|      3| Robert Williams|1998-06-11|2022-04-04|  3| click|     40|politic| true|2022-11-20 21:10:41|         6|  male|\n",
      "|104|      4|Maria Anne Jones|1999-12-14|2020-02-11|  4|      |     40|  sport|false|2022-11-21 03:17:24|         1|female|\n",
      "|104|      4|Maria Anne Jones|1999-12-14|2020-02-11|  4| visit|     20|medical|false|2022-11-13 16:39:37|         5|female|\n",
      "+---+-------+----------------+----------+----------+---+------+-------+-------+-----+-------------------+----------+------+\n",
      "only showing top 8 rows\n",
      "\n"
     ]
    }
   ],
   "source": [
    "# Выведем топ-5 страниц, которые чаще всего посещают мужчины\n",
    "df_all.show(8)"
   ]
  },
  {
   "cell_type": "code",
   "execution_count": 29,
   "id": "e4d19ea6",
   "metadata": {},
   "outputs": [
    {
     "name": "stdout",
     "output_type": "stream",
     "text": [
      "+-------+------+----------+\n",
      "|page_id|gender|page_count|\n",
      "+-------+------+----------+\n",
      "|     30|  male|         6|\n",
      "|     40|  male|         5|\n",
      "|     10|  male|         3|\n",
      "+-------+------+----------+\n",
      "\n"
     ]
    }
   ],
   "source": [
    "# Выведем топ-5 страниц, которые чаще всего посещают мужчины\n",
    "df_all.groupby('page_id', 'gender')\\\n",
    "    .agg(F.count(\"*\").alias('page_count'))\\\n",
    "    .orderBy('page_count', ascending = False)\\\n",
    "    .filter(F.col('gender') == 'male')\\\n",
    "    .show(5)"
   ]
  },
  {
   "cell_type": "code",
   "execution_count": 30,
   "id": "8c082d79",
   "metadata": {},
   "outputs": [
    {
     "name": "stdout",
     "output_type": "stream",
     "text": [
      "+-------+------+----------+\n",
      "|page_id|gender|page_count|\n",
      "+-------+------+----------+\n",
      "|     10|female|         5|\n",
      "|     20|female|         3|\n",
      "|     30|female|         2|\n",
      "|     40|female|         1|\n",
      "+-------+------+----------+\n",
      "\n"
     ]
    }
   ],
   "source": [
    "# Выведем топ-5 страниц, которые чаще всего посещают женщины\n",
    "df_all.groupby('page_id', 'gender')\\\n",
    "    .agg(F.count(\"*\").alias('page_count'))\\\n",
    "    .orderBy('page_count', ascending = False)\\\n",
    "    .filter(F.col('gender') == 'female')\\\n",
    "    .show(5)"
   ]
  },
  {
   "cell_type": "markdown",
   "id": "7f436788",
   "metadata": {},
   "source": [
    "Вариант решения этой же задачи, но с оконной функцией."
   ]
  },
  {
   "cell_type": "code",
   "execution_count": 31,
   "id": "08863576",
   "metadata": {},
   "outputs": [
    {
     "name": "stdout",
     "output_type": "stream",
     "text": [
      "+-------+------+----------+-------+\n",
      "|page_id|gender|page_count|max_cnt|\n",
      "+-------+------+----------+-------+\n",
      "|     10|female|         5|      5|\n",
      "|     30|  male|         6|      6|\n",
      "+-------+------+----------+-------+\n",
      "\n"
     ]
    }
   ],
   "source": [
    "df_all.groupby('page_id', 'gender')\\\n",
    "    .agg(F.count(\"*\").alias('page_count'))\\\n",
    "    .orderBy('page_count', ascending = False)\\\n",
    "    .withColumn('max_cnt', F.max(F.col('page_count'))\\\n",
    "               .over(Window.partitionBy('gender')))\\\n",
    "    .filter(F.col('page_count') == F.col('max_cnt'))\\\n",
    "    .show(10) "
   ]
  },
  {
   "cell_type": "markdown",
   "id": "7fae74bc",
   "metadata": {},
   "source": [
    "## Часть 2 \n"
   ]
  },
  {
   "cell_type": "markdown",
   "id": "d093a909",
   "metadata": {},
   "source": [
    "**Задача:**\n",
    "\n",
    "* Создать в Postgres таблицы аналогичной структуры\n",
    "\n",
    "* Создать витрину данных по собственному желанию"
   ]
  },
  {
   "cell_type": "code",
   "execution_count": 39,
   "id": "f05c41cb",
   "metadata": {},
   "outputs": [
    {
     "name": "stdout",
     "output_type": "stream",
     "text": [
      "Requirement already satisfied: psycopg2 in c:\\users\\asus\\anaconda3\\lib\\site-packages (2.9.5)\n"
     ]
    }
   ],
   "source": [
    "!pip install psycopg2"
   ]
  },
  {
   "cell_type": "code",
   "execution_count": 40,
   "id": "00bb6b5f",
   "metadata": {},
   "outputs": [],
   "source": [
    "import psycopg2\n",
    "\n",
    "conn = psycopg2.connect(\n",
    "    database=\"airflow\",\n",
    "    user=\"airflow\",\n",
    "    password=\"airflow\",\n",
    "    host=\"127.0.0.1\",\n",
    "    port=\"35432\"\n",
    ")\n",
    "\n",
    "cur = conn.cursor()\n"
   ]
  },
  {
   "cell_type": "markdown",
   "id": "84c971b9",
   "metadata": {},
   "source": [
    "Создадим первый фрейм данных"
   ]
  },
  {
   "cell_type": "code",
   "execution_count": 41,
   "id": "87cb085c",
   "metadata": {},
   "outputs": [],
   "source": [
    "create_posts_table = \"\"\"\n",
    "CREATE TABLE IF NOT EXISTS PAGE (\n",
    "  id INTEGER NOT NULL, \n",
    "  event_time BIGINT,\n",
    "  type TEXT,\n",
    "  page_id INTEGER NOT NULL, \n",
    "  tag TEXT, \n",
    "  sign BOOL\n",
    ")\n",
    "\"\"\"\n",
    "\n",
    "conn.autocommit = True\n",
    "cur.execute(create_posts_table)"
   ]
  },
  {
   "cell_type": "raw",
   "id": "759af51b",
   "metadata": {},
   "source": [
    "''' data_web = [  (1, 1668967844, 'click', 30, 'sport', True), \n",
    "              (2, 1668477844,'scroll', 40, 'medical', False),\n",
    "              (3, 1668967841,'click', 40, 'politic', True),\n",
    "              (4, 1668989844,'', 40, 'sport', False),\n",
    "              (5, 1668912843, 'scroll', 10, 'medical', False),\n",
    "              (6, 1668237845,'visit', 10, 'politic', True),\n",
    "              (7, 1668967844,'move', 20, 'medical', True),\n",
    "              (8, 1668967856, 'visit', 30, 'sport', True),\n",
    "              (9, 1668967844,'click', 30, 'politic', True),\n",
    "              (10, 1668968878, 'visit', 30, 'sport', True),\n",
    "              (1, 1668967844, 'visit', 30, 'sport', True),\n",
    "              (10, 1668935678,'scroll', 40, 'medical', True),\n",
    "              (10, 1668967844,'click', 40, 'politic', True),\n",
    "              (4, 1668346777,'visit', 20, 'medical', False),\n",
    "              (5, 1668456868, 'scroll', 10, 'medical', False),\n",
    "              (5, 1668456484,'move', 10, 'politic', False),\n",
    "              (7, 1668967844,'move', 20, 'medical', True),\n",
    "              (10, 1666778844, 'visit', 30, 'sport', True),\n",
    "              (9, 1668645644,'move', 30, 'politic', True),\n",
    "              (1, 1668577844, 'visit', 30, 'sport', True),\n",
    "              (6, 1668547444,'scroll', 40, 'politic', True),\n",
    "              (7, 1666568474,'scroll', 10, 'medical', True),\n",
    "              (10, 1661478494, 'visit', 10, 'sport', True),\n",
    "              (9, 1668196744,'visit', 10, 'politic', True),\n",
    "              (1, 1668197890, 'visit', 10, 'politic', True)\n",
    "            ] '''"
   ]
  },
  {
   "cell_type": "markdown",
   "id": "5481fb39",
   "metadata": {},
   "source": [
    "Наполним его значениями"
   ]
  },
  {
   "cell_type": "code",
   "execution_count": 42,
   "id": "f49bfd23",
   "metadata": {},
   "outputs": [],
   "source": [
    "data_web_records = \", \".join([\"%s\"] * len(data_web))\n",
    "\n",
    "insert_query = (\n",
    "    f\"INSERT INTO PAGE (id, event_time, type, page_id, tag, sign) VALUES {data_web_records}\"\n",
    ")\n",
    "\n",
    "conn.autocommit = True\n",
    "cur.execute(insert_query, data_web)"
   ]
  },
  {
   "cell_type": "code",
   "execution_count": 43,
   "id": "c38d5121",
   "metadata": {},
   "outputs": [
    {
     "data": {
      "text/plain": [
       "'%s, %s, %s, %s, %s, %s, %s, %s, %s, %s, %s, %s, %s, %s, %s, %s, %s, %s, %s, %s, %s, %s, %s, %s, %s'"
      ]
     },
     "execution_count": 43,
     "metadata": {},
     "output_type": "execute_result"
    }
   ],
   "source": [
    "data_web_records"
   ]
  },
  {
   "cell_type": "markdown",
   "id": "38aab347",
   "metadata": {},
   "source": [
    "Создадим второй фрейм данных"
   ]
  },
  {
   "cell_type": "code",
   "execution_count": 44,
   "id": "5c10752d",
   "metadata": {},
   "outputs": [],
   "source": [
    "create_posts_table = \"\"\"\n",
    "CREATE TABLE IF NOT EXISTS DIR__ (\n",
    "  id SERIAL PRIMARY KEY, \n",
    "  user_id INTEGER NOT NULL, \n",
    "  fio TEXT NOT NULL, \n",
    "  date_birth TIMESTAMP,\n",
    "  time_lk TIMESTAMP\n",
    ")\n",
    "\"\"\"\n",
    "conn.autocommit = True\n",
    "cur.execute(create_posts_table)"
   ]
  },
  {
   "cell_type": "raw",
   "id": "d0e548b1",
   "metadata": {},
   "source": [
    "'''data_lk = [(101, 1, 'James Smith', datetime.datetime(1991, 4, 1), datetime.datetime(2021, 4, 1)),\n",
    "  (102, 2, 'Michael Rose', datetime.datetime(1994, 7, 1), datetime.datetime(2021, 7, 1)),\n",
    "  (103, 3, 'Robert Williams', datetime.datetime(1998, 6, 11).date(),datetime.datetime(2022, 4, 4)),\n",
    "  (104, 4, 'Maria Anne Jones', datetime.datetime(1999, 12, 14),datetime.datetime(2020, 2, 11)),\n",
    "  (105, 5, 'Jen Mary Brown', datetime.datetime(1992, 11, 17), datetime.datetime(2020, 5, 10)),\n",
    "  (106, 6, 'Jake Ray', datetime.datetime(1991, 4, 1), datetime.datetime(2021, 4, 1)),\n",
    "  (107, 7, 'Milly Ann Rose', datetime.datetime(1994, 7, 1), datetime.datetime(2021, 7, 1)),\n",
    "  (108, 8, 'Robert Grey', datetime.datetime(1998, 6, 11).date(),datetime.datetime(2022, 4, 4)),\n",
    "  (109, 9, 'Rose Anne Jones', datetime.datetime(1999, 12, 14),datetime.datetime(2020, 2, 11)),\n",
    "  (110, 10, 'Mark White', datetime.datetime(1992, 11, 17), datetime.datetime(2020, 5, 10))\n",
    "]'''"
   ]
  },
  {
   "cell_type": "markdown",
   "id": "d2d24bad",
   "metadata": {},
   "source": [
    "Наполним его значениями"
   ]
  },
  {
   "cell_type": "code",
   "execution_count": 45,
   "id": "70c26df3",
   "metadata": {},
   "outputs": [],
   "source": [
    "data_lk_records = \", \".join([\"%s\"] * len(data_lk))\n",
    "\n",
    "insert_query = (\n",
    "    f\"INSERT INTO DIR__ (id, user_id, fio, date_birth, time_lk) VALUES {data_lk_records}\"\n",
    ")\n",
    "\n",
    "conn.autocommit = True\n",
    "cur = conn.cursor()\n",
    "cur.execute(insert_query, data_lk)"
   ]
  },
  {
   "cell_type": "code",
   "execution_count": 46,
   "id": "dad3217f",
   "metadata": {},
   "outputs": [
    {
     "name": "stdout",
     "output_type": "stream",
     "text": [
      "(101, 1, 'James Smith', datetime.datetime(1991, 4, 1, 0, 0), datetime.datetime(2021, 4, 1, 0, 0))\n",
      "(102, 2, 'Michael Rose', datetime.datetime(1994, 7, 1, 0, 0), datetime.datetime(2021, 7, 1, 0, 0))\n",
      "(103, 3, 'Robert Williams', datetime.datetime(1998, 6, 11, 0, 0), datetime.datetime(2022, 4, 4, 0, 0))\n",
      "(104, 4, 'Maria Anne Jones', datetime.datetime(1999, 12, 14, 0, 0), datetime.datetime(2020, 2, 11, 0, 0))\n",
      "(105, 5, 'Jen Mary Brown', datetime.datetime(1992, 11, 17, 0, 0), datetime.datetime(2020, 5, 10, 0, 0))\n",
      "(106, 6, 'Jake Ray', datetime.datetime(1991, 4, 1, 0, 0), datetime.datetime(2021, 4, 1, 0, 0))\n",
      "(107, 7, 'Milly Ann Rose', datetime.datetime(1994, 7, 1, 0, 0), datetime.datetime(2021, 7, 1, 0, 0))\n",
      "(108, 8, 'Robert Grey', datetime.datetime(1998, 6, 11, 0, 0), datetime.datetime(2022, 4, 4, 0, 0))\n",
      "(109, 9, 'Rose Anne Jones', datetime.datetime(1999, 12, 14, 0, 0), datetime.datetime(2020, 2, 11, 0, 0))\n",
      "(110, 10, 'Mark White', datetime.datetime(1992, 11, 17, 0, 0), datetime.datetime(2020, 5, 10, 0, 0))\n"
     ]
    }
   ],
   "source": [
    "#  Посмотрим на данные в таблице DIRR\n",
    "cur.execute(\"SELECT * FROM DIR__ \")\n",
    "dirs = cur.fetchall()\n",
    "for row in dirs:\n",
    "    print(row)"
   ]
  },
  {
   "cell_type": "code",
   "execution_count": 47,
   "id": "35a001db",
   "metadata": {},
   "outputs": [
    {
     "name": "stdout",
     "output_type": "stream",
     "text": [
      "(1, 'male', 101)\n",
      "(2, 'female', 102)\n",
      "(3, 'male', 103)\n",
      "(4, 'female', 104)\n",
      "(5, 'female', 105)\n",
      "(6, 'male', 106)\n",
      "(7, 'female', 107)\n",
      "(8, 'male', 108)\n",
      "(9, 'female', 109)\n",
      "(10, 'male', 110)\n"
     ]
    }
   ],
   "source": [
    "# Выберем id пользователя, пол, номер личного кабинета\n",
    "cur.execute(\"SELECT DISTINCT(d.user_id) AS id, \\\n",
    "                   CASE WHEN d.fio LIKE ANY (ARRAY['%Maria%', '%Rose%', '%Jen%', '%Milly%']) THEN 'female'\\\n",
    "                         ELSE 'male' END as gender,\\\n",
    "                   d.id AS lk_id\\\n",
    "            FROM page AS p LEFT JOIN dir__ AS d ON p.id=d.user_id\\\n",
    "            ORDER BY id\\\n",
    "            LIMIT(20)\")\n",
    "            \n",
    "            \n",
    "dirs = cur.fetchall()            \n",
    "for row in dirs:\n",
    "    print(row) "
   ]
  },
  {
   "cell_type": "code",
   "execution_count": 48,
   "id": "f12014c8",
   "metadata": {},
   "outputs": [
    {
     "name": "stdout",
     "output_type": "stream",
     "text": [
      "(1, 'sport', 18, 18)\n",
      "(1, 'politic', 6, 18)\n",
      "(2, 'medical', 6, 6)\n",
      "(3, 'politic', 6, 6)\n",
      "(4, 'medical', 6, 6)\n",
      "(4, 'sport', 6, 6)\n",
      "(5, 'medical', 12, 12)\n",
      "(5, 'politic', 6, 12)\n",
      "(6, 'politic', 12, 12)\n",
      "(7, 'medical', 18, 18)\n",
      "(8, 'sport', 6, 6)\n",
      "(9, 'politic', 18, 18)\n",
      "(10, 'sport', 18, 18)\n",
      "(10, 'politic', 6, 18)\n",
      "(10, 'medical', 6, 18)\n"
     ]
    }
   ],
   "source": [
    "# Выведем id пользователя, новостную тематику, количесвто ее просмотров\n",
    "#и максимальное количество просмотров одной новости у данного пользователя с помощью оконной функции\n",
    "cur.execute(\"SELECT id, tag, count, max(count) OVER (PARTITION BY id) from \\\n",
    "            (SELECT id, TAG, COUNT(tag) AS count FROM page GROUP BY id,TAG ORDER BY ID ASC, count DESC) as t_1\")\n",
    "dirs = cur.fetchall()\n",
    "for row in dirs:\n",
    "    print(row)"
   ]
  },
  {
   "cell_type": "code",
   "execution_count": 49,
   "id": "921bf714",
   "metadata": {},
   "outputs": [
    {
     "name": "stdout",
     "output_type": "stream",
     "text": [
      "(1, 24)\n",
      "(2, 6)\n",
      "(3, 6)\n",
      "(4, 12)\n",
      "(5, 18)\n",
      "(6, 12)\n",
      "(7, 18)\n",
      "(8, 6)\n",
      "(9, 18)\n",
      "(10, 30)\n"
     ]
    }
   ],
   "source": [
    "# Выведем id пользователя, и количество посещений этим пользователем каких-либо интернет страниц\n",
    "cur.execute(\"SELECT id, sum(count)::int AS page_count FROM \\\n",
    "                (SELECT id, page_id, count(page_id) as count FROM page GROUP BY id, page_id ORDER BY ID ASC, count DESC)\\\n",
    "                            AS t_1 GROUP BY id\")\n",
    "dirs = cur.fetchall()\n",
    "for row in dirs:\n",
    "    print(row)"
   ]
  },
  {
   "cell_type": "code",
   "execution_count": 50,
   "id": "f9bc26dd",
   "metadata": {},
   "outputs": [],
   "source": [
    "cur.close()\n",
    "conn.close()"
   ]
  }
 ],
 "metadata": {
  "kernelspec": {
   "display_name": "Python 3 (ipykernel)",
   "language": "python",
   "name": "python3"
  },
  "language_info": {
   "codemirror_mode": {
    "name": "ipython",
    "version": 3
   },
   "file_extension": ".py",
   "mimetype": "text/x-python",
   "name": "python",
   "nbconvert_exporter": "python",
   "pygments_lexer": "ipython3",
   "version": "3.9.12"
  },
  "toc": {
   "base_numbering": 1,
   "nav_menu": {},
   "number_sections": true,
   "sideBar": true,
   "skip_h1_title": false,
   "title_cell": "Table of Contents",
   "title_sidebar": "Contents",
   "toc_cell": false,
   "toc_position": {
    "height": "calc(100% - 180px)",
    "left": "10px",
    "top": "150px",
    "width": "337.417px"
   },
   "toc_section_display": true,
   "toc_window_display": true
  }
 },
 "nbformat": 4,
 "nbformat_minor": 5
}
