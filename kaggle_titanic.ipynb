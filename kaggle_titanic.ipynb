{
 "cells": [
  {
   "cell_type": "markdown",
   "metadata": {},
   "source": [
    "<h1> Титаник <span class=\"tocSkip\"></span></h1>"
   ]
  },
  {
   "cell_type": "markdown",
   "metadata": {},
   "source": [
    "<h1> Задача: <span class=\"tocSkip\"></span></h1>\n",
    "\n",
    "Поработать с датасетом Titanic с kaggle. Да, куда же без классики. =)\n",
    "\n",
    "Ссылка на соревнование: https://www.kaggle.com/competitions/titanic/data?select=train.csv\n",
    "\n",
    "Осуществить предобработку, обучить несколько моделей на тренировочной выборке, проверить на тестовой, сделать выводы.\n",
    "\n",
    "Выполнить submission в соревновании на kaggle."
   ]
  },
  {
   "cell_type": "code",
   "execution_count": 1,
   "metadata": {
    "colab": {
     "base_uri": "https://localhost:8080/"
    },
    "id": "9SwMRLspyhmT",
    "outputId": "04743640-7218-47a3-f890-976374cf13d4"
   },
   "outputs": [
    {
     "name": "stdout",
     "output_type": "stream",
     "text": [
      "Looking in indexes: https://pypi.org/simple, https://us-python.pkg.dev/colab-wheels/public/simple/\n",
      "Collecting phik\n",
      "  Downloading phik-0.12.3-cp38-cp38-manylinux_2_17_x86_64.manylinux2014_x86_64.whl (679 kB)\n",
      "\u001b[2K     \u001b[90m━━━━━━━━━━━━━━━━━━━━━━━━━━━━━━━━━━━━━━\u001b[0m \u001b[32m679.5/679.5 KB\u001b[0m \u001b[31m10.0 MB/s\u001b[0m eta \u001b[36m0:00:00\u001b[0m\n",
      "\u001b[?25hRequirement already satisfied: scipy>=1.5.2 in /usr/local/lib/python3.8/dist-packages (from phik) (1.7.3)\n",
      "Requirement already satisfied: pandas>=0.25.1 in /usr/local/lib/python3.8/dist-packages (from phik) (1.3.5)\n",
      "Requirement already satisfied: joblib>=0.14.1 in /usr/local/lib/python3.8/dist-packages (from phik) (1.2.0)\n",
      "Requirement already satisfied: numpy>=1.18.0 in /usr/local/lib/python3.8/dist-packages (from phik) (1.21.6)\n",
      "Requirement already satisfied: matplotlib>=2.2.3 in /usr/local/lib/python3.8/dist-packages (from phik) (3.2.2)\n",
      "Requirement already satisfied: cycler>=0.10 in /usr/local/lib/python3.8/dist-packages (from matplotlib>=2.2.3->phik) (0.11.0)\n",
      "Requirement already satisfied: pyparsing!=2.0.4,!=2.1.2,!=2.1.6,>=2.0.1 in /usr/local/lib/python3.8/dist-packages (from matplotlib>=2.2.3->phik) (3.0.9)\n",
      "Requirement already satisfied: python-dateutil>=2.1 in /usr/local/lib/python3.8/dist-packages (from matplotlib>=2.2.3->phik) (2.8.2)\n",
      "Requirement already satisfied: kiwisolver>=1.0.1 in /usr/local/lib/python3.8/dist-packages (from matplotlib>=2.2.3->phik) (1.4.4)\n",
      "Requirement already satisfied: pytz>=2017.3 in /usr/local/lib/python3.8/dist-packages (from pandas>=0.25.1->phik) (2022.7)\n",
      "Requirement already satisfied: six>=1.5 in /usr/local/lib/python3.8/dist-packages (from python-dateutil>=2.1->matplotlib>=2.2.3->phik) (1.15.0)\n",
      "Installing collected packages: phik\n",
      "Successfully installed phik-0.12.3\n"
     ]
    }
   ],
   "source": [
    "import pandas as pd\n",
    "import numpy as np\n",
    "\n",
    "import matplotlib.pyplot as plt\n",
    "import seaborn as sns\n",
    "\n",
    "from sklearn.preprocessing import OneHotEncoder, StandardScaler\n",
    "from sklearn.model_selection import RandomizedSearchCV, train_test_split\n",
    "from sklearn.neighbors import KNeighborsClassifier\n",
    "from sklearn.linear_model import LogisticRegression\n",
    "from sklearn.metrics import f1_score, accuracy_score, roc_auc_score\n",
    "\n",
    "from google.colab import drive\n",
    "\n",
    "!pip install phik\n",
    "import phik\n",
    "from phik.report import plot_correlation_matrix\n",
    "from phik import report"
   ]
  },
  {
   "cell_type": "markdown",
   "metadata": {
    "id": "VyEon32wb86C"
   },
   "source": [
    "# Загрузка и первичный осмотр данных"
   ]
  },
  {
   "cell_type": "code",
   "execution_count": 2,
   "metadata": {
    "colab": {
     "base_uri": "https://localhost:8080/"
    },
    "id": "BQ942xqCbXBX",
    "outputId": "a783b11e-1039-48f7-dcdd-daf4501cba81"
   },
   "outputs": [
    {
     "name": "stdout",
     "output_type": "stream",
     "text": [
      "Mounted at /content/drive/\n"
     ]
    }
   ],
   "source": [
    "drive.mount('/content/drive/')"
   ]
  },
  {
   "cell_type": "code",
   "execution_count": 3,
   "metadata": {
    "id": "j89ILRXLb2_B"
   },
   "outputs": [],
   "source": [
    "df_train = pd.read_csv('/content/drive/MyDrive/titanic/train.csv')\n"
   ]
  },
  {
   "cell_type": "code",
   "execution_count": 4,
   "metadata": {
    "colab": {
     "base_uri": "https://localhost:8080/",
     "height": 285
    },
    "id": "xsaYoEMQhto8",
    "outputId": "1ca0fe59-b2ff-492b-de83-9ca023340af0"
   },
   "outputs": [
    {
     "data": {
      "text/html": [
       "\n",
       "  <div id=\"df-6a3ce559-cdda-42a2-82d5-710be1be937d\">\n",
       "    <div class=\"colab-df-container\">\n",
       "      <div>\n",
       "<style scoped>\n",
       "    .dataframe tbody tr th:only-of-type {\n",
       "        vertical-align: middle;\n",
       "    }\n",
       "\n",
       "    .dataframe tbody tr th {\n",
       "        vertical-align: top;\n",
       "    }\n",
       "\n",
       "    .dataframe thead th {\n",
       "        text-align: right;\n",
       "    }\n",
       "</style>\n",
       "<table border=\"1\" class=\"dataframe\">\n",
       "  <thead>\n",
       "    <tr style=\"text-align: right;\">\n",
       "      <th></th>\n",
       "      <th>PassengerId</th>\n",
       "      <th>Survived</th>\n",
       "      <th>Pclass</th>\n",
       "      <th>Name</th>\n",
       "      <th>Sex</th>\n",
       "      <th>Age</th>\n",
       "      <th>SibSp</th>\n",
       "      <th>Parch</th>\n",
       "      <th>Ticket</th>\n",
       "      <th>Fare</th>\n",
       "      <th>Cabin</th>\n",
       "      <th>Embarked</th>\n",
       "    </tr>\n",
       "  </thead>\n",
       "  <tbody>\n",
       "    <tr>\n",
       "      <th>0</th>\n",
       "      <td>1</td>\n",
       "      <td>0</td>\n",
       "      <td>3</td>\n",
       "      <td>Braund, Mr. Owen Harris</td>\n",
       "      <td>male</td>\n",
       "      <td>22.0</td>\n",
       "      <td>1</td>\n",
       "      <td>0</td>\n",
       "      <td>A/5 21171</td>\n",
       "      <td>7.2500</td>\n",
       "      <td>NaN</td>\n",
       "      <td>S</td>\n",
       "    </tr>\n",
       "    <tr>\n",
       "      <th>1</th>\n",
       "      <td>2</td>\n",
       "      <td>1</td>\n",
       "      <td>1</td>\n",
       "      <td>Cumings, Mrs. John Bradley (Florence Briggs Th...</td>\n",
       "      <td>female</td>\n",
       "      <td>38.0</td>\n",
       "      <td>1</td>\n",
       "      <td>0</td>\n",
       "      <td>PC 17599</td>\n",
       "      <td>71.2833</td>\n",
       "      <td>C85</td>\n",
       "      <td>C</td>\n",
       "    </tr>\n",
       "    <tr>\n",
       "      <th>2</th>\n",
       "      <td>3</td>\n",
       "      <td>1</td>\n",
       "      <td>3</td>\n",
       "      <td>Heikkinen, Miss. Laina</td>\n",
       "      <td>female</td>\n",
       "      <td>26.0</td>\n",
       "      <td>0</td>\n",
       "      <td>0</td>\n",
       "      <td>STON/O2. 3101282</td>\n",
       "      <td>7.9250</td>\n",
       "      <td>NaN</td>\n",
       "      <td>S</td>\n",
       "    </tr>\n",
       "    <tr>\n",
       "      <th>3</th>\n",
       "      <td>4</td>\n",
       "      <td>1</td>\n",
       "      <td>1</td>\n",
       "      <td>Futrelle, Mrs. Jacques Heath (Lily May Peel)</td>\n",
       "      <td>female</td>\n",
       "      <td>35.0</td>\n",
       "      <td>1</td>\n",
       "      <td>0</td>\n",
       "      <td>113803</td>\n",
       "      <td>53.1000</td>\n",
       "      <td>C123</td>\n",
       "      <td>S</td>\n",
       "    </tr>\n",
       "    <tr>\n",
       "      <th>4</th>\n",
       "      <td>5</td>\n",
       "      <td>0</td>\n",
       "      <td>3</td>\n",
       "      <td>Allen, Mr. William Henry</td>\n",
       "      <td>male</td>\n",
       "      <td>35.0</td>\n",
       "      <td>0</td>\n",
       "      <td>0</td>\n",
       "      <td>373450</td>\n",
       "      <td>8.0500</td>\n",
       "      <td>NaN</td>\n",
       "      <td>S</td>\n",
       "    </tr>\n",
       "  </tbody>\n",
       "</table>\n",
       "</div>\n",
       "      <button class=\"colab-df-convert\" onclick=\"convertToInteractive('df-6a3ce559-cdda-42a2-82d5-710be1be937d')\"\n",
       "              title=\"Convert this dataframe to an interactive table.\"\n",
       "              style=\"display:none;\">\n",
       "        \n",
       "  <svg xmlns=\"http://www.w3.org/2000/svg\" height=\"24px\"viewBox=\"0 0 24 24\"\n",
       "       width=\"24px\">\n",
       "    <path d=\"M0 0h24v24H0V0z\" fill=\"none\"/>\n",
       "    <path d=\"M18.56 5.44l.94 2.06.94-2.06 2.06-.94-2.06-.94-.94-2.06-.94 2.06-2.06.94zm-11 1L8.5 8.5l.94-2.06 2.06-.94-2.06-.94L8.5 2.5l-.94 2.06-2.06.94zm10 10l.94 2.06.94-2.06 2.06-.94-2.06-.94-.94-2.06-.94 2.06-2.06.94z\"/><path d=\"M17.41 7.96l-1.37-1.37c-.4-.4-.92-.59-1.43-.59-.52 0-1.04.2-1.43.59L10.3 9.45l-7.72 7.72c-.78.78-.78 2.05 0 2.83L4 21.41c.39.39.9.59 1.41.59.51 0 1.02-.2 1.41-.59l7.78-7.78 2.81-2.81c.8-.78.8-2.07 0-2.86zM5.41 20L4 18.59l7.72-7.72 1.47 1.35L5.41 20z\"/>\n",
       "  </svg>\n",
       "      </button>\n",
       "      \n",
       "  <style>\n",
       "    .colab-df-container {\n",
       "      display:flex;\n",
       "      flex-wrap:wrap;\n",
       "      gap: 12px;\n",
       "    }\n",
       "\n",
       "    .colab-df-convert {\n",
       "      background-color: #E8F0FE;\n",
       "      border: none;\n",
       "      border-radius: 50%;\n",
       "      cursor: pointer;\n",
       "      display: none;\n",
       "      fill: #1967D2;\n",
       "      height: 32px;\n",
       "      padding: 0 0 0 0;\n",
       "      width: 32px;\n",
       "    }\n",
       "\n",
       "    .colab-df-convert:hover {\n",
       "      background-color: #E2EBFA;\n",
       "      box-shadow: 0px 1px 2px rgba(60, 64, 67, 0.3), 0px 1px 3px 1px rgba(60, 64, 67, 0.15);\n",
       "      fill: #174EA6;\n",
       "    }\n",
       "\n",
       "    [theme=dark] .colab-df-convert {\n",
       "      background-color: #3B4455;\n",
       "      fill: #D2E3FC;\n",
       "    }\n",
       "\n",
       "    [theme=dark] .colab-df-convert:hover {\n",
       "      background-color: #434B5C;\n",
       "      box-shadow: 0px 1px 3px 1px rgba(0, 0, 0, 0.15);\n",
       "      filter: drop-shadow(0px 1px 2px rgba(0, 0, 0, 0.3));\n",
       "      fill: #FFFFFF;\n",
       "    }\n",
       "  </style>\n",
       "\n",
       "      <script>\n",
       "        const buttonEl =\n",
       "          document.querySelector('#df-6a3ce559-cdda-42a2-82d5-710be1be937d button.colab-df-convert');\n",
       "        buttonEl.style.display =\n",
       "          google.colab.kernel.accessAllowed ? 'block' : 'none';\n",
       "\n",
       "        async function convertToInteractive(key) {\n",
       "          const element = document.querySelector('#df-6a3ce559-cdda-42a2-82d5-710be1be937d');\n",
       "          const dataTable =\n",
       "            await google.colab.kernel.invokeFunction('convertToInteractive',\n",
       "                                                     [key], {});\n",
       "          if (!dataTable) return;\n",
       "\n",
       "          const docLinkHtml = 'Like what you see? Visit the ' +\n",
       "            '<a target=\"_blank\" href=https://colab.research.google.com/notebooks/data_table.ipynb>data table notebook</a>'\n",
       "            + ' to learn more about interactive tables.';\n",
       "          element.innerHTML = '';\n",
       "          dataTable['output_type'] = 'display_data';\n",
       "          await google.colab.output.renderOutput(dataTable, element);\n",
       "          const docLink = document.createElement('div');\n",
       "          docLink.innerHTML = docLinkHtml;\n",
       "          element.appendChild(docLink);\n",
       "        }\n",
       "      </script>\n",
       "    </div>\n",
       "  </div>\n",
       "  "
      ],
      "text/plain": [
       "   PassengerId  Survived  Pclass  \\\n",
       "0            1         0       3   \n",
       "1            2         1       1   \n",
       "2            3         1       3   \n",
       "3            4         1       1   \n",
       "4            5         0       3   \n",
       "\n",
       "                                                Name     Sex   Age  SibSp  \\\n",
       "0                            Braund, Mr. Owen Harris    male  22.0      1   \n",
       "1  Cumings, Mrs. John Bradley (Florence Briggs Th...  female  38.0      1   \n",
       "2                             Heikkinen, Miss. Laina  female  26.0      0   \n",
       "3       Futrelle, Mrs. Jacques Heath (Lily May Peel)  female  35.0      1   \n",
       "4                           Allen, Mr. William Henry    male  35.0      0   \n",
       "\n",
       "   Parch            Ticket     Fare Cabin Embarked  \n",
       "0      0         A/5 21171   7.2500   NaN        S  \n",
       "1      0          PC 17599  71.2833   C85        C  \n",
       "2      0  STON/O2. 3101282   7.9250   NaN        S  \n",
       "3      0            113803  53.1000  C123        S  \n",
       "4      0            373450   8.0500   NaN        S  "
      ]
     },
     "execution_count": 4,
     "metadata": {},
     "output_type": "execute_result"
    }
   ],
   "source": [
    "df_train.head()"
   ]
  },
  {
   "cell_type": "code",
   "execution_count": 5,
   "metadata": {
    "colab": {
     "base_uri": "https://localhost:8080/"
    },
    "id": "Hfs1cDEQhHOc",
    "outputId": "5cf6c346-7c4c-4ea7-9a2a-0ef18bac0734"
   },
   "outputs": [
    {
     "name": "stdout",
     "output_type": "stream",
     "text": [
      "<class 'pandas.core.frame.DataFrame'>\n",
      "RangeIndex: 891 entries, 0 to 890\n",
      "Data columns (total 12 columns):\n",
      " #   Column       Non-Null Count  Dtype  \n",
      "---  ------       --------------  -----  \n",
      " 0   PassengerId  891 non-null    int64  \n",
      " 1   Survived     891 non-null    int64  \n",
      " 2   Pclass       891 non-null    int64  \n",
      " 3   Name         891 non-null    object \n",
      " 4   Sex          891 non-null    object \n",
      " 5   Age          714 non-null    float64\n",
      " 6   SibSp        891 non-null    int64  \n",
      " 7   Parch        891 non-null    int64  \n",
      " 8   Ticket       891 non-null    object \n",
      " 9   Fare         891 non-null    float64\n",
      " 10  Cabin        204 non-null    object \n",
      " 11  Embarked     889 non-null    object \n",
      "dtypes: float64(2), int64(5), object(5)\n",
      "memory usage: 83.7+ KB\n"
     ]
    }
   ],
   "source": [
    "df_train.info()"
   ]
  },
  {
   "cell_type": "code",
   "execution_count": 6,
   "metadata": {
    "colab": {
     "base_uri": "https://localhost:8080/"
    },
    "id": "RB4ZUj3vcRWV",
    "outputId": "3b99f042-71bf-4e86-8338-e5a7405c4e04"
   },
   "outputs": [
    {
     "data": {
      "text/plain": [
       "PassengerId    0.000000\n",
       "Survived       0.000000\n",
       "Pclass         0.000000\n",
       "Name           0.000000\n",
       "Sex            0.000000\n",
       "Age            0.198653\n",
       "SibSp          0.000000\n",
       "Parch          0.000000\n",
       "Ticket         0.000000\n",
       "Fare           0.000000\n",
       "Cabin          0.771044\n",
       "Embarked       0.002245\n",
       "dtype: float64"
      ]
     },
     "execution_count": 6,
     "metadata": {},
     "output_type": "execute_result"
    }
   ],
   "source": [
    "df_train.isna().mean()"
   ]
  },
  {
   "cell_type": "markdown",
   "metadata": {
    "id": "hG5h1Df_cRt3"
   },
   "source": [
    "# Предобработка на скорую руку"
   ]
  },
  {
   "cell_type": "markdown",
   "metadata": {
    "id": "GIyhC4mRcU7J"
   },
   "source": [
    "Видим, что в столбце Cabin очень много пропусков, больше 77 %. Удалим этот столбец. Также удалим столбцы PassengerId, Name, Ticket тк они не несут смысловой нагрузки. Остальные столбцы пока оставим. "
   ]
  },
  {
   "cell_type": "markdown",
   "metadata": {
    "id": "aKKqAVQvAoJI"
   },
   "source": [
    "## Удаление избыточных признаков"
   ]
  },
  {
   "cell_type": "code",
   "execution_count": 7,
   "metadata": {
    "colab": {
     "base_uri": "https://localhost:8080/"
    },
    "id": "ZRH6ghy2b8Yf",
    "outputId": "7fbb18e1-d802-40a0-a8f7-eec967e357c6"
   },
   "outputs": [
    {
     "data": {
      "text/plain": [
       "Index(['Survived', 'Pclass', 'Sex', 'Age', 'SibSp', 'Parch', 'Fare',\n",
       "       'Embarked'],\n",
       "      dtype='object')"
      ]
     },
     "execution_count": 7,
     "metadata": {},
     "output_type": "execute_result"
    }
   ],
   "source": [
    "df_train = df_train.drop(columns=['PassengerId','Name', 'Ticket', 'Cabin'])\n",
    "df_train.columns"
   ]
  },
  {
   "cell_type": "code",
   "execution_count": 8,
   "metadata": {
    "colab": {
     "base_uri": "https://localhost:8080/"
    },
    "id": "T8ZOFzlHd28H",
    "outputId": "928d051e-9e88-4633-a9f7-e0cdeb2abd60"
   },
   "outputs": [
    {
     "name": "stdout",
     "output_type": "stream",
     "text": [
      "<class 'pandas.core.frame.DataFrame'>\n",
      "Int64Index: 889 entries, 0 to 890\n",
      "Data columns (total 8 columns):\n",
      " #   Column    Non-Null Count  Dtype  \n",
      "---  ------    --------------  -----  \n",
      " 0   Survived  889 non-null    int64  \n",
      " 1   Pclass    889 non-null    int64  \n",
      " 2   Sex       889 non-null    object \n",
      " 3   Age       712 non-null    float64\n",
      " 4   SibSp     889 non-null    int64  \n",
      " 5   Parch     889 non-null    int64  \n",
      " 6   Fare      889 non-null    float64\n",
      " 7   Embarked  889 non-null    object \n",
      "dtypes: float64(2), int64(4), object(2)\n",
      "memory usage: 62.5+ KB\n"
     ]
    }
   ],
   "source": [
    "df_train = df_train[df_train['Embarked'].isna() == False]\n",
    "df_train.info()"
   ]
  },
  {
   "cell_type": "markdown",
   "metadata": {
    "id": "m1aAvaTM67ti"
   },
   "source": [
    "Остались пропуски в столбце возраста. И пропусков довольно много. Попробуем что-то с этим сделать. "
   ]
  },
  {
   "cell_type": "markdown",
   "metadata": {
    "id": "_xxrQ2o7Asi6"
   },
   "source": [
    "## Корреляция"
   ]
  },
  {
   "cell_type": "markdown",
   "metadata": {
    "id": "VZRnzrby0aMe"
   },
   "source": [
    "Посмотрим матрицу корреляции между признаками."
   ]
  },
  {
   "cell_type": "code",
   "execution_count": 9,
   "metadata": {
    "colab": {
     "base_uri": "https://localhost:8080/",
     "height": 269
    },
    "id": "FcOH5tEI0Ubn",
    "outputId": "b25977b5-2726-43e4-8c35-a5801831c42e"
   },
   "outputs": [
    {
     "data": {
      "image/png": "[encoded data removed]",
      "text/plain": [
       "<Figure size 432x288 with 2 Axes>"
      ]
     },
     "metadata": {
      "needs_background": "light"
     },
     "output_type": "display_data"
    }
   ],
   "source": [
    "corr = df_train.corr() \n",
    "sns.heatmap(corr,\n",
    "            xticklabels=corr.columns.values,\n",
    "            yticklabels=corr.columns.values) \n",
    "plt.show()"
   ]
  },
  {
   "cell_type": "markdown",
   "metadata": {
    "id": "-yO0M_FZ0r80"
   },
   "source": [
    "Зависимости  между данными не найдено. \n",
    "\n",
    "Посмотрим распределение возрастов. "
   ]
  },
  {
   "cell_type": "markdown",
   "metadata": {
    "id": "uEIT1_SGAwdw"
   },
   "source": [
    "## Пропуски в AGE"
   ]
  },
  {
   "cell_type": "code",
   "execution_count": 10,
   "metadata": {
    "colab": {
     "base_uri": "https://localhost:8080/",
     "height": 265
    },
    "id": "ykH0N3kI0vz8",
    "outputId": "57594acb-2842-4874-ee6e-a761775181ae"
   },
   "outputs": [
    {
     "data": {
      "image/png": "[encoded data removed]",
      "text/plain": [
       "<Figure size 432x288 with 1 Axes>"
      ]
     },
     "metadata": {
      "needs_background": "light"
     },
     "output_type": "display_data"
    }
   ],
   "source": [
    "plt.hist(df_train['Age'])\n",
    "plt.show()"
   ]
  },
  {
   "cell_type": "markdown",
   "metadata": {
    "id": "WrgLpOzz8K-U"
   },
   "source": [
    "Заменим пропуски в столбце Age на 100."
   ]
  },
  {
   "cell_type": "code",
   "execution_count": 11,
   "metadata": {
    "id": "U6al-P2C29Ng"
   },
   "outputs": [],
   "source": [
    "df_train[\"Age\"] = df_train[\"Age\"].fillna(-1)"
   ]
  },
  {
   "cell_type": "code",
   "execution_count": 12,
   "metadata": {
    "id": "0AzhrgGg03QN"
   },
   "outputs": [],
   "source": [
    "df_train[\"Age\"] = df_train['Age'].transform(lambda x: x.round()).astype('int16')"
   ]
  },
  {
   "cell_type": "code",
   "execution_count": 13,
   "metadata": {
    "colab": {
     "base_uri": "https://localhost:8080/",
     "height": 265
    },
    "id": "anBU0KPb4kIl",
    "outputId": "dff114cf-558d-4367-acd3-1724c25c2998"
   },
   "outputs": [
    {
     "data": {
      "image/png": "[encoded data removed]",
      "text/plain": [
       "<Figure size 432x288 with 1 Axes>"
      ]
     },
     "metadata": {
      "needs_background": "light"
     },
     "output_type": "display_data"
    }
   ],
   "source": [
    "plt.hist(df_train['Age'])\n",
    "plt.show()"
   ]
  },
  {
   "cell_type": "code",
   "execution_count": 14,
   "metadata": {
    "colab": {
     "base_uri": "https://localhost:8080/",
     "height": 105
    },
    "id": "T7DpEbtS9Den",
    "outputId": "60f4fe49-9210-4eb6-f296-27bc2a6fcce7"
   },
   "outputs": [
    {
     "data": {
      "application/vnd.google.colaboratory.intrinsic+json": {
       "type": "string"
      },
      "text/plain": [
       "'df_train[\"M_Age\"] = np.where(\\n     df_train[\"Age\"].between(0, 20, inclusive=False),\\n    10,\\n    np.where(\\n     df_train[\"Age\"].between(20, 30, inclusive=False),\\n    25,\\n    np.where(\\n     df_train[\"Age\"].between(30, 40, inclusive=False),\\n    35,\\n     np.where(\\n        df_train[\"Age\"].between(40, 50, inclusive=False), \\n    45, \\n    np.where(\\n        df_train[\"Age\"].between(50, 60, inclusive=False), \\n    55, \\n    np.where(\\n        df_train[\"Age\"].between(60, 70, inclusive=False), \\n    65, \\n    np.where(\\n        df_train[\"Age\"].between(70, 80, inclusive=False), \\n    75, 80\\n\\n     ) ) ) ) ) )\\n) '"
      ]
     },
     "execution_count": 14,
     "metadata": {},
     "output_type": "execute_result"
    }
   ],
   "source": [
    "'''df_train[\"M_Age\"] = np.where(\n",
    "     df_train[\"Age\"].between(0, 20, inclusive=False),\n",
    "    10,\n",
    "    np.where(\n",
    "     df_train[\"Age\"].between(20, 30, inclusive=False),\n",
    "    25,\n",
    "    np.where(\n",
    "     df_train[\"Age\"].between(30, 40, inclusive=False),\n",
    "    35,\n",
    "     np.where(\n",
    "        df_train[\"Age\"].between(40, 50, inclusive=False), \n",
    "    45, \n",
    "    np.where(\n",
    "        df_train[\"Age\"].between(50, 60, inclusive=False), \n",
    "    55, \n",
    "    np.where(\n",
    "        df_train[\"Age\"].between(60, 70, inclusive=False), \n",
    "    65, \n",
    "    np.where(\n",
    "        df_train[\"Age\"].between(70, 80, inclusive=False), \n",
    "    75, 80\n",
    "\n",
    "     ) ) ) ) ) )\n",
    ") '''"
   ]
  },
  {
   "cell_type": "code",
   "execution_count": 15,
   "metadata": {
    "colab": {
     "base_uri": "https://localhost:8080/"
    },
    "id": "floFRiU5gRV2",
    "outputId": "7078f3d0-6e3c-413b-b5bf-d36a8f0f3a51"
   },
   "outputs": [
    {
     "name": "stdout",
     "output_type": "stream",
     "text": [
      "<class 'pandas.core.frame.DataFrame'>\n",
      "Int64Index: 889 entries, 0 to 890\n",
      "Data columns (total 8 columns):\n",
      " #   Column    Non-Null Count  Dtype  \n",
      "---  ------    --------------  -----  \n",
      " 0   Survived  889 non-null    int64  \n",
      " 1   Pclass    889 non-null    int64  \n",
      " 2   Sex       889 non-null    object \n",
      " 3   Age       889 non-null    int16  \n",
      " 4   SibSp     889 non-null    int64  \n",
      " 5   Parch     889 non-null    int64  \n",
      " 6   Fare      889 non-null    float64\n",
      " 7   Embarked  889 non-null    object \n",
      "dtypes: float64(1), int16(1), int64(4), object(2)\n",
      "memory usage: 57.3+ KB\n"
     ]
    }
   ],
   "source": [
    "df_train = df_train[df_train['Age'].isna() == False]\n",
    "df_train.info()"
   ]
  },
  {
   "cell_type": "markdown",
   "metadata": {
    "id": "ZFU6iCuPBOft"
   },
   "source": [
    "## Ящики с усами по числовым признакам"
   ]
  },
  {
   "cell_type": "markdown",
   "metadata": {
    "id": "vIJo7P881ev9"
   },
   "source": [
    "Построим ящики с усами для количественных признаков"
   ]
  },
  {
   "cell_type": "code",
   "execution_count": 16,
   "metadata": {
    "colab": {
     "base_uri": "https://localhost:8080/",
     "height": 677
    },
    "id": "ERA9jCaqe5ka",
    "outputId": "856d999b-179c-44ad-ef8b-29be81d3e0af"
   },
   "outputs": [
    {
     "data": {
      "image/png": "[encoded data removed]",
      "text/plain": [
       "<Figure size 1080x720 with 6 Axes>"
      ]
     },
     "metadata": {
      "needs_background": "light"
     },
     "output_type": "display_data"
    }
   ],
   "source": [
    "fig, (ax1, ax2, ax3, ax4, ax5, ax6) = plt.subplots(1, 6, figsize=(15,10)) #, sharey=True)\n",
    "sns.boxplot(data=df_train['Survived'],  ax=ax1) \n",
    "sns.boxplot(data=df_train['SibSp'], ax=ax2) \n",
    "sns.boxplot(data=df_train['Parch'], ax=ax3) \n",
    "sns.boxplot(data=df_train['Pclass'], ax=ax4)  \n",
    "sns.boxplot(data=df_train['Age'], ax=ax5) \n",
    "sns.boxplot(data=df_train['Fare'], ax=ax6) \n",
    "\n",
    "\n",
    "ax1.set_xlabel('Survived'), ax1.set_ylabel('')\n",
    "ax2.set_xlabel('SibSp'), ax2.set_ylabel('')\n",
    "ax3.set_xlabel('Parch'), ax3.set_ylabel('')\n",
    "ax4.set_xlabel('Pclass'), ax4.set_ylabel('')\n",
    "ax5.set_xlabel('Age'), ax5.set_ylabel('')\n",
    "ax6.set_xlabel('Fare'), ax6.set_ylabel('')\n",
    "\n",
    "plt.suptitle('Ящики с усами числовых признаков НЕ МАСШТАБИРОВАННЫЙ')\n",
    "plt.show()"
   ]
  },
  {
   "cell_type": "code",
   "execution_count": 17,
   "metadata": {
    "id": "ebtlBkSQ5tYQ"
   },
   "outputs": [],
   "source": [
    "col_cols = set(df_train.columns) - set(['Sex', 'Embarked'])\n",
    "cat_cols = set(df_train.columns) - set(col_cols)"
   ]
  },
  {
   "cell_type": "markdown",
   "metadata": {
    "id": "b7p4iJ9D3Mqn"
   },
   "source": [
    "Посмотрим на выбросы. Насколько они адекватны. "
   ]
  },
  {
   "cell_type": "markdown",
   "metadata": {
    "id": "MExPgSjx3T1D"
   },
   "source": [
    "SibSp — это число братьев, сестер или супругов на борту у человека."
   ]
  },
  {
   "cell_type": "code",
   "execution_count": 18,
   "metadata": {
    "colab": {
     "base_uri": "https://localhost:8080/"
    },
    "id": "mfrGrsYR2szu",
    "outputId": "9de098f6-2f63-40d4-bc4d-0eac828097c2"
   },
   "outputs": [
    {
     "data": {
      "text/plain": [
       "0    606\n",
       "1    209\n",
       "2     28\n",
       "4     18\n",
       "3     16\n",
       "8      7\n",
       "5      5\n",
       "Name: SibSp, dtype: int64"
      ]
     },
     "execution_count": 18,
     "metadata": {},
     "output_type": "execute_result"
    }
   ],
   "source": [
    "df_train['SibSp'].value_counts()"
   ]
  },
  {
   "cell_type": "markdown",
   "metadata": {
    "id": "yDTFT_Ve3Vos"
   },
   "source": [
    "Хорошо, цифры вполне реальны. Оставим как есть. "
   ]
  },
  {
   "cell_type": "markdown",
   "metadata": {
    "id": "-QMUV5wg34vb"
   },
   "source": [
    "Parch - это количество родителей / детей на борту."
   ]
  },
  {
   "cell_type": "code",
   "execution_count": 19,
   "metadata": {
    "colab": {
     "base_uri": "https://localhost:8080/"
    },
    "id": "Shj5u2Is3eG4",
    "outputId": "87b86fcc-5b0c-4d75-b0c9-ec26399529ad"
   },
   "outputs": [
    {
     "data": {
      "text/plain": [
       "0    676\n",
       "1    118\n",
       "2     80\n",
       "5      5\n",
       "3      5\n",
       "4      4\n",
       "6      1\n",
       "Name: Parch, dtype: int64"
      ]
     },
     "execution_count": 19,
     "metadata": {},
     "output_type": "execute_result"
    }
   ],
   "source": [
    "df_train['Parch'].value_counts()"
   ]
  },
  {
   "cell_type": "markdown",
   "metadata": {
    "id": "exd6o0nr38xj"
   },
   "source": [
    "Ок, тоже оставим как есть.\n",
    "\n",
    "Посмотрим на плату за проезд."
   ]
  },
  {
   "cell_type": "code",
   "execution_count": 20,
   "metadata": {
    "colab": {
     "base_uri": "https://localhost:8080/",
     "height": 424
    },
    "id": "R5Alwhus82JL",
    "outputId": "174790e1-4651-4693-854a-54b5cb88a2b2"
   },
   "outputs": [
    {
     "data": {
      "text/html": [
       "\n",
       "  <div id=\"df-dc1e8512-2445-4721-8d82-92599dbc7158\">\n",
       "    <div class=\"colab-df-container\">\n",
       "      <div>\n",
       "<style scoped>\n",
       "    .dataframe tbody tr th:only-of-type {\n",
       "        vertical-align: middle;\n",
       "    }\n",
       "\n",
       "    .dataframe tbody tr th {\n",
       "        vertical-align: top;\n",
       "    }\n",
       "\n",
       "    .dataframe thead th {\n",
       "        text-align: right;\n",
       "    }\n",
       "</style>\n",
       "<table border=\"1\" class=\"dataframe\">\n",
       "  <thead>\n",
       "    <tr style=\"text-align: right;\">\n",
       "      <th></th>\n",
       "      <th>Survived</th>\n",
       "      <th>Pclass</th>\n",
       "      <th>Sex</th>\n",
       "      <th>Age</th>\n",
       "      <th>SibSp</th>\n",
       "      <th>Parch</th>\n",
       "      <th>Fare</th>\n",
       "      <th>Embarked</th>\n",
       "    </tr>\n",
       "  </thead>\n",
       "  <tbody>\n",
       "    <tr>\n",
       "      <th>0</th>\n",
       "      <td>0</td>\n",
       "      <td>3</td>\n",
       "      <td>male</td>\n",
       "      <td>22</td>\n",
       "      <td>1</td>\n",
       "      <td>0</td>\n",
       "      <td>7.2500</td>\n",
       "      <td>S</td>\n",
       "    </tr>\n",
       "    <tr>\n",
       "      <th>1</th>\n",
       "      <td>1</td>\n",
       "      <td>1</td>\n",
       "      <td>female</td>\n",
       "      <td>38</td>\n",
       "      <td>1</td>\n",
       "      <td>0</td>\n",
       "      <td>71.2833</td>\n",
       "      <td>C</td>\n",
       "    </tr>\n",
       "    <tr>\n",
       "      <th>2</th>\n",
       "      <td>1</td>\n",
       "      <td>3</td>\n",
       "      <td>female</td>\n",
       "      <td>26</td>\n",
       "      <td>0</td>\n",
       "      <td>0</td>\n",
       "      <td>7.9250</td>\n",
       "      <td>S</td>\n",
       "    </tr>\n",
       "    <tr>\n",
       "      <th>3</th>\n",
       "      <td>1</td>\n",
       "      <td>1</td>\n",
       "      <td>female</td>\n",
       "      <td>35</td>\n",
       "      <td>1</td>\n",
       "      <td>0</td>\n",
       "      <td>53.1000</td>\n",
       "      <td>S</td>\n",
       "    </tr>\n",
       "    <tr>\n",
       "      <th>4</th>\n",
       "      <td>0</td>\n",
       "      <td>3</td>\n",
       "      <td>male</td>\n",
       "      <td>35</td>\n",
       "      <td>0</td>\n",
       "      <td>0</td>\n",
       "      <td>8.0500</td>\n",
       "      <td>S</td>\n",
       "    </tr>\n",
       "    <tr>\n",
       "      <th>...</th>\n",
       "      <td>...</td>\n",
       "      <td>...</td>\n",
       "      <td>...</td>\n",
       "      <td>...</td>\n",
       "      <td>...</td>\n",
       "      <td>...</td>\n",
       "      <td>...</td>\n",
       "      <td>...</td>\n",
       "    </tr>\n",
       "    <tr>\n",
       "      <th>886</th>\n",
       "      <td>0</td>\n",
       "      <td>2</td>\n",
       "      <td>male</td>\n",
       "      <td>27</td>\n",
       "      <td>0</td>\n",
       "      <td>0</td>\n",
       "      <td>13.0000</td>\n",
       "      <td>S</td>\n",
       "    </tr>\n",
       "    <tr>\n",
       "      <th>887</th>\n",
       "      <td>1</td>\n",
       "      <td>1</td>\n",
       "      <td>female</td>\n",
       "      <td>19</td>\n",
       "      <td>0</td>\n",
       "      <td>0</td>\n",
       "      <td>30.0000</td>\n",
       "      <td>S</td>\n",
       "    </tr>\n",
       "    <tr>\n",
       "      <th>888</th>\n",
       "      <td>0</td>\n",
       "      <td>3</td>\n",
       "      <td>female</td>\n",
       "      <td>-1</td>\n",
       "      <td>1</td>\n",
       "      <td>2</td>\n",
       "      <td>23.4500</td>\n",
       "      <td>S</td>\n",
       "    </tr>\n",
       "    <tr>\n",
       "      <th>889</th>\n",
       "      <td>1</td>\n",
       "      <td>1</td>\n",
       "      <td>male</td>\n",
       "      <td>26</td>\n",
       "      <td>0</td>\n",
       "      <td>0</td>\n",
       "      <td>30.0000</td>\n",
       "      <td>C</td>\n",
       "    </tr>\n",
       "    <tr>\n",
       "      <th>890</th>\n",
       "      <td>0</td>\n",
       "      <td>3</td>\n",
       "      <td>male</td>\n",
       "      <td>32</td>\n",
       "      <td>0</td>\n",
       "      <td>0</td>\n",
       "      <td>7.7500</td>\n",
       "      <td>Q</td>\n",
       "    </tr>\n",
       "  </tbody>\n",
       "</table>\n",
       "<p>889 rows × 8 columns</p>\n",
       "</div>\n",
       "      <button class=\"colab-df-convert\" onclick=\"convertToInteractive('df-dc1e8512-2445-4721-8d82-92599dbc7158')\"\n",
       "              title=\"Convert this dataframe to an interactive table.\"\n",
       "              style=\"display:none;\">\n",
       "        \n",
       "  <svg xmlns=\"http://www.w3.org/2000/svg\" height=\"24px\"viewBox=\"0 0 24 24\"\n",
       "       width=\"24px\">\n",
       "    <path d=\"M0 0h24v24H0V0z\" fill=\"none\"/>\n",
       "    <path d=\"M18.56 5.44l.94 2.06.94-2.06 2.06-.94-2.06-.94-.94-2.06-.94 2.06-2.06.94zm-11 1L8.5 8.5l.94-2.06 2.06-.94-2.06-.94L8.5 2.5l-.94 2.06-2.06.94zm10 10l.94 2.06.94-2.06 2.06-.94-2.06-.94-.94-2.06-.94 2.06-2.06.94z\"/><path d=\"M17.41 7.96l-1.37-1.37c-.4-.4-.92-.59-1.43-.59-.52 0-1.04.2-1.43.59L10.3 9.45l-7.72 7.72c-.78.78-.78 2.05 0 2.83L4 21.41c.39.39.9.59 1.41.59.51 0 1.02-.2 1.41-.59l7.78-7.78 2.81-2.81c.8-.78.8-2.07 0-2.86zM5.41 20L4 18.59l7.72-7.72 1.47 1.35L5.41 20z\"/>\n",
       "  </svg>\n",
       "      </button>\n",
       "      \n",
       "  <style>\n",
       "    .colab-df-container {\n",
       "      display:flex;\n",
       "      flex-wrap:wrap;\n",
       "      gap: 12px;\n",
       "    }\n",
       "\n",
       "    .colab-df-convert {\n",
       "      background-color: #E8F0FE;\n",
       "      border: none;\n",
       "      border-radius: 50%;\n",
       "      cursor: pointer;\n",
       "      display: none;\n",
       "      fill: #1967D2;\n",
       "      height: 32px;\n",
       "      padding: 0 0 0 0;\n",
       "      width: 32px;\n",
       "    }\n",
       "\n",
       "    .colab-df-convert:hover {\n",
       "      background-color: #E2EBFA;\n",
       "      box-shadow: 0px 1px 2px rgba(60, 64, 67, 0.3), 0px 1px 3px 1px rgba(60, 64, 67, 0.15);\n",
       "      fill: #174EA6;\n",
       "    }\n",
       "\n",
       "    [theme=dark] .colab-df-convert {\n",
       "      background-color: #3B4455;\n",
       "      fill: #D2E3FC;\n",
       "    }\n",
       "\n",
       "    [theme=dark] .colab-df-convert:hover {\n",
       "      background-color: #434B5C;\n",
       "      box-shadow: 0px 1px 3px 1px rgba(0, 0, 0, 0.15);\n",
       "      filter: drop-shadow(0px 1px 2px rgba(0, 0, 0, 0.3));\n",
       "      fill: #FFFFFF;\n",
       "    }\n",
       "  </style>\n",
       "\n",
       "      <script>\n",
       "        const buttonEl =\n",
       "          document.querySelector('#df-dc1e8512-2445-4721-8d82-92599dbc7158 button.colab-df-convert');\n",
       "        buttonEl.style.display =\n",
       "          google.colab.kernel.accessAllowed ? 'block' : 'none';\n",
       "\n",
       "        async function convertToInteractive(key) {\n",
       "          const element = document.querySelector('#df-dc1e8512-2445-4721-8d82-92599dbc7158');\n",
       "          const dataTable =\n",
       "            await google.colab.kernel.invokeFunction('convertToInteractive',\n",
       "                                                     [key], {});\n",
       "          if (!dataTable) return;\n",
       "\n",
       "          const docLinkHtml = 'Like what you see? Visit the ' +\n",
       "            '<a target=\"_blank\" href=https://colab.research.google.com/notebooks/data_table.ipynb>data table notebook</a>'\n",
       "            + ' to learn more about interactive tables.';\n",
       "          element.innerHTML = '';\n",
       "          dataTable['output_type'] = 'display_data';\n",
       "          await google.colab.output.renderOutput(dataTable, element);\n",
       "          const docLink = document.createElement('div');\n",
       "          docLink.innerHTML = docLinkHtml;\n",
       "          element.appendChild(docLink);\n",
       "        }\n",
       "      </script>\n",
       "    </div>\n",
       "  </div>\n",
       "  "
      ],
      "text/plain": [
       "     Survived  Pclass     Sex  Age  SibSp  Parch     Fare Embarked\n",
       "0           0       3    male   22      1      0   7.2500        S\n",
       "1           1       1  female   38      1      0  71.2833        C\n",
       "2           1       3  female   26      0      0   7.9250        S\n",
       "3           1       1  female   35      1      0  53.1000        S\n",
       "4           0       3    male   35      0      0   8.0500        S\n",
       "..        ...     ...     ...  ...    ...    ...      ...      ...\n",
       "886         0       2    male   27      0      0  13.0000        S\n",
       "887         1       1  female   19      0      0  30.0000        S\n",
       "888         0       3  female   -1      1      2  23.4500        S\n",
       "889         1       1    male   26      0      0  30.0000        C\n",
       "890         0       3    male   32      0      0   7.7500        Q\n",
       "\n",
       "[889 rows x 8 columns]"
      ]
     },
     "execution_count": 20,
     "metadata": {},
     "output_type": "execute_result"
    }
   ],
   "source": [
    "df_train"
   ]
  },
  {
   "cell_type": "code",
   "execution_count": 21,
   "metadata": {
    "id": "H78ANiII4GDT"
   },
   "outputs": [],
   "source": [
    "df_train = df_train[df_train['Fare'] < 100]"
   ]
  },
  {
   "cell_type": "markdown",
   "metadata": {
    "id": "rLP7yTH-42kb"
   },
   "source": [
    "Допустим, что кто-то платил очень много. Все это пассажиры первого класса, так что пусть останется все как есть. "
   ]
  },
  {
   "cell_type": "markdown",
   "metadata": {
    "id": "h6oALy53BVd_"
   },
   "source": [
    "## Гистограммы категориальных признаков"
   ]
  },
  {
   "cell_type": "markdown",
   "metadata": {
    "id": "nMOl2i6w6cr2"
   },
   "source": [
    "Построим гистограммы категориальных признаков."
   ]
  },
  {
   "cell_type": "code",
   "execution_count": 22,
   "metadata": {
    "colab": {
     "base_uri": "https://localhost:8080/",
     "height": 629
    },
    "id": "z_M0b4TN5ity",
    "outputId": "9f2c82b3-778b-43a3-df7e-05d434507c42"
   },
   "outputs": [
    {
     "data": {
      "image/png": "[encoded data removed]",
      "text/plain": [
       "<Figure size 1080x720 with 2 Axes>"
      ]
     },
     "metadata": {
      "needs_background": "light"
     },
     "output_type": "display_data"
    }
   ],
   "source": [
    "fig, ax = plt.subplots(1, 2, figsize=(15,10))\n",
    "\n",
    "ax = ax.ravel()\n",
    "j = 0\n",
    "for i in cat_cols:\n",
    "    \n",
    "    ax[j].set_title(f'{i}')\n",
    "    ax[j].bar(x = df_train[i].value_counts().index, height = df_train[i].value_counts().values)\n",
    "                  \n",
    "    labels = ax[j].get_xticklabels()\n",
    "    plt.setp(labels, rotation = 25, horizontalalignment = 'right')\n",
    "    plt.xticks(rotation=45) \n",
    "    plt.subplots_adjust(wspace=0.3, hspace=0.3)\n",
    "    j +=1\n",
    "    \n",
    "fig.show()"
   ]
  },
  {
   "cell_type": "markdown",
   "metadata": {
    "id": "2kvPGXNmA-vf"
   },
   "source": [
    "## Удаление дубликатов"
   ]
  },
  {
   "cell_type": "code",
   "execution_count": 23,
   "metadata": {
    "colab": {
     "base_uri": "https://localhost:8080/"
    },
    "id": "df6glNtyA_Pi",
    "outputId": "4a464d2a-3979-4356-aa88-d1ee40526989"
   },
   "outputs": [
    {
     "name": "stdout",
     "output_type": "stream",
     "text": [
      "<class 'pandas.core.frame.DataFrame'>\n",
      "Int64Index: 722 entries, 0 to 890\n",
      "Data columns (total 8 columns):\n",
      " #   Column    Non-Null Count  Dtype  \n",
      "---  ------    --------------  -----  \n",
      " 0   Survived  722 non-null    int64  \n",
      " 1   Pclass    722 non-null    int64  \n",
      " 2   Sex       722 non-null    object \n",
      " 3   Age       722 non-null    int16  \n",
      " 4   SibSp     722 non-null    int64  \n",
      " 5   Parch     722 non-null    int64  \n",
      " 6   Fare      722 non-null    float64\n",
      " 7   Embarked  722 non-null    object \n",
      "dtypes: float64(1), int16(1), int64(4), object(2)\n",
      "memory usage: 46.5+ KB\n"
     ]
    }
   ],
   "source": [
    "df_train= df_train.drop_duplicates()\n",
    "df_train.info()"
   ]
  },
  {
   "cell_type": "markdown",
   "metadata": {
    "id": "UG91MYQ9BD6U"
   },
   "source": [
    "## Распределение целевого признака"
   ]
  },
  {
   "cell_type": "markdown",
   "metadata": {
    "id": "7wf_51I97nMN"
   },
   "source": [
    "Посмотрим на распределение целевого признака. "
   ]
  },
  {
   "cell_type": "code",
   "execution_count": 24,
   "metadata": {
    "colab": {
     "base_uri": "https://localhost:8080/",
     "height": 281
    },
    "id": "fO0mNcEF7nMO",
    "outputId": "8e71ef8d-ba80-4e4b-efa3-862855c3766a"
   },
   "outputs": [
    {
     "data": {
      "image/png": "[encoded data removed]",
      "text/plain": [
       "<Figure size 432x288 with 1 Axes>"
      ]
     },
     "metadata": {
      "needs_background": "light"
     },
     "output_type": "display_data"
    }
   ],
   "source": [
    "plt.hist(df_train['Survived'], bins = 3)\n",
    "plt.title('Распределение целевого признака Churn')\n",
    "plt.text(0.13, df_train['Survived'].value_counts()[0]/2, df_train['Survived'].value_counts()[0], color='black', fontweight='bold')\n",
    "plt.text(0.80, df_train['Survived'].value_counts()[1]/2, df_train['Survived'].value_counts()[1], color='black', fontweight='bold')\n",
    "plt.show()"
   ]
  },
  {
   "cell_type": "markdown",
   "metadata": {
    "id": "PGuqWlUq_PPP"
   },
   "source": [
    "Видим, что классы более менее сбалансированы."
   ]
  },
  {
   "cell_type": "markdown",
   "metadata": {
    "id": "MErH8pZKBINe"
   },
   "source": [
    "## Кодирование категориальных признаков"
   ]
  },
  {
   "cell_type": "markdown",
   "metadata": {
    "id": "xqQeKwCh-_k6"
   },
   "source": [
    "Произведем кодирование категориальных признаков. Для CatBoost не будем производить кодирование, тк там оно встроено, поэтому создадим копию датасета. "
   ]
  },
  {
   "cell_type": "code",
   "execution_count": 25,
   "metadata": {
    "colab": {
     "base_uri": "https://localhost:8080/",
     "height": 206
    },
    "id": "pkAvAWtb8rdm",
    "outputId": "0a2995b8-8620-4bfc-ba7b-ce8acd8a5c94"
   },
   "outputs": [
    {
     "data": {
      "text/html": [
       "\n",
       "  <div id=\"df-7b8c2fb0-303c-4943-b66d-63d192308352\">\n",
       "    <div class=\"colab-df-container\">\n",
       "      <div>\n",
       "<style scoped>\n",
       "    .dataframe tbody tr th:only-of-type {\n",
       "        vertical-align: middle;\n",
       "    }\n",
       "\n",
       "    .dataframe tbody tr th {\n",
       "        vertical-align: top;\n",
       "    }\n",
       "\n",
       "    .dataframe thead th {\n",
       "        text-align: right;\n",
       "    }\n",
       "</style>\n",
       "<table border=\"1\" class=\"dataframe\">\n",
       "  <thead>\n",
       "    <tr style=\"text-align: right;\">\n",
       "      <th></th>\n",
       "      <th>Survived</th>\n",
       "      <th>Pclass</th>\n",
       "      <th>Sex</th>\n",
       "      <th>Age</th>\n",
       "      <th>SibSp</th>\n",
       "      <th>Parch</th>\n",
       "      <th>Fare</th>\n",
       "      <th>Embarked</th>\n",
       "    </tr>\n",
       "  </thead>\n",
       "  <tbody>\n",
       "    <tr>\n",
       "      <th>0</th>\n",
       "      <td>0</td>\n",
       "      <td>3</td>\n",
       "      <td>male</td>\n",
       "      <td>22</td>\n",
       "      <td>1</td>\n",
       "      <td>0</td>\n",
       "      <td>7.2500</td>\n",
       "      <td>S</td>\n",
       "    </tr>\n",
       "    <tr>\n",
       "      <th>1</th>\n",
       "      <td>1</td>\n",
       "      <td>1</td>\n",
       "      <td>female</td>\n",
       "      <td>38</td>\n",
       "      <td>1</td>\n",
       "      <td>0</td>\n",
       "      <td>71.2833</td>\n",
       "      <td>C</td>\n",
       "    </tr>\n",
       "    <tr>\n",
       "      <th>2</th>\n",
       "      <td>1</td>\n",
       "      <td>3</td>\n",
       "      <td>female</td>\n",
       "      <td>26</td>\n",
       "      <td>0</td>\n",
       "      <td>0</td>\n",
       "      <td>7.9250</td>\n",
       "      <td>S</td>\n",
       "    </tr>\n",
       "    <tr>\n",
       "      <th>3</th>\n",
       "      <td>1</td>\n",
       "      <td>1</td>\n",
       "      <td>female</td>\n",
       "      <td>35</td>\n",
       "      <td>1</td>\n",
       "      <td>0</td>\n",
       "      <td>53.1000</td>\n",
       "      <td>S</td>\n",
       "    </tr>\n",
       "    <tr>\n",
       "      <th>4</th>\n",
       "      <td>0</td>\n",
       "      <td>3</td>\n",
       "      <td>male</td>\n",
       "      <td>35</td>\n",
       "      <td>0</td>\n",
       "      <td>0</td>\n",
       "      <td>8.0500</td>\n",
       "      <td>S</td>\n",
       "    </tr>\n",
       "  </tbody>\n",
       "</table>\n",
       "</div>\n",
       "      <button class=\"colab-df-convert\" onclick=\"convertToInteractive('df-7b8c2fb0-303c-4943-b66d-63d192308352')\"\n",
       "              title=\"Convert this dataframe to an interactive table.\"\n",
       "              style=\"display:none;\">\n",
       "        \n",
       "  <svg xmlns=\"http://www.w3.org/2000/svg\" height=\"24px\"viewBox=\"0 0 24 24\"\n",
       "       width=\"24px\">\n",
       "    <path d=\"M0 0h24v24H0V0z\" fill=\"none\"/>\n",
       "    <path d=\"M18.56 5.44l.94 2.06.94-2.06 2.06-.94-2.06-.94-.94-2.06-.94 2.06-2.06.94zm-11 1L8.5 8.5l.94-2.06 2.06-.94-2.06-.94L8.5 2.5l-.94 2.06-2.06.94zm10 10l.94 2.06.94-2.06 2.06-.94-2.06-.94-.94-2.06-.94 2.06-2.06.94z\"/><path d=\"M17.41 7.96l-1.37-1.37c-.4-.4-.92-.59-1.43-.59-.52 0-1.04.2-1.43.59L10.3 9.45l-7.72 7.72c-.78.78-.78 2.05 0 2.83L4 21.41c.39.39.9.59 1.41.59.51 0 1.02-.2 1.41-.59l7.78-7.78 2.81-2.81c.8-.78.8-2.07 0-2.86zM5.41 20L4 18.59l7.72-7.72 1.47 1.35L5.41 20z\"/>\n",
       "  </svg>\n",
       "      </button>\n",
       "      \n",
       "  <style>\n",
       "    .colab-df-container {\n",
       "      display:flex;\n",
       "      flex-wrap:wrap;\n",
       "      gap: 12px;\n",
       "    }\n",
       "\n",
       "    .colab-df-convert {\n",
       "      background-color: #E8F0FE;\n",
       "      border: none;\n",
       "      border-radius: 50%;\n",
       "      cursor: pointer;\n",
       "      display: none;\n",
       "      fill: #1967D2;\n",
       "      height: 32px;\n",
       "      padding: 0 0 0 0;\n",
       "      width: 32px;\n",
       "    }\n",
       "\n",
       "    .colab-df-convert:hover {\n",
       "      background-color: #E2EBFA;\n",
       "      box-shadow: 0px 1px 2px rgba(60, 64, 67, 0.3), 0px 1px 3px 1px rgba(60, 64, 67, 0.15);\n",
       "      fill: #174EA6;\n",
       "    }\n",
       "\n",
       "    [theme=dark] .colab-df-convert {\n",
       "      background-color: #3B4455;\n",
       "      fill: #D2E3FC;\n",
       "    }\n",
       "\n",
       "    [theme=dark] .colab-df-convert:hover {\n",
       "      background-color: #434B5C;\n",
       "      box-shadow: 0px 1px 3px 1px rgba(0, 0, 0, 0.15);\n",
       "      filter: drop-shadow(0px 1px 2px rgba(0, 0, 0, 0.3));\n",
       "      fill: #FFFFFF;\n",
       "    }\n",
       "  </style>\n",
       "\n",
       "      <script>\n",
       "        const buttonEl =\n",
       "          document.querySelector('#df-7b8c2fb0-303c-4943-b66d-63d192308352 button.colab-df-convert');\n",
       "        buttonEl.style.display =\n",
       "          google.colab.kernel.accessAllowed ? 'block' : 'none';\n",
       "\n",
       "        async function convertToInteractive(key) {\n",
       "          const element = document.querySelector('#df-7b8c2fb0-303c-4943-b66d-63d192308352');\n",
       "          const dataTable =\n",
       "            await google.colab.kernel.invokeFunction('convertToInteractive',\n",
       "                                                     [key], {});\n",
       "          if (!dataTable) return;\n",
       "\n",
       "          const docLinkHtml = 'Like what you see? Visit the ' +\n",
       "            '<a target=\"_blank\" href=https://colab.research.google.com/notebooks/data_table.ipynb>data table notebook</a>'\n",
       "            + ' to learn more about interactive tables.';\n",
       "          element.innerHTML = '';\n",
       "          dataTable['output_type'] = 'display_data';\n",
       "          await google.colab.output.renderOutput(dataTable, element);\n",
       "          const docLink = document.createElement('div');\n",
       "          docLink.innerHTML = docLinkHtml;\n",
       "          element.appendChild(docLink);\n",
       "        }\n",
       "      </script>\n",
       "    </div>\n",
       "  </div>\n",
       "  "
      ],
      "text/plain": [
       "   Survived  Pclass     Sex  Age  SibSp  Parch     Fare Embarked\n",
       "0         0       3    male   22      1      0   7.2500        S\n",
       "1         1       1  female   38      1      0  71.2833        C\n",
       "2         1       3  female   26      0      0   7.9250        S\n",
       "3         1       1  female   35      1      0  53.1000        S\n",
       "4         0       3    male   35      0      0   8.0500        S"
      ]
     },
     "execution_count": 25,
     "metadata": {},
     "output_type": "execute_result"
    }
   ],
   "source": [
    "df_catboost = df_train.copy()\n",
    "df_catboost.head()"
   ]
  },
  {
   "cell_type": "code",
   "execution_count": 26,
   "metadata": {
    "colab": {
     "base_uri": "https://localhost:8080/",
     "height": 206
    },
    "id": "zbJXLchO-jOH",
    "outputId": "a0428814-e9bf-4930-a4e5-760272cad32d"
   },
   "outputs": [
    {
     "data": {
      "text/html": [
       "\n",
       "  <div id=\"df-ac7fde1a-9092-493d-a890-4bd740387d46\">\n",
       "    <div class=\"colab-df-container\">\n",
       "      <div>\n",
       "<style scoped>\n",
       "    .dataframe tbody tr th:only-of-type {\n",
       "        vertical-align: middle;\n",
       "    }\n",
       "\n",
       "    .dataframe tbody tr th {\n",
       "        vertical-align: top;\n",
       "    }\n",
       "\n",
       "    .dataframe thead th {\n",
       "        text-align: right;\n",
       "    }\n",
       "</style>\n",
       "<table border=\"1\" class=\"dataframe\">\n",
       "  <thead>\n",
       "    <tr style=\"text-align: right;\">\n",
       "      <th></th>\n",
       "      <th>Survived</th>\n",
       "      <th>Pclass</th>\n",
       "      <th>Age</th>\n",
       "      <th>SibSp</th>\n",
       "      <th>Parch</th>\n",
       "      <th>Fare</th>\n",
       "      <th>Sex_male</th>\n",
       "      <th>Embarked_Q</th>\n",
       "      <th>Embarked_S</th>\n",
       "    </tr>\n",
       "  </thead>\n",
       "  <tbody>\n",
       "    <tr>\n",
       "      <th>0</th>\n",
       "      <td>0</td>\n",
       "      <td>3</td>\n",
       "      <td>22</td>\n",
       "      <td>1</td>\n",
       "      <td>0</td>\n",
       "      <td>7.2500</td>\n",
       "      <td>1</td>\n",
       "      <td>0</td>\n",
       "      <td>1</td>\n",
       "    </tr>\n",
       "    <tr>\n",
       "      <th>1</th>\n",
       "      <td>1</td>\n",
       "      <td>1</td>\n",
       "      <td>38</td>\n",
       "      <td>1</td>\n",
       "      <td>0</td>\n",
       "      <td>71.2833</td>\n",
       "      <td>0</td>\n",
       "      <td>0</td>\n",
       "      <td>0</td>\n",
       "    </tr>\n",
       "    <tr>\n",
       "      <th>2</th>\n",
       "      <td>1</td>\n",
       "      <td>3</td>\n",
       "      <td>26</td>\n",
       "      <td>0</td>\n",
       "      <td>0</td>\n",
       "      <td>7.9250</td>\n",
       "      <td>0</td>\n",
       "      <td>0</td>\n",
       "      <td>1</td>\n",
       "    </tr>\n",
       "    <tr>\n",
       "      <th>3</th>\n",
       "      <td>1</td>\n",
       "      <td>1</td>\n",
       "      <td>35</td>\n",
       "      <td>1</td>\n",
       "      <td>0</td>\n",
       "      <td>53.1000</td>\n",
       "      <td>0</td>\n",
       "      <td>0</td>\n",
       "      <td>1</td>\n",
       "    </tr>\n",
       "    <tr>\n",
       "      <th>4</th>\n",
       "      <td>0</td>\n",
       "      <td>3</td>\n",
       "      <td>35</td>\n",
       "      <td>0</td>\n",
       "      <td>0</td>\n",
       "      <td>8.0500</td>\n",
       "      <td>1</td>\n",
       "      <td>0</td>\n",
       "      <td>1</td>\n",
       "    </tr>\n",
       "  </tbody>\n",
       "</table>\n",
       "</div>\n",
       "      <button class=\"colab-df-convert\" onclick=\"convertToInteractive('df-ac7fde1a-9092-493d-a890-4bd740387d46')\"\n",
       "              title=\"Convert this dataframe to an interactive table.\"\n",
       "              style=\"display:none;\">\n",
       "        \n",
       "  <svg xmlns=\"http://www.w3.org/2000/svg\" height=\"24px\"viewBox=\"0 0 24 24\"\n",
       "       width=\"24px\">\n",
       "    <path d=\"M0 0h24v24H0V0z\" fill=\"none\"/>\n",
       "    <path d=\"M18.56 5.44l.94 2.06.94-2.06 2.06-.94-2.06-.94-.94-2.06-.94 2.06-2.06.94zm-11 1L8.5 8.5l.94-2.06 2.06-.94-2.06-.94L8.5 2.5l-.94 2.06-2.06.94zm10 10l.94 2.06.94-2.06 2.06-.94-2.06-.94-.94-2.06-.94 2.06-2.06.94z\"/><path d=\"M17.41 7.96l-1.37-1.37c-.4-.4-.92-.59-1.43-.59-.52 0-1.04.2-1.43.59L10.3 9.45l-7.72 7.72c-.78.78-.78 2.05 0 2.83L4 21.41c.39.39.9.59 1.41.59.51 0 1.02-.2 1.41-.59l7.78-7.78 2.81-2.81c.8-.78.8-2.07 0-2.86zM5.41 20L4 18.59l7.72-7.72 1.47 1.35L5.41 20z\"/>\n",
       "  </svg>\n",
       "      </button>\n",
       "      \n",
       "  <style>\n",
       "    .colab-df-container {\n",
       "      display:flex;\n",
       "      flex-wrap:wrap;\n",
       "      gap: 12px;\n",
       "    }\n",
       "\n",
       "    .colab-df-convert {\n",
       "      background-color: #E8F0FE;\n",
       "      border: none;\n",
       "      border-radius: 50%;\n",
       "      cursor: pointer;\n",
       "      display: none;\n",
       "      fill: #1967D2;\n",
       "      height: 32px;\n",
       "      padding: 0 0 0 0;\n",
       "      width: 32px;\n",
       "    }\n",
       "\n",
       "    .colab-df-convert:hover {\n",
       "      background-color: #E2EBFA;\n",
       "      box-shadow: 0px 1px 2px rgba(60, 64, 67, 0.3), 0px 1px 3px 1px rgba(60, 64, 67, 0.15);\n",
       "      fill: #174EA6;\n",
       "    }\n",
       "\n",
       "    [theme=dark] .colab-df-convert {\n",
       "      background-color: #3B4455;\n",
       "      fill: #D2E3FC;\n",
       "    }\n",
       "\n",
       "    [theme=dark] .colab-df-convert:hover {\n",
       "      background-color: #434B5C;\n",
       "      box-shadow: 0px 1px 3px 1px rgba(0, 0, 0, 0.15);\n",
       "      filter: drop-shadow(0px 1px 2px rgba(0, 0, 0, 0.3));\n",
       "      fill: #FFFFFF;\n",
       "    }\n",
       "  </style>\n",
       "\n",
       "      <script>\n",
       "        const buttonEl =\n",
       "          document.querySelector('#df-ac7fde1a-9092-493d-a890-4bd740387d46 button.colab-df-convert');\n",
       "        buttonEl.style.display =\n",
       "          google.colab.kernel.accessAllowed ? 'block' : 'none';\n",
       "\n",
       "        async function convertToInteractive(key) {\n",
       "          const element = document.querySelector('#df-ac7fde1a-9092-493d-a890-4bd740387d46');\n",
       "          const dataTable =\n",
       "            await google.colab.kernel.invokeFunction('convertToInteractive',\n",
       "                                                     [key], {});\n",
       "          if (!dataTable) return;\n",
       "\n",
       "          const docLinkHtml = 'Like what you see? Visit the ' +\n",
       "            '<a target=\"_blank\" href=https://colab.research.google.com/notebooks/data_table.ipynb>data table notebook</a>'\n",
       "            + ' to learn more about interactive tables.';\n",
       "          element.innerHTML = '';\n",
       "          dataTable['output_type'] = 'display_data';\n",
       "          await google.colab.output.renderOutput(dataTable, element);\n",
       "          const docLink = document.createElement('div');\n",
       "          docLink.innerHTML = docLinkHtml;\n",
       "          element.appendChild(docLink);\n",
       "        }\n",
       "      </script>\n",
       "    </div>\n",
       "  </div>\n",
       "  "
      ],
      "text/plain": [
       "   Survived  Pclass  Age  SibSp  Parch     Fare  Sex_male  Embarked_Q  \\\n",
       "0         0       3   22      1      0   7.2500         1           0   \n",
       "1         1       1   38      1      0  71.2833         0           0   \n",
       "2         1       3   26      0      0   7.9250         0           0   \n",
       "3         1       1   35      1      0  53.1000         0           0   \n",
       "4         0       3   35      0      0   8.0500         1           0   \n",
       "\n",
       "   Embarked_S  \n",
       "0           1  \n",
       "1           0  \n",
       "2           1  \n",
       "3           1  \n",
       "4           1  "
      ]
     },
     "execution_count": 26,
     "metadata": {},
     "output_type": "execute_result"
    }
   ],
   "source": [
    "df_train = pd.get_dummies(df_train,drop_first=True)\n",
    "df_train.head()"
   ]
  },
  {
   "cell_type": "markdown",
   "metadata": {
    "id": "fTJf2k1dEGAa"
   },
   "source": [
    "## Вывод"
   ]
  },
  {
   "cell_type": "markdown",
   "metadata": {
    "id": "e-tJsNCw7pv-"
   },
   "source": [
    "Вывод:\n",
    "Была проведена небольшая преобработка данных, а именно:\n",
    "1. удаление избыточных признаков, \n",
    "2. удаление некоторых строк с пропусками, \n",
    "3. замена пропусков у признака возраст на значение 100, \n",
    "4. изменение типов данных,\n",
    "5. удаление дубликатов,\n",
    "6. кодирование категориальных признаков."
   ]
  },
  {
   "cell_type": "markdown",
   "metadata": {
    "id": "T2JfkY-75F8T"
   },
   "source": [
    "# Разделение на выборки"
   ]
  },
  {
   "cell_type": "markdown",
   "metadata": {
    "id": "Z7AfY47FBcxh"
   },
   "source": [
    "## Разделение на train и valid"
   ]
  },
  {
   "cell_type": "code",
   "execution_count": 27,
   "metadata": {
    "id": "8N_1U7Yw-Jvf"
   },
   "outputs": [],
   "source": [
    "random_state=111222"
   ]
  },
  {
   "cell_type": "markdown",
   "metadata": {
    "id": "NKKbxAB09GIG"
   },
   "source": []
  },
  {
   "cell_type": "code",
   "execution_count": 28,
   "metadata": {
    "id": "K8US_gL_e5nc"
   },
   "outputs": [],
   "source": [
    "X = df_train.drop(columns = ['Survived'])\n",
    "y = df_train['Survived']"
   ]
  },
  {
   "cell_type": "code",
   "execution_count": 29,
   "metadata": {
    "id": "YFyx3D5q9EAa"
   },
   "outputs": [],
   "source": [
    "X_catboost = df_catboost.drop(columns = ['Survived'])\n",
    "y_catboost = df_catboost['Survived']"
   ]
  },
  {
   "cell_type": "code",
   "execution_count": 30,
   "metadata": {
    "colab": {
     "base_uri": "https://localhost:8080/"
    },
    "id": "HJKrCFZ8jYfn",
    "outputId": "8e69502a-b8c9-43b0-8d04-40c10a0669ca"
   },
   "outputs": [
    {
     "name": "stdout",
     "output_type": "stream",
     "text": [
      "<class 'pandas.core.frame.DataFrame'>\n",
      "Int64Index: 722 entries, 0 to 890\n",
      "Data columns (total 8 columns):\n",
      " #   Column      Non-Null Count  Dtype  \n",
      "---  ------      --------------  -----  \n",
      " 0   Pclass      722 non-null    int64  \n",
      " 1   Age         722 non-null    int16  \n",
      " 2   SibSp       722 non-null    int64  \n",
      " 3   Parch       722 non-null    int64  \n",
      " 4   Fare        722 non-null    float64\n",
      " 5   Sex_male    722 non-null    uint8  \n",
      " 6   Embarked_Q  722 non-null    uint8  \n",
      " 7   Embarked_S  722 non-null    uint8  \n",
      "dtypes: float64(1), int16(1), int64(3), uint8(3)\n",
      "memory usage: 31.7 KB\n"
     ]
    }
   ],
   "source": [
    "X.info()"
   ]
  },
  {
   "cell_type": "code",
   "execution_count": 31,
   "metadata": {
    "id": "aTzMgWLZzior"
   },
   "outputs": [],
   "source": [
    "X_train, X_valid, y_train, y_valid= train_test_split(X, y, test_size=0.20, random_state=random_state, stratify=y)"
   ]
  },
  {
   "cell_type": "code",
   "execution_count": 32,
   "metadata": {
    "id": "GDdxd9PF9OVn"
   },
   "outputs": [],
   "source": [
    "X_train_cat, X_valid_cat, y_train_cat, y_valid_cat= train_test_split(X_catboost, y_catboost, test_size=0.20, random_state=random_state, stratify=y)"
   ]
  },
  {
   "cell_type": "code",
   "execution_count": 33,
   "metadata": {
    "colab": {
     "base_uri": "https://localhost:8080/"
    },
    "id": "RY1Ex01mj3EB",
    "outputId": "26e2f083-6e9e-45da-8299-4b43d44cde3d"
   },
   "outputs": [
    {
     "data": {
      "text/plain": [
       "((577, 8), (145, 8), (577,), (145,))"
      ]
     },
     "execution_count": 33,
     "metadata": {},
     "output_type": "execute_result"
    }
   ],
   "source": [
    "X_train.shape, X_valid.shape, y_train.shape, y_valid.shape"
   ]
  },
  {
   "cell_type": "code",
   "execution_count": 34,
   "metadata": {
    "colab": {
     "base_uri": "https://localhost:8080/"
    },
    "id": "zOH3zymXAVhF",
    "outputId": "656103dc-b8a3-461e-d4fb-98546264b43e"
   },
   "outputs": [
    {
     "data": {
      "text/plain": [
       "(0.3882149046793761, 0.38620689655172413)"
      ]
     },
     "execution_count": 34,
     "metadata": {},
     "output_type": "execute_result"
    }
   ],
   "source": [
    "y_train.mean(), y_valid.mean()"
   ]
  },
  {
   "cell_type": "code",
   "execution_count": 35,
   "metadata": {
    "colab": {
     "base_uri": "https://localhost:8080/",
     "height": 206
    },
    "id": "ayK4BT3QkWtr",
    "outputId": "b01bfa96-0f37-4816-e529-76a38f2ec0ad"
   },
   "outputs": [
    {
     "data": {
      "text/html": [
       "\n",
       "  <div id=\"df-e7911d54-d647-4767-b066-27c9a607c435\">\n",
       "    <div class=\"colab-df-container\">\n",
       "      <div>\n",
       "<style scoped>\n",
       "    .dataframe tbody tr th:only-of-type {\n",
       "        vertical-align: middle;\n",
       "    }\n",
       "\n",
       "    .dataframe tbody tr th {\n",
       "        vertical-align: top;\n",
       "    }\n",
       "\n",
       "    .dataframe thead th {\n",
       "        text-align: right;\n",
       "    }\n",
       "</style>\n",
       "<table border=\"1\" class=\"dataframe\">\n",
       "  <thead>\n",
       "    <tr style=\"text-align: right;\">\n",
       "      <th></th>\n",
       "      <th>Pclass</th>\n",
       "      <th>Age</th>\n",
       "      <th>SibSp</th>\n",
       "      <th>Parch</th>\n",
       "      <th>Fare</th>\n",
       "      <th>Sex_male</th>\n",
       "      <th>Embarked_Q</th>\n",
       "      <th>Embarked_S</th>\n",
       "    </tr>\n",
       "  </thead>\n",
       "  <tbody>\n",
       "    <tr>\n",
       "      <th>617</th>\n",
       "      <td>3</td>\n",
       "      <td>26</td>\n",
       "      <td>1</td>\n",
       "      <td>0</td>\n",
       "      <td>16.1000</td>\n",
       "      <td>0</td>\n",
       "      <td>0</td>\n",
       "      <td>1</td>\n",
       "    </tr>\n",
       "    <tr>\n",
       "      <th>132</th>\n",
       "      <td>3</td>\n",
       "      <td>47</td>\n",
       "      <td>1</td>\n",
       "      <td>0</td>\n",
       "      <td>14.5000</td>\n",
       "      <td>0</td>\n",
       "      <td>0</td>\n",
       "      <td>1</td>\n",
       "    </tr>\n",
       "    <tr>\n",
       "      <th>7</th>\n",
       "      <td>3</td>\n",
       "      <td>2</td>\n",
       "      <td>3</td>\n",
       "      <td>1</td>\n",
       "      <td>21.0750</td>\n",
       "      <td>1</td>\n",
       "      <td>0</td>\n",
       "      <td>1</td>\n",
       "    </tr>\n",
       "    <tr>\n",
       "      <th>469</th>\n",
       "      <td>3</td>\n",
       "      <td>1</td>\n",
       "      <td>2</td>\n",
       "      <td>1</td>\n",
       "      <td>19.2583</td>\n",
       "      <td>0</td>\n",
       "      <td>0</td>\n",
       "      <td>0</td>\n",
       "    </tr>\n",
       "    <tr>\n",
       "      <th>865</th>\n",
       "      <td>2</td>\n",
       "      <td>42</td>\n",
       "      <td>0</td>\n",
       "      <td>0</td>\n",
       "      <td>13.0000</td>\n",
       "      <td>0</td>\n",
       "      <td>0</td>\n",
       "      <td>1</td>\n",
       "    </tr>\n",
       "  </tbody>\n",
       "</table>\n",
       "</div>\n",
       "      <button class=\"colab-df-convert\" onclick=\"convertToInteractive('df-e7911d54-d647-4767-b066-27c9a607c435')\"\n",
       "              title=\"Convert this dataframe to an interactive table.\"\n",
       "              style=\"display:none;\">\n",
       "        \n",
       "  <svg xmlns=\"http://www.w3.org/2000/svg\" height=\"24px\"viewBox=\"0 0 24 24\"\n",
       "       width=\"24px\">\n",
       "    <path d=\"M0 0h24v24H0V0z\" fill=\"none\"/>\n",
       "    <path d=\"M18.56 5.44l.94 2.06.94-2.06 2.06-.94-2.06-.94-.94-2.06-.94 2.06-2.06.94zm-11 1L8.5 8.5l.94-2.06 2.06-.94-2.06-.94L8.5 2.5l-.94 2.06-2.06.94zm10 10l.94 2.06.94-2.06 2.06-.94-2.06-.94-.94-2.06-.94 2.06-2.06.94z\"/><path d=\"M17.41 7.96l-1.37-1.37c-.4-.4-.92-.59-1.43-.59-.52 0-1.04.2-1.43.59L10.3 9.45l-7.72 7.72c-.78.78-.78 2.05 0 2.83L4 21.41c.39.39.9.59 1.41.59.51 0 1.02-.2 1.41-.59l7.78-7.78 2.81-2.81c.8-.78.8-2.07 0-2.86zM5.41 20L4 18.59l7.72-7.72 1.47 1.35L5.41 20z\"/>\n",
       "  </svg>\n",
       "      </button>\n",
       "      \n",
       "  <style>\n",
       "    .colab-df-container {\n",
       "      display:flex;\n",
       "      flex-wrap:wrap;\n",
       "      gap: 12px;\n",
       "    }\n",
       "\n",
       "    .colab-df-convert {\n",
       "      background-color: #E8F0FE;\n",
       "      border: none;\n",
       "      border-radius: 50%;\n",
       "      cursor: pointer;\n",
       "      display: none;\n",
       "      fill: #1967D2;\n",
       "      height: 32px;\n",
       "      padding: 0 0 0 0;\n",
       "      width: 32px;\n",
       "    }\n",
       "\n",
       "    .colab-df-convert:hover {\n",
       "      background-color: #E2EBFA;\n",
       "      box-shadow: 0px 1px 2px rgba(60, 64, 67, 0.3), 0px 1px 3px 1px rgba(60, 64, 67, 0.15);\n",
       "      fill: #174EA6;\n",
       "    }\n",
       "\n",
       "    [theme=dark] .colab-df-convert {\n",
       "      background-color: #3B4455;\n",
       "      fill: #D2E3FC;\n",
       "    }\n",
       "\n",
       "    [theme=dark] .colab-df-convert:hover {\n",
       "      background-color: #434B5C;\n",
       "      box-shadow: 0px 1px 3px 1px rgba(0, 0, 0, 0.15);\n",
       "      filter: drop-shadow(0px 1px 2px rgba(0, 0, 0, 0.3));\n",
       "      fill: #FFFFFF;\n",
       "    }\n",
       "  </style>\n",
       "\n",
       "      <script>\n",
       "        const buttonEl =\n",
       "          document.querySelector('#df-e7911d54-d647-4767-b066-27c9a607c435 button.colab-df-convert');\n",
       "        buttonEl.style.display =\n",
       "          google.colab.kernel.accessAllowed ? 'block' : 'none';\n",
       "\n",
       "        async function convertToInteractive(key) {\n",
       "          const element = document.querySelector('#df-e7911d54-d647-4767-b066-27c9a607c435');\n",
       "          const dataTable =\n",
       "            await google.colab.kernel.invokeFunction('convertToInteractive',\n",
       "                                                     [key], {});\n",
       "          if (!dataTable) return;\n",
       "\n",
       "          const docLinkHtml = 'Like what you see? Visit the ' +\n",
       "            '<a target=\"_blank\" href=https://colab.research.google.com/notebooks/data_table.ipynb>data table notebook</a>'\n",
       "            + ' to learn more about interactive tables.';\n",
       "          element.innerHTML = '';\n",
       "          dataTable['output_type'] = 'display_data';\n",
       "          await google.colab.output.renderOutput(dataTable, element);\n",
       "          const docLink = document.createElement('div');\n",
       "          docLink.innerHTML = docLinkHtml;\n",
       "          element.appendChild(docLink);\n",
       "        }\n",
       "      </script>\n",
       "    </div>\n",
       "  </div>\n",
       "  "
      ],
      "text/plain": [
       "     Pclass  Age  SibSp  Parch     Fare  Sex_male  Embarked_Q  Embarked_S\n",
       "617       3   26      1      0  16.1000         0           0           1\n",
       "132       3   47      1      0  14.5000         0           0           1\n",
       "7         3    2      3      1  21.0750         1           0           1\n",
       "469       3    1      2      1  19.2583         0           0           0\n",
       "865       2   42      0      0  13.0000         0           0           1"
      ]
     },
     "execution_count": 35,
     "metadata": {},
     "output_type": "execute_result"
    }
   ],
   "source": [
    "X_train.head()"
   ]
  },
  {
   "cell_type": "markdown",
   "metadata": {
    "id": "sDkMQELwBgmm"
   },
   "source": [
    "## Взаимная корреляция с помощью коэффициента Phik"
   ]
  },
  {
   "cell_type": "markdown",
   "metadata": {
    "id": "ksYgtSBW_8cE"
   },
   "source": [
    "Посмотрим взаимную корреляцию признаков с помощью коэффициента Phik."
   ]
  },
  {
   "cell_type": "code",
   "execution_count": 36,
   "metadata": {
    "id": "9bc23d8c"
   },
   "outputs": [],
   "source": [
    "interval_cols = ['Age', 'Fare']\n",
    "phik_overview = X_train.phik_matrix(interval_cols=interval_cols)"
   ]
  },
  {
   "cell_type": "code",
   "execution_count": 37,
   "metadata": {
    "colab": {
     "base_uri": "https://localhost:8080/",
     "height": 853
    },
    "id": "450e52fb",
    "outputId": "22da99af-5ea5-419e-a79f-8152e1fafdc3"
   },
   "outputs": [
    {
     "data": {
      "image/png": "[encoded data removed]",
      "text/plain": [
       "<Figure size 1440x1008 with 2 Axes>"
      ]
     },
     "metadata": {
      "needs_background": "light"
     },
     "output_type": "display_data"
    }
   ],
   "source": [
    "plot_correlation_matrix(phik_overview.values, \n",
    "                        x_labels=phik_overview.columns, \n",
    "                        y_labels=phik_overview.index, \n",
    "                        vmin=0, vmax=1, color_map=\"Oranges\", \n",
    "                        title=r\"correlation $\\phi_K$\", \n",
    "                        fontsize_factor=1.5, \n",
    "                            figsize=(20, 14))\n",
    "plt.tight_layout()"
   ]
  },
  {
   "cell_type": "markdown",
   "metadata": {
    "id": "xbMH5MhYAMpH"
   },
   "source": [
    "Как и ранее, сильной корреляции не выявлено. "
   ]
  },
  {
   "cell_type": "markdown",
   "metadata": {
    "id": "87194c1a"
   },
   "source": [
    "## Масштабирование признаков"
   ]
  },
  {
   "cell_type": "markdown",
   "metadata": {
    "id": "c7575b50"
   },
   "source": [
    "Нормируем отдельео разбитую на train/valid выборки и отдельно  исходные features"
   ]
  },
  {
   "cell_type": "code",
   "execution_count": 38,
   "metadata": {
    "id": "Gn0uc30pDGgr"
   },
   "outputs": [],
   "source": [
    "numeric = set(col_cols) - set(['Survived'])"
   ]
  },
  {
   "cell_type": "code",
   "execution_count": 39,
   "metadata": {
    "colab": {
     "base_uri": "https://localhost:8080/"
    },
    "id": "AsKtXqxtCm0C",
    "outputId": "8c352da9-32c1-4f9f-ff41-175397361673"
   },
   "outputs": [
    {
     "data": {
      "text/plain": [
       "['Fare', 'SibSp', 'Pclass', 'Age', 'Parch']"
      ]
     },
     "execution_count": 39,
     "metadata": {},
     "output_type": "execute_result"
    }
   ],
   "source": [
    "numeric = list(numeric)\n",
    "numeric"
   ]
  },
  {
   "cell_type": "code",
   "execution_count": 40,
   "metadata": {
    "colab": {
     "base_uri": "https://localhost:8080/",
     "height": 424
    },
    "id": "537aa1d3",
    "outputId": "2135158d-2c0d-4c37-aa4d-3ea43b8d5315"
   },
   "outputs": [
    {
     "data": {
      "text/html": [
       "\n",
       "  <div id=\"df-2291010f-1a96-4fee-81c5-31e3fb30023c\">\n",
       "    <div class=\"colab-df-container\">\n",
       "      <div>\n",
       "<style scoped>\n",
       "    .dataframe tbody tr th:only-of-type {\n",
       "        vertical-align: middle;\n",
       "    }\n",
       "\n",
       "    .dataframe tbody tr th {\n",
       "        vertical-align: top;\n",
       "    }\n",
       "\n",
       "    .dataframe thead th {\n",
       "        text-align: right;\n",
       "    }\n",
       "</style>\n",
       "<table border=\"1\" class=\"dataframe\">\n",
       "  <thead>\n",
       "    <tr style=\"text-align: right;\">\n",
       "      <th></th>\n",
       "      <th>Pclass</th>\n",
       "      <th>Age</th>\n",
       "      <th>SibSp</th>\n",
       "      <th>Parch</th>\n",
       "      <th>Fare</th>\n",
       "      <th>Sex_male</th>\n",
       "      <th>Embarked_Q</th>\n",
       "      <th>Embarked_S</th>\n",
       "    </tr>\n",
       "  </thead>\n",
       "  <tbody>\n",
       "    <tr>\n",
       "      <th>744</th>\n",
       "      <td>0.816439</td>\n",
       "      <td>0.335494</td>\n",
       "      <td>-0.527062</td>\n",
       "      <td>-0.472784</td>\n",
       "      <td>-0.751067</td>\n",
       "      <td>1</td>\n",
       "      <td>0</td>\n",
       "      <td>1</td>\n",
       "    </tr>\n",
       "    <tr>\n",
       "      <th>642</th>\n",
       "      <td>0.816439</td>\n",
       "      <td>-1.350845</td>\n",
       "      <td>2.387774</td>\n",
       "      <td>1.962899</td>\n",
       "      <td>0.186633</td>\n",
       "      <td>0</td>\n",
       "      <td>0</td>\n",
       "      <td>1</td>\n",
       "    </tr>\n",
       "    <tr>\n",
       "      <th>591</th>\n",
       "      <td>-1.656451</td>\n",
       "      <td>1.556637</td>\n",
       "      <td>0.444550</td>\n",
       "      <td>-0.472784</td>\n",
       "      <td>2.551031</td>\n",
       "      <td>0</td>\n",
       "      <td>0</td>\n",
       "      <td>0</td>\n",
       "    </tr>\n",
       "    <tr>\n",
       "      <th>374</th>\n",
       "      <td>0.816439</td>\n",
       "      <td>-1.292696</td>\n",
       "      <td>2.387774</td>\n",
       "      <td>0.745057</td>\n",
       "      <td>-0.133758</td>\n",
       "      <td>0</td>\n",
       "      <td>0</td>\n",
       "      <td>1</td>\n",
       "    </tr>\n",
       "    <tr>\n",
       "      <th>102</th>\n",
       "      <td>-1.656451</td>\n",
       "      <td>-0.246002</td>\n",
       "      <td>-0.527062</td>\n",
       "      <td>0.745057</td>\n",
       "      <td>2.505064</td>\n",
       "      <td>1</td>\n",
       "      <td>0</td>\n",
       "      <td>1</td>\n",
       "    </tr>\n",
       "    <tr>\n",
       "      <th>...</th>\n",
       "      <td>...</td>\n",
       "      <td>...</td>\n",
       "      <td>...</td>\n",
       "      <td>...</td>\n",
       "      <td>...</td>\n",
       "      <td>...</td>\n",
       "      <td>...</td>\n",
       "      <td>...</td>\n",
       "    </tr>\n",
       "    <tr>\n",
       "      <th>383</th>\n",
       "      <td>-1.656451</td>\n",
       "      <td>0.568093</td>\n",
       "      <td>0.444550</td>\n",
       "      <td>-0.472784</td>\n",
       "      <td>1.317975</td>\n",
       "      <td>0</td>\n",
       "      <td>0</td>\n",
       "      <td>1</td>\n",
       "    </tr>\n",
       "    <tr>\n",
       "      <th>517</th>\n",
       "      <td>0.816439</td>\n",
       "      <td>-1.525294</td>\n",
       "      <td>-0.527062</td>\n",
       "      <td>-0.472784</td>\n",
       "      <td>0.010594</td>\n",
       "      <td>1</td>\n",
       "      <td>1</td>\n",
       "      <td>0</td>\n",
       "    </tr>\n",
       "    <tr>\n",
       "      <th>329</th>\n",
       "      <td>-1.656451</td>\n",
       "      <td>-0.536750</td>\n",
       "      <td>-0.527062</td>\n",
       "      <td>0.745057</td>\n",
       "      <td>1.598661</td>\n",
       "      <td>0</td>\n",
       "      <td>0</td>\n",
       "      <td>0</td>\n",
       "    </tr>\n",
       "    <tr>\n",
       "      <th>682</th>\n",
       "      <td>0.816439</td>\n",
       "      <td>-0.304152</td>\n",
       "      <td>-0.527062</td>\n",
       "      <td>-0.472784</td>\n",
       "      <td>-0.690041</td>\n",
       "      <td>1</td>\n",
       "      <td>0</td>\n",
       "      <td>1</td>\n",
       "    </tr>\n",
       "    <tr>\n",
       "      <th>653</th>\n",
       "      <td>0.816439</td>\n",
       "      <td>-1.525294</td>\n",
       "      <td>-0.527062</td>\n",
       "      <td>-0.472784</td>\n",
       "      <td>-0.755565</td>\n",
       "      <td>0</td>\n",
       "      <td>1</td>\n",
       "      <td>0</td>\n",
       "    </tr>\n",
       "  </tbody>\n",
       "</table>\n",
       "<p>145 rows × 8 columns</p>\n",
       "</div>\n",
       "      <button class=\"colab-df-convert\" onclick=\"convertToInteractive('df-2291010f-1a96-4fee-81c5-31e3fb30023c')\"\n",
       "              title=\"Convert this dataframe to an interactive table.\"\n",
       "              style=\"display:none;\">\n",
       "        \n",
       "  <svg xmlns=\"http://www.w3.org/2000/svg\" height=\"24px\"viewBox=\"0 0 24 24\"\n",
       "       width=\"24px\">\n",
       "    <path d=\"M0 0h24v24H0V0z\" fill=\"none\"/>\n",
       "    <path d=\"M18.56 5.44l.94 2.06.94-2.06 2.06-.94-2.06-.94-.94-2.06-.94 2.06-2.06.94zm-11 1L8.5 8.5l.94-2.06 2.06-.94-2.06-.94L8.5 2.5l-.94 2.06-2.06.94zm10 10l.94 2.06.94-2.06 2.06-.94-2.06-.94-.94-2.06-.94 2.06-2.06.94z\"/><path d=\"M17.41 7.96l-1.37-1.37c-.4-.4-.92-.59-1.43-.59-.52 0-1.04.2-1.43.59L10.3 9.45l-7.72 7.72c-.78.78-.78 2.05 0 2.83L4 21.41c.39.39.9.59 1.41.59.51 0 1.02-.2 1.41-.59l7.78-7.78 2.81-2.81c.8-.78.8-2.07 0-2.86zM5.41 20L4 18.59l7.72-7.72 1.47 1.35L5.41 20z\"/>\n",
       "  </svg>\n",
       "      </button>\n",
       "      \n",
       "  <style>\n",
       "    .colab-df-container {\n",
       "      display:flex;\n",
       "      flex-wrap:wrap;\n",
       "      gap: 12px;\n",
       "    }\n",
       "\n",
       "    .colab-df-convert {\n",
       "      background-color: #E8F0FE;\n",
       "      border: none;\n",
       "      border-radius: 50%;\n",
       "      cursor: pointer;\n",
       "      display: none;\n",
       "      fill: #1967D2;\n",
       "      height: 32px;\n",
       "      padding: 0 0 0 0;\n",
       "      width: 32px;\n",
       "    }\n",
       "\n",
       "    .colab-df-convert:hover {\n",
       "      background-color: #E2EBFA;\n",
       "      box-shadow: 0px 1px 2px rgba(60, 64, 67, 0.3), 0px 1px 3px 1px rgba(60, 64, 67, 0.15);\n",
       "      fill: #174EA6;\n",
       "    }\n",
       "\n",
       "    [theme=dark] .colab-df-convert {\n",
       "      background-color: #3B4455;\n",
       "      fill: #D2E3FC;\n",
       "    }\n",
       "\n",
       "    [theme=dark] .colab-df-convert:hover {\n",
       "      background-color: #434B5C;\n",
       "      box-shadow: 0px 1px 3px 1px rgba(0, 0, 0, 0.15);\n",
       "      filter: drop-shadow(0px 1px 2px rgba(0, 0, 0, 0.3));\n",
       "      fill: #FFFFFF;\n",
       "    }\n",
       "  </style>\n",
       "\n",
       "      <script>\n",
       "        const buttonEl =\n",
       "          document.querySelector('#df-2291010f-1a96-4fee-81c5-31e3fb30023c button.colab-df-convert');\n",
       "        buttonEl.style.display =\n",
       "          google.colab.kernel.accessAllowed ? 'block' : 'none';\n",
       "\n",
       "        async function convertToInteractive(key) {\n",
       "          const element = document.querySelector('#df-2291010f-1a96-4fee-81c5-31e3fb30023c');\n",
       "          const dataTable =\n",
       "            await google.colab.kernel.invokeFunction('convertToInteractive',\n",
       "                                                     [key], {});\n",
       "          if (!dataTable) return;\n",
       "\n",
       "          const docLinkHtml = 'Like what you see? Visit the ' +\n",
       "            '<a target=\"_blank\" href=https://colab.research.google.com/notebooks/data_table.ipynb>data table notebook</a>'\n",
       "            + ' to learn more about interactive tables.';\n",
       "          element.innerHTML = '';\n",
       "          dataTable['output_type'] = 'display_data';\n",
       "          await google.colab.output.renderOutput(dataTable, element);\n",
       "          const docLink = document.createElement('div');\n",
       "          docLink.innerHTML = docLinkHtml;\n",
       "          element.appendChild(docLink);\n",
       "        }\n",
       "      </script>\n",
       "    </div>\n",
       "  </div>\n",
       "  "
      ],
      "text/plain": [
       "       Pclass       Age     SibSp     Parch      Fare  Sex_male  Embarked_Q  \\\n",
       "744  0.816439  0.335494 -0.527062 -0.472784 -0.751067         1           0   \n",
       "642  0.816439 -1.350845  2.387774  1.962899  0.186633         0           0   \n",
       "591 -1.656451  1.556637  0.444550 -0.472784  2.551031         0           0   \n",
       "374  0.816439 -1.292696  2.387774  0.745057 -0.133758         0           0   \n",
       "102 -1.656451 -0.246002 -0.527062  0.745057  2.505064         1           0   \n",
       "..        ...       ...       ...       ...       ...       ...         ...   \n",
       "383 -1.656451  0.568093  0.444550 -0.472784  1.317975         0           0   \n",
       "517  0.816439 -1.525294 -0.527062 -0.472784  0.010594         1           1   \n",
       "329 -1.656451 -0.536750 -0.527062  0.745057  1.598661         0           0   \n",
       "682  0.816439 -0.304152 -0.527062 -0.472784 -0.690041         1           0   \n",
       "653  0.816439 -1.525294 -0.527062 -0.472784 -0.755565         0           1   \n",
       "\n",
       "     Embarked_S  \n",
       "744           1  \n",
       "642           1  \n",
       "591           0  \n",
       "374           1  \n",
       "102           1  \n",
       "..          ...  \n",
       "383           1  \n",
       "517           0  \n",
       "329           0  \n",
       "682           1  \n",
       "653           0  \n",
       "\n",
       "[145 rows x 8 columns]"
      ]
     },
     "execution_count": 40,
     "metadata": {},
     "output_type": "execute_result"
    }
   ],
   "source": [
    "scaler = StandardScaler()\n",
    "scaler.fit(X_train[numeric])\n",
    "X_train[numeric] = scaler.transform(X_train[numeric])\n",
    "X_valid[numeric] = scaler.transform(X_valid[numeric])\n",
    "X_valid"
   ]
  },
  {
   "cell_type": "markdown",
   "metadata": {
    "id": "HctMMK5dEEVr"
   },
   "source": [
    "## Вывод\n",
    "\n",
    "1. Было произведено разделение на трейн и валид в отношении 1 к 4, и еще тестовая выборка у нас дана отдельно. \n",
    "2. Взаимной коррреляции найдено не было\n",
    "3. Произведено масштабирование числовых признаков."
   ]
  },
  {
   "cell_type": "markdown",
   "metadata": {
    "id": "EolzJlwLEcZq"
   },
   "source": [
    "# Обучение"
   ]
  },
  {
   "cell_type": "markdown",
   "metadata": {
    "id": "qu9eHw2WErTB"
   },
   "source": [
    "## Обучение без подбора гиперпараметров"
   ]
  },
  {
   "cell_type": "markdown",
   "metadata": {
    "id": "NorQ6yPsExBO"
   },
   "source": [
    "### Логистическая регрессия"
   ]
  },
  {
   "cell_type": "code",
   "execution_count": 41,
   "metadata": {
    "colab": {
     "base_uri": "https://localhost:8080/"
    },
    "id": "WAuHur1XFXFh",
    "outputId": "f63a71e0-5320-4b68-e517-c01efbeaa601"
   },
   "outputs": [
    {
     "data": {
      "text/plain": [
       "LogisticRegression()"
      ]
     },
     "execution_count": 41,
     "metadata": {},
     "output_type": "execute_result"
    }
   ],
   "source": [
    "lr =  LogisticRegression()\n",
    "lr.fit(X_train, y_train)"
   ]
  },
  {
   "cell_type": "code",
   "execution_count": 42,
   "metadata": {
    "colab": {
     "base_uri": "https://localhost:8080/"
    },
    "id": "ZF_erZd-kvZ9",
    "outputId": "db5d9e2e-019c-41df-8fce-7b2079684d89"
   },
   "outputs": [
    {
     "name": "stdout",
     "output_type": "stream",
     "text": [
      "Acc train=0.773\n",
      "F1 train=0.697\n",
      "ROC_AUC train=0.840\n",
      "\n",
      "Acc test=0.759\n",
      "F1 test=0.685\n",
      "ROC_AUC test=0.795\n",
      "\n"
     ]
    }
   ],
   "source": [
    "for X, y, label in zip([X_train, X_valid], [y_train, y_valid], ['train', 'test']):\n",
    "  pred = lr.predict(X)\n",
    "  \n",
    "  \n",
    "  print(f'Acc {label}={accuracy_score(y, pred):.3f}')  \n",
    "  print(f'F1 {label}={f1_score(y, pred):.3f}')     \n",
    "  print(f'ROC_AUC {label}={roc_auc_score(y, lr.predict_proba(X)[:, 1]):.3f}\\n')     \n",
    "\n"
   ]
  },
  {
   "cell_type": "markdown",
   "metadata": {
    "id": "29E09pDwGQu_"
   },
   "source": [
    "### Метод ближайших соседей"
   ]
  },
  {
   "cell_type": "code",
   "execution_count": 43,
   "metadata": {
    "colab": {
     "base_uri": "https://localhost:8080/"
    },
    "id": "hSn_tmLh0hTd",
    "outputId": "29a209f4-28cc-40ae-d73a-6992af3a5d41"
   },
   "outputs": [
    {
     "data": {
      "text/plain": [
       "KNeighborsClassifier()"
      ]
     },
     "execution_count": 43,
     "metadata": {},
     "output_type": "execute_result"
    }
   ],
   "source": [
    "knn = KNeighborsClassifier()\n",
    "knn.fit(X_train, y_train)"
   ]
  },
  {
   "cell_type": "code",
   "execution_count": 44,
   "metadata": {
    "colab": {
     "base_uri": "https://localhost:8080/"
    },
    "id": "cSJ7ZmDLEdjn",
    "outputId": "cf055f76-9bd7-4591-9241-d152466188b6"
   },
   "outputs": [
    {
     "name": "stdout",
     "output_type": "stream",
     "text": [
      "Acc train=0.841\n",
      "F1 train=0.780\n",
      "ROC_AUC train=0.911\n",
      "\n",
      "Acc test=0.752\n",
      "F1 test=0.667\n",
      "ROC_AUC test=0.782\n",
      "\n"
     ]
    }
   ],
   "source": [
    "for X, y, label in zip([X_train, X_valid], [y_train, y_valid], ['train', 'test']):\n",
    "  pred = knn.predict(X)\n",
    "  \n",
    "  print(f'Acc {label}={accuracy_score(y, pred):.3f}')\n",
    "  print(f'F1 {label}={f1_score(y, pred):.3f}')  \n",
    "  print(f'ROC_AUC {label}={roc_auc_score(y, knn.predict_proba(X)[:, 1]):.3f}\\n') "
   ]
  },
  {
   "cell_type": "markdown",
   "metadata": {
    "id": "cm9LGylpH33s"
   },
   "source": [
    "## Обучение с подбором гиперпараметров"
   ]
  },
  {
   "cell_type": "markdown",
   "metadata": {
    "id": "VwYYQBj2I7km"
   },
   "source": [
    "### Логистическая регрессия"
   ]
  },
  {
   "cell_type": "code",
   "execution_count": 45,
   "metadata": {
    "id": "naJQf-jwIGAd"
   },
   "outputs": [],
   "source": [
    "params = dict(\n",
    "    C = [100, 10, 1, 0.1, 0.01, 0.001],\n",
    "    penalty=['l1', 'l2', 'elasticnet'],\n",
    "    solver=['saga'],\n",
    "    multi_class =['auto', 'ovr', 'multinomial'],\n",
    "    l1_ratio=[1]\n",
    ")"
   ]
  },
  {
   "cell_type": "code",
   "execution_count": 46,
   "metadata": {
    "colab": {
     "base_uri": "https://localhost:8080/"
    },
    "id": "-31b6Q1wMN4C",
    "outputId": "2d4255e6-51a2-4a59-dd5d-cde734525afc"
   },
   "outputs": [
    {
     "name": "stderr",
     "output_type": "stream",
     "text": [
      "/usr/local/lib/python3.8/dist-packages/sklearn/linear_model/_logistic.py:1476: UserWarning: l1_ratio parameter is only used when penalty is 'elasticnet'. Got (penalty=l2)\n",
      "  warnings.warn(\n"
     ]
    },
    {
     "data": {
      "text/plain": [
       "RandomizedSearchCV(cv=5, estimator=LogisticRegression(), n_jobs=-1,\n",
       "                   param_distributions={'C': [100, 10, 1, 0.1, 0.01, 0.001],\n",
       "                                        'l1_ratio': [1],\n",
       "                                        'multi_class': ['auto', 'ovr',\n",
       "                                                        'multinomial'],\n",
       "                                        'penalty': ['l1', 'l2', 'elasticnet'],\n",
       "                                        'solver': ['saga']},\n",
       "                   random_state=111222)"
      ]
     },
     "execution_count": 46,
     "metadata": {},
     "output_type": "execute_result"
    }
   ],
   "source": [
    "lr = LogisticRegression()\n",
    "lr = RandomizedSearchCV(lr, params, n_jobs=-1, cv=5, random_state=random_state)\n",
    "lr.fit(X_train, y_train)"
   ]
  },
  {
   "cell_type": "code",
   "execution_count": 47,
   "metadata": {
    "colab": {
     "base_uri": "https://localhost:8080/"
    },
    "id": "CnJ6fvyNMSk1",
    "outputId": "471fc70e-da58-4be9-be62-e83fe04a806b"
   },
   "outputs": [
    {
     "data": {
      "text/plain": [
       "{'solver': 'saga',\n",
       " 'penalty': 'l2',\n",
       " 'multi_class': 'multinomial',\n",
       " 'l1_ratio': 1,\n",
       " 'C': 0.1}"
      ]
     },
     "execution_count": 47,
     "metadata": {},
     "output_type": "execute_result"
    }
   ],
   "source": [
    "best_params = lr.best_params_\n",
    "best_params"
   ]
  },
  {
   "cell_type": "code",
   "execution_count": 48,
   "metadata": {
    "id": "vQ-46fzzMsmv"
   },
   "outputs": [],
   "source": [
    "#lr = LogisticRegression(**best_params)\n",
    "#lr.fit(X_train, y_train)"
   ]
  },
  {
   "cell_type": "code",
   "execution_count": 49,
   "metadata": {
    "colab": {
     "base_uri": "https://localhost:8080/"
    },
    "id": "oqVZsuFkM6B3",
    "outputId": "f1cc4d89-c232-41ac-8606-bd44dafc186e"
   },
   "outputs": [
    {
     "name": "stdout",
     "output_type": "stream",
     "text": [
      "Acc train=0.782\n",
      "F1 train=0.704\n",
      "ROC_AUC train=0.838\n",
      "\n",
      "Acc test=0.766\n",
      "F1 test=0.679\n",
      "ROC_AUC test=0.798\n",
      "\n"
     ]
    }
   ],
   "source": [
    "for X, y, label in zip([X_train, X_valid], [y_train, y_valid], ['train', 'test']):\n",
    "  pred = lr.predict(X)\n",
    "  \n",
    "  print(f'Acc {label}={accuracy_score(y, pred):.3f}')  \n",
    "  print(f'F1 {label}={f1_score(y, pred):.3f}')   \n",
    "  print(f'ROC_AUC {label}={roc_auc_score(y, lr.predict_proba(X)[:, 1]):.3f}\\n') "
   ]
  },
  {
   "cell_type": "markdown",
   "metadata": {
    "id": "8ZnaM8BVJlDZ"
   },
   "source": [
    "### Метод KNN"
   ]
  },
  {
   "cell_type": "code",
   "execution_count": 50,
   "metadata": {
    "id": "fVpH2sB1FdFK"
   },
   "outputs": [],
   "source": [
    "params = dict(\n",
    "    n_neighbors = range(1, 40),\n",
    "    weights = ['uniform', 'distance'],\n",
    "    algorithm = ['auto', 'ball_tree', 'kd_tree', 'brute'],\n",
    "    p=[1, 2]\n",
    "\n",
    ")"
   ]
  },
  {
   "cell_type": "code",
   "execution_count": 51,
   "metadata": {
    "colab": {
     "base_uri": "https://localhost:8080/"
    },
    "id": "WCfuSi9gJB1A",
    "outputId": "53d4dc03-4f18-415f-80e7-b415a6745aa4"
   },
   "outputs": [
    {
     "data": {
      "text/plain": [
       "RandomizedSearchCV(cv=5, estimator=KNeighborsClassifier(), n_jobs=-1,\n",
       "                   param_distributions={'algorithm': ['auto', 'ball_tree',\n",
       "                                                      'kd_tree', 'brute'],\n",
       "                                        'n_neighbors': range(1, 40),\n",
       "                                        'p': [1, 2],\n",
       "                                        'weights': ['uniform', 'distance']},\n",
       "                   random_state=111222)"
      ]
     },
     "execution_count": 51,
     "metadata": {},
     "output_type": "execute_result"
    }
   ],
   "source": [
    "knn = KNeighborsClassifier()\n",
    "knn = RandomizedSearchCV(knn, params, n_jobs=-1, cv=5, random_state=random_state)\n",
    "knn.fit(X_train, y_train)"
   ]
  },
  {
   "cell_type": "code",
   "execution_count": 53,
   "metadata": {
    "colab": {
     "base_uri": "https://localhost:8080/"
    },
    "id": "MZSpOdc2JNbT",
    "outputId": "438a3aaa-e6d4-4e59-860c-1a6c74ac4c78"
   },
   "outputs": [
    {
     "data": {
      "text/plain": [
       "{'weights': 'uniform', 'p': 1, 'n_neighbors': 5, 'algorithm': 'kd_tree'}"
      ]
     },
     "execution_count": 53,
     "metadata": {},
     "output_type": "execute_result"
    }
   ],
   "source": [
    "best_params = knn.best_params_\n",
    "best_params"
   ]
  },
  {
   "cell_type": "code",
   "execution_count": 54,
   "metadata": {
    "id": "P_tfA_4uJfJF"
   },
   "outputs": [],
   "source": [
    "#knn = KNeighborsClassifier(**best_params)\n",
    "#knn.fit(X_train, y_train)"
   ]
  },
  {
   "cell_type": "code",
   "execution_count": 55,
   "metadata": {
    "colab": {
     "base_uri": "https://localhost:8080/"
    },
    "id": "olxpkxacJoyt",
    "outputId": "c11776c5-860e-442f-9ade-1d9d665b0ad5"
   },
   "outputs": [
    {
     "name": "stdout",
     "output_type": "stream",
     "text": [
      "Acc train=0.849\n",
      "F1 train=0.795\n",
      "ROC_AUC train=0.920\n",
      "\n",
      "Acc test=0.752\n",
      "F1 test=0.667\n",
      "ROC_AUC test=0.791\n",
      "\n"
     ]
    }
   ],
   "source": [
    "for X, y, label in zip([X_train, X_valid], [y_train, y_valid], ['train', 'test']):\n",
    "  pred = knn.predict(X)\n",
    "  \n",
    "  print(f'Acc {label}={accuracy_score(y, pred):.3f}')\n",
    "  print(f'F1 {label}={f1_score(y, pred):.3f}') \n",
    "  print(f'ROC_AUC {label}={roc_auc_score(y, knn.predict_proba(X)[:, 1]):.3f}\\n')    "
   ]
  },
  {
   "cell_type": "markdown",
   "metadata": {
    "id": "YkjKS1h3Hrt0"
   },
   "source": [
    "### CatBoost"
   ]
  },
  {
   "cell_type": "code",
   "execution_count": 56,
   "metadata": {
    "colab": {
     "base_uri": "https://localhost:8080/"
    },
    "id": "lhkn4aq6Egq3",
    "outputId": "5b1c5aa8-7112-4ac3-b501-d93b4fb068e3"
   },
   "outputs": [
    {
     "name": "stdout",
     "output_type": "stream",
     "text": [
      "Looking in indexes: https://pypi.org/simple, https://us-python.pkg.dev/colab-wheels/public/simple/\n",
      "Collecting catboost\n",
      "  Downloading catboost-1.1.1-cp38-none-manylinux1_x86_64.whl (76.6 MB)\n",
      "\u001b[2K     \u001b[90m━━━━━━━━━━━━━━━━━━━━━━━━━━━━━━━━━━━━━━━━\u001b[0m \u001b[32m76.6/76.6 MB\u001b[0m \u001b[31m7.3 MB/s\u001b[0m eta \u001b[36m0:00:00\u001b[0m\n",
      "\u001b[?25hRequirement already satisfied: matplotlib in /usr/local/lib/python3.8/dist-packages (from catboost) (3.2.2)\n",
      "Requirement already satisfied: pandas>=0.24.0 in /usr/local/lib/python3.8/dist-packages (from catboost) (1.3.5)\n",
      "Requirement already satisfied: plotly in /usr/local/lib/python3.8/dist-packages (from catboost) (5.5.0)\n",
      "Requirement already satisfied: six in /usr/local/lib/python3.8/dist-packages (from catboost) (1.15.0)\n",
      "Requirement already satisfied: numpy>=1.16.0 in /usr/local/lib/python3.8/dist-packages (from catboost) (1.21.6)\n",
      "Requirement already satisfied: scipy in /usr/local/lib/python3.8/dist-packages (from catboost) (1.7.3)\n",
      "Requirement already satisfied: graphviz in /usr/local/lib/python3.8/dist-packages (from catboost) (0.10.1)\n",
      "Requirement already satisfied: python-dateutil>=2.7.3 in /usr/local/lib/python3.8/dist-packages (from pandas>=0.24.0->catboost) (2.8.2)\n",
      "Requirement already satisfied: pytz>=2017.3 in /usr/local/lib/python3.8/dist-packages (from pandas>=0.24.0->catboost) (2022.7)\n",
      "Requirement already satisfied: pyparsing!=2.0.4,!=2.1.2,!=2.1.6,>=2.0.1 in /usr/local/lib/python3.8/dist-packages (from matplotlib->catboost) (3.0.9)\n",
      "Requirement already satisfied: kiwisolver>=1.0.1 in /usr/local/lib/python3.8/dist-packages (from matplotlib->catboost) (1.4.4)\n",
      "Requirement already satisfied: cycler>=0.10 in /usr/local/lib/python3.8/dist-packages (from matplotlib->catboost) (0.11.0)\n",
      "Requirement already satisfied: tenacity>=6.2.0 in /usr/local/lib/python3.8/dist-packages (from plotly->catboost) (8.1.0)\n",
      "Installing collected packages: catboost\n",
      "Successfully installed catboost-1.1.1\n",
      "CPU times: user 211 ms, sys: 43.5 ms, total: 254 ms\n",
      "Wall time: 11.8 s\n"
     ]
    }
   ],
   "source": [
    "%%time\n",
    "\n",
    "!pip install catboost\n",
    "from catboost import CatBoostClassifier\n"
   ]
  },
  {
   "cell_type": "code",
   "execution_count": 57,
   "metadata": {
    "id": "vLczwYnOF707"
   },
   "outputs": [],
   "source": [
    "cat_cols_boost = ['Sex',\t'Embarked']"
   ]
  },
  {
   "cell_type": "code",
   "execution_count": 58,
   "metadata": {
    "colab": {
     "base_uri": "https://localhost:8080/",
     "height": 1000,
     "referenced_widgets": [
      "d24f9758098649fdacba2191ef0437c2"
     ]
    },
    "id": "LwSl2iIRFbb3",
    "outputId": "ce819614-cc85-451b-9fcf-d899a17e4201"
   },
   "outputs": [
    {
     "data": {
      "application/vnd.jupyter.widget-view+json": {
       "model_id": "d24f9758098649fdacba2191ef0437c2",
       "version_major": 2,
       "version_minor": 0
      },
      "text/plain": [
       "MetricVisualizer(layout=Layout(align_self='stretch', height='500px'))"
      ]
     },
     "metadata": {},
     "output_type": "display_data"
    },
    {
     "name": "stdout",
     "output_type": "stream",
     "text": [
      "\n",
      "bestTest = 0.8189655172\n",
      "bestIteration = 74\n",
      "\n",
      "0:\tloss: 0.8189655\tbest: 0.8189655 (0)\ttotal: 540ms\tremaining: 4.86s\n",
      "\n",
      "bestTest = 0.8017241379\n",
      "bestIteration = 6\n",
      "\n",
      "\n",
      "bestTest = 0.8017241379\n",
      "bestIteration = 99\n",
      "\n",
      "\n",
      "bestTest = 0.8017241379\n",
      "bestIteration = 27\n",
      "\n",
      "\n",
      "bestTest = 0.8448275862\n",
      "bestIteration = 50\n",
      "\n",
      "\n",
      "bestTest = 0.8189655172\n",
      "bestIteration = 13\n",
      "\n",
      "\n",
      "bestTest = 0.8189655172\n",
      "bestIteration = 21\n",
      "\n",
      "\n",
      "bestTest = 0.8362068966\n",
      "bestIteration = 146\n",
      "\n",
      "\n",
      "bestTest = 0.8362068966\n",
      "bestIteration = 11\n",
      "\n",
      "\n",
      "bestTest = 0.8362068966\n",
      "bestIteration = 12\n",
      "\n",
      "9:\tloss: 0.8362069\tbest: 0.8448276 (4)\ttotal: 8.94s\tremaining: 0us\n",
      "Estimating final quality...\n",
      "Training on fold [0/3]\n",
      "\n",
      "bestTest = 0.7823834197\n",
      "bestIteration = 11\n",
      "\n",
      "Training on fold [1/3]\n",
      "\n",
      "bestTest = 0.8134715026\n",
      "bestIteration = 262\n",
      "\n",
      "Training on fold [2/3]\n",
      "\n",
      "bestTest = 0.8115183246\n",
      "bestIteration = 253\n",
      "\n"
     ]
    }
   ],
   "source": [
    "model = CatBoostClassifier(loss_function='Logloss', \n",
    "                               cat_features=cat_cols_boost,\n",
    "                               eval_metric = 'Accuracy', #:hints=skip_train~false\n",
    "                               verbose=False)\n",
    "\n",
    "grid = {'learning_rate': np.linspace(0.01, 0.2, 10),\n",
    "        'depth': [3, 6],\n",
    "        'l2_leaf_reg': [2, 5],\n",
    "        'n_estimators': [200, 300]}\n",
    "\n",
    "randomized_search_result = model.randomized_search(grid,\n",
    "                                       X=X_train_cat, \n",
    "                                       y=y_train_cat,\n",
    "                                       stratified = True,\n",
    "                                       train_size = 0.8,\n",
    "                                       cv=3,\n",
    "                                       refit=True,\n",
    "                                       verbose=500,\n",
    "                                       plot=True)"
   ]
  },
  {
   "cell_type": "code",
   "execution_count": 59,
   "metadata": {
    "colab": {
     "base_uri": "https://localhost:8080/"
    },
    "id": "unexXGIsGbRb",
    "outputId": "0248a945-7345-47d2-dece-2cde452902f6"
   },
   "outputs": [
    {
     "data": {
      "text/plain": [
       "{'depth': 6,\n",
       " 'l2_leaf_reg': 2,\n",
       " 'iterations': 300,\n",
       " 'learning_rate': 0.03111111111111111}"
      ]
     },
     "execution_count": 59,
     "metadata": {},
     "output_type": "execute_result"
    }
   ],
   "source": [
    "randomized_search_result['params']"
   ]
  },
  {
   "cell_type": "code",
   "execution_count": 60,
   "metadata": {
    "colab": {
     "base_uri": "https://localhost:8080/"
    },
    "id": "Q5cIfEsnGl4r",
    "outputId": "ec689a51-e456-45f4-880b-d6c58569d20c"
   },
   "outputs": [
    {
     "name": "stdout",
     "output_type": "stream",
     "text": [
      "0:\tlearn: 0.7885615\ttotal: 3.46ms\tremaining: 688ms\n",
      "199:\tlearn: 0.8925477\ttotal: 1.04s\tremaining: 0us\n"
     ]
    },
    {
     "data": {
      "text/plain": [
       "0.7724137931034483"
      ]
     },
     "execution_count": 60,
     "metadata": {},
     "output_type": "execute_result"
    }
   ],
   "source": [
    "best_model = CatBoostClassifier(depth = randomized_search_result['params']['depth'],\n",
    "                                l2_leaf_reg = randomized_search_result['params']['l2_leaf_reg'], \n",
    "                                learning_rate = randomized_search_result['params']['learning_rate'],\n",
    "                                eval_metric='Accuracy',\n",
    "                                iterations=200,\n",
    "                                loss_function= 'Logloss',\n",
    "                                cat_features=cat_cols_boost,\n",
    "                                random_seed=random_state,\n",
    "                                verbose=200)\n",
    "    \n",
    "best_model.fit(X_train_cat, y_train_cat)\n",
    "\n",
    "pred_train = best_model.predict(X_valid_cat)\n",
    "accuracy_score(y_valid_cat, pred_train)"
   ]
  },
  {
   "cell_type": "markdown",
   "metadata": {
    "id": "uZGlJN7mNyh-"
   },
   "source": [
    "## Вывод\n",
    "\n",
    "Видим, что с подбором гиперпараметров метрики незначительно повысислись. \n",
    "Accuracy достигает более менее нормальных значений: 0.755 на валидационной выборке у логистичекой регрессии и 0.781 у KNN."
   ]
  },
  {
   "cell_type": "markdown",
   "metadata": {
    "id": "6f8WTL75OQCM"
   },
   "source": [
    "# Проверка на тестовой выборке"
   ]
  },
  {
   "cell_type": "code",
   "execution_count": 61,
   "metadata": {
    "id": "Fh9v1Zc4AOIg"
   },
   "outputs": [],
   "source": [
    "df_test = pd.read_csv('/content/drive/MyDrive/1T_sprint_titanic/test.csv')"
   ]
  },
  {
   "cell_type": "markdown",
   "metadata": {
    "id": "sF5RppzAOZKU"
   },
   "source": [
    "## Удаление избыточных признаков"
   ]
  },
  {
   "cell_type": "code",
   "execution_count": 62,
   "metadata": {
    "colab": {
     "base_uri": "https://localhost:8080/"
    },
    "id": "UeSDo5HfOZKU",
    "outputId": "be2a9c67-13a8-431d-a588-3bea970a0d30"
   },
   "outputs": [
    {
     "data": {
      "text/plain": [
       "Index(['Pclass', 'Sex', 'Age', 'SibSp', 'Parch', 'Fare', 'Embarked'], dtype='object')"
      ]
     },
     "execution_count": 62,
     "metadata": {},
     "output_type": "execute_result"
    }
   ],
   "source": [
    "df_test = df_test.drop(columns=['PassengerId','Name', 'Ticket', 'Cabin'])\n",
    "df_test.columns"
   ]
  },
  {
   "cell_type": "code",
   "execution_count": 63,
   "metadata": {
    "colab": {
     "base_uri": "https://localhost:8080/"
    },
    "id": "sPSGokqiOZKV",
    "outputId": "13e61ee6-7724-4c23-b999-7875a3ce7451"
   },
   "outputs": [
    {
     "name": "stdout",
     "output_type": "stream",
     "text": [
      "<class 'pandas.core.frame.DataFrame'>\n",
      "Int64Index: 418 entries, 0 to 417\n",
      "Data columns (total 7 columns):\n",
      " #   Column    Non-Null Count  Dtype  \n",
      "---  ------    --------------  -----  \n",
      " 0   Pclass    418 non-null    int64  \n",
      " 1   Sex       418 non-null    object \n",
      " 2   Age       332 non-null    float64\n",
      " 3   SibSp     418 non-null    int64  \n",
      " 4   Parch     418 non-null    int64  \n",
      " 5   Fare      417 non-null    float64\n",
      " 6   Embarked  418 non-null    object \n",
      "dtypes: float64(2), int64(3), object(2)\n",
      "memory usage: 26.1+ KB\n"
     ]
    }
   ],
   "source": [
    "df_test = df_test[df_test['Embarked'].isna() == False]\n",
    "df_test.info()"
   ]
  },
  {
   "cell_type": "markdown",
   "metadata": {
    "id": "iQce6VvHOZKV"
   },
   "source": [
    "Остались пропуски в столбце возраста. И пропусков довольно много. Попробуем что-то с этим сделать. "
   ]
  },
  {
   "cell_type": "markdown",
   "metadata": {
    "id": "ZbFsKv6cOZKW"
   },
   "source": [
    "## Пропуски в AGE"
   ]
  },
  {
   "cell_type": "code",
   "execution_count": 64,
   "metadata": {
    "colab": {
     "base_uri": "https://localhost:8080/",
     "height": 265
    },
    "id": "v2SQxnJlOZKW",
    "outputId": "135c4cc2-d058-437a-eb39-ee27f728209a"
   },
   "outputs": [
    {
     "data": {
      "image/png": "[encoded data removed]",
      "text/plain": [
       "<Figure size 432x288 with 1 Axes>"
      ]
     },
     "metadata": {
      "needs_background": "light"
     },
     "output_type": "display_data"
    }
   ],
   "source": [
    "plt.hist(df_test['Age'])\n",
    "plt.show()"
   ]
  },
  {
   "cell_type": "markdown",
   "metadata": {
    "id": "04uRRy3gOZKW"
   },
   "source": [
    "Заменим пропуски в столбце Age на 100."
   ]
  },
  {
   "cell_type": "code",
   "execution_count": 65,
   "metadata": {
    "id": "_WwZrGjxOZKW"
   },
   "outputs": [],
   "source": [
    "df_test[\"Age\"] = df_test[\"Age\"].fillna(-1)"
   ]
  },
  {
   "cell_type": "code",
   "execution_count": 66,
   "metadata": {
    "id": "cAE6-F36OZKX"
   },
   "outputs": [],
   "source": [
    "df_test[\"Age\"] = df_test['Age'].transform(lambda x: x.round()).astype('int16')"
   ]
  },
  {
   "cell_type": "code",
   "execution_count": 67,
   "metadata": {
    "colab": {
     "base_uri": "https://localhost:8080/"
    },
    "id": "HGgrZHtmOZKX",
    "outputId": "a6890f09-a00d-4948-e804-d06476f9c6d4"
   },
   "outputs": [
    {
     "name": "stdout",
     "output_type": "stream",
     "text": [
      "<class 'pandas.core.frame.DataFrame'>\n",
      "Int64Index: 418 entries, 0 to 417\n",
      "Data columns (total 7 columns):\n",
      " #   Column    Non-Null Count  Dtype  \n",
      "---  ------    --------------  -----  \n",
      " 0   Pclass    418 non-null    int64  \n",
      " 1   Sex       418 non-null    object \n",
      " 2   Age       418 non-null    int16  \n",
      " 3   SibSp     418 non-null    int64  \n",
      " 4   Parch     418 non-null    int64  \n",
      " 5   Fare      417 non-null    float64\n",
      " 6   Embarked  418 non-null    object \n",
      "dtypes: float64(1), int16(1), int64(3), object(2)\n",
      "memory usage: 23.7+ KB\n"
     ]
    }
   ],
   "source": [
    "df_test = df_test[df_test['Age'].isna() == False]\n",
    "df_test.info()"
   ]
  },
  {
   "cell_type": "markdown",
   "metadata": {
    "id": "7YXEXrYkDvQx"
   },
   "source": [
    "## Замена пропуска в Fare"
   ]
  },
  {
   "cell_type": "code",
   "execution_count": 68,
   "metadata": {
    "colab": {
     "base_uri": "https://localhost:8080/",
     "height": 81
    },
    "id": "JLH79goUAdSi",
    "outputId": "0de7263f-c0b7-4922-ba9d-cd8c00f59dde"
   },
   "outputs": [
    {
     "data": {
      "text/html": [
       "\n",
       "  <div id=\"df-4655f59b-cbaf-40b3-a5d5-819ef8120924\">\n",
       "    <div class=\"colab-df-container\">\n",
       "      <div>\n",
       "<style scoped>\n",
       "    .dataframe tbody tr th:only-of-type {\n",
       "        vertical-align: middle;\n",
       "    }\n",
       "\n",
       "    .dataframe tbody tr th {\n",
       "        vertical-align: top;\n",
       "    }\n",
       "\n",
       "    .dataframe thead th {\n",
       "        text-align: right;\n",
       "    }\n",
       "</style>\n",
       "<table border=\"1\" class=\"dataframe\">\n",
       "  <thead>\n",
       "    <tr style=\"text-align: right;\">\n",
       "      <th></th>\n",
       "      <th>Pclass</th>\n",
       "      <th>Sex</th>\n",
       "      <th>Age</th>\n",
       "      <th>SibSp</th>\n",
       "      <th>Parch</th>\n",
       "      <th>Fare</th>\n",
       "      <th>Embarked</th>\n",
       "    </tr>\n",
       "  </thead>\n",
       "  <tbody>\n",
       "    <tr>\n",
       "      <th>152</th>\n",
       "      <td>3</td>\n",
       "      <td>male</td>\n",
       "      <td>60</td>\n",
       "      <td>0</td>\n",
       "      <td>0</td>\n",
       "      <td>NaN</td>\n",
       "      <td>S</td>\n",
       "    </tr>\n",
       "  </tbody>\n",
       "</table>\n",
       "</div>\n",
       "      <button class=\"colab-df-convert\" onclick=\"convertToInteractive('df-4655f59b-cbaf-40b3-a5d5-819ef8120924')\"\n",
       "              title=\"Convert this dataframe to an interactive table.\"\n",
       "              style=\"display:none;\">\n",
       "        \n",
       "  <svg xmlns=\"http://www.w3.org/2000/svg\" height=\"24px\"viewBox=\"0 0 24 24\"\n",
       "       width=\"24px\">\n",
       "    <path d=\"M0 0h24v24H0V0z\" fill=\"none\"/>\n",
       "    <path d=\"M18.56 5.44l.94 2.06.94-2.06 2.06-.94-2.06-.94-.94-2.06-.94 2.06-2.06.94zm-11 1L8.5 8.5l.94-2.06 2.06-.94-2.06-.94L8.5 2.5l-.94 2.06-2.06.94zm10 10l.94 2.06.94-2.06 2.06-.94-2.06-.94-.94-2.06-.94 2.06-2.06.94z\"/><path d=\"M17.41 7.96l-1.37-1.37c-.4-.4-.92-.59-1.43-.59-.52 0-1.04.2-1.43.59L10.3 9.45l-7.72 7.72c-.78.78-.78 2.05 0 2.83L4 21.41c.39.39.9.59 1.41.59.51 0 1.02-.2 1.41-.59l7.78-7.78 2.81-2.81c.8-.78.8-2.07 0-2.86zM5.41 20L4 18.59l7.72-7.72 1.47 1.35L5.41 20z\"/>\n",
       "  </svg>\n",
       "      </button>\n",
       "      \n",
       "  <style>\n",
       "    .colab-df-container {\n",
       "      display:flex;\n",
       "      flex-wrap:wrap;\n",
       "      gap: 12px;\n",
       "    }\n",
       "\n",
       "    .colab-df-convert {\n",
       "      background-color: #E8F0FE;\n",
       "      border: none;\n",
       "      border-radius: 50%;\n",
       "      cursor: pointer;\n",
       "      display: none;\n",
       "      fill: #1967D2;\n",
       "      height: 32px;\n",
       "      padding: 0 0 0 0;\n",
       "      width: 32px;\n",
       "    }\n",
       "\n",
       "    .colab-df-convert:hover {\n",
       "      background-color: #E2EBFA;\n",
       "      box-shadow: 0px 1px 2px rgba(60, 64, 67, 0.3), 0px 1px 3px 1px rgba(60, 64, 67, 0.15);\n",
       "      fill: #174EA6;\n",
       "    }\n",
       "\n",
       "    [theme=dark] .colab-df-convert {\n",
       "      background-color: #3B4455;\n",
       "      fill: #D2E3FC;\n",
       "    }\n",
       "\n",
       "    [theme=dark] .colab-df-convert:hover {\n",
       "      background-color: #434B5C;\n",
       "      box-shadow: 0px 1px 3px 1px rgba(0, 0, 0, 0.15);\n",
       "      filter: drop-shadow(0px 1px 2px rgba(0, 0, 0, 0.3));\n",
       "      fill: #FFFFFF;\n",
       "    }\n",
       "  </style>\n",
       "\n",
       "      <script>\n",
       "        const buttonEl =\n",
       "          document.querySelector('#df-4655f59b-cbaf-40b3-a5d5-819ef8120924 button.colab-df-convert');\n",
       "        buttonEl.style.display =\n",
       "          google.colab.kernel.accessAllowed ? 'block' : 'none';\n",
       "\n",
       "        async function convertToInteractive(key) {\n",
       "          const element = document.querySelector('#df-4655f59b-cbaf-40b3-a5d5-819ef8120924');\n",
       "          const dataTable =\n",
       "            await google.colab.kernel.invokeFunction('convertToInteractive',\n",
       "                                                     [key], {});\n",
       "          if (!dataTable) return;\n",
       "\n",
       "          const docLinkHtml = 'Like what you see? Visit the ' +\n",
       "            '<a target=\"_blank\" href=https://colab.research.google.com/notebooks/data_table.ipynb>data table notebook</a>'\n",
       "            + ' to learn more about interactive tables.';\n",
       "          element.innerHTML = '';\n",
       "          dataTable['output_type'] = 'display_data';\n",
       "          await google.colab.output.renderOutput(dataTable, element);\n",
       "          const docLink = document.createElement('div');\n",
       "          docLink.innerHTML = docLinkHtml;\n",
       "          element.appendChild(docLink);\n",
       "        }\n",
       "      </script>\n",
       "    </div>\n",
       "  </div>\n",
       "  "
      ],
      "text/plain": [
       "     Pclass   Sex  Age  SibSp  Parch  Fare Embarked\n",
       "152       3  male   60      0      0   NaN        S"
      ]
     },
     "execution_count": 68,
     "metadata": {},
     "output_type": "execute_result"
    }
   ],
   "source": [
    "df_test[152:153]"
   ]
  },
  {
   "cell_type": "code",
   "execution_count": 69,
   "metadata": {
    "id": "VaZMSG7EBjDV"
   },
   "outputs": [],
   "source": [
    "df_test.loc[df_test[df_test['Fare'].isna() == True].index, 'Fare'] = 50"
   ]
  },
  {
   "cell_type": "code",
   "execution_count": 70,
   "metadata": {
    "colab": {
     "base_uri": "https://localhost:8080/"
    },
    "id": "HXaAHEsEO6Ug",
    "outputId": "4aa713d9-5665-411e-e538-187e81c0bac3"
   },
   "outputs": [
    {
     "name": "stdout",
     "output_type": "stream",
     "text": [
      "<class 'pandas.core.frame.DataFrame'>\n",
      "Int64Index: 418 entries, 0 to 417\n",
      "Data columns (total 7 columns):\n",
      " #   Column    Non-Null Count  Dtype  \n",
      "---  ------    --------------  -----  \n",
      " 0   Pclass    418 non-null    int64  \n",
      " 1   Sex       418 non-null    object \n",
      " 2   Age       418 non-null    int16  \n",
      " 3   SibSp     418 non-null    int64  \n",
      " 4   Parch     418 non-null    int64  \n",
      " 5   Fare      418 non-null    float64\n",
      " 6   Embarked  418 non-null    object \n",
      "dtypes: float64(1), int16(1), int64(3), object(2)\n",
      "memory usage: 23.7+ KB\n"
     ]
    }
   ],
   "source": [
    "df_test = df_test[df_test['Fare'].isna() == False]\n",
    "#df_test = df_test[df_test['Fare'] < 200]\n",
    "df_test.info()"
   ]
  },
  {
   "cell_type": "markdown",
   "metadata": {
    "id": "3HD95XgzOZKa"
   },
   "source": [
    "## Удаление дубликатов"
   ]
  },
  {
   "cell_type": "markdown",
   "metadata": {
    "id": "rF9mjJA0Djgx"
   },
   "source": [
    "Дубликаты удалять не будем, так как конечный файл загрузки в соревнование должен содержать 418 записей"
   ]
  },
  {
   "cell_type": "code",
   "execution_count": 71,
   "metadata": {
    "colab": {
     "base_uri": "https://localhost:8080/"
    },
    "id": "3bR9iFvROZKa",
    "outputId": "73fad0fe-e591-43e8-9352-388861d50775"
   },
   "outputs": [
    {
     "name": "stdout",
     "output_type": "stream",
     "text": [
      "<class 'pandas.core.frame.DataFrame'>\n",
      "Int64Index: 418 entries, 0 to 417\n",
      "Data columns (total 7 columns):\n",
      " #   Column    Non-Null Count  Dtype  \n",
      "---  ------    --------------  -----  \n",
      " 0   Pclass    418 non-null    int64  \n",
      " 1   Sex       418 non-null    object \n",
      " 2   Age       418 non-null    int16  \n",
      " 3   SibSp     418 non-null    int64  \n",
      " 4   Parch     418 non-null    int64  \n",
      " 5   Fare      418 non-null    float64\n",
      " 6   Embarked  418 non-null    object \n",
      "dtypes: float64(1), int16(1), int64(3), object(2)\n",
      "memory usage: 23.7+ KB\n"
     ]
    }
   ],
   "source": [
    "#df_test= df_test.drop_duplicates()\n",
    "df_test.info()"
   ]
  },
  {
   "cell_type": "markdown",
   "metadata": {
    "id": "i0j14wG1OZKb"
   },
   "source": [
    "## Кодирование категориальных признаков"
   ]
  },
  {
   "cell_type": "markdown",
   "metadata": {
    "id": "03S6VZLFOZKb"
   },
   "source": [
    "Произведем кодирование категориальных признаков.  Также как в обучающей выборке, создадим копию для CatBoost."
   ]
  },
  {
   "cell_type": "code",
   "execution_count": 72,
   "metadata": {
    "colab": {
     "base_uri": "https://localhost:8080/",
     "height": 206
    },
    "id": "knur7eKWBY_R",
    "outputId": "3f1ba2f1-0784-4469-d52d-7c2a48d9c0ef"
   },
   "outputs": [
    {
     "data": {
      "text/html": [
       "\n",
       "  <div id=\"df-379e0a74-0220-408c-b6dc-0a79a3c3c566\">\n",
       "    <div class=\"colab-df-container\">\n",
       "      <div>\n",
       "<style scoped>\n",
       "    .dataframe tbody tr th:only-of-type {\n",
       "        vertical-align: middle;\n",
       "    }\n",
       "\n",
       "    .dataframe tbody tr th {\n",
       "        vertical-align: top;\n",
       "    }\n",
       "\n",
       "    .dataframe thead th {\n",
       "        text-align: right;\n",
       "    }\n",
       "</style>\n",
       "<table border=\"1\" class=\"dataframe\">\n",
       "  <thead>\n",
       "    <tr style=\"text-align: right;\">\n",
       "      <th></th>\n",
       "      <th>Pclass</th>\n",
       "      <th>Sex</th>\n",
       "      <th>Age</th>\n",
       "      <th>SibSp</th>\n",
       "      <th>Parch</th>\n",
       "      <th>Fare</th>\n",
       "      <th>Embarked</th>\n",
       "    </tr>\n",
       "  </thead>\n",
       "  <tbody>\n",
       "    <tr>\n",
       "      <th>0</th>\n",
       "      <td>3</td>\n",
       "      <td>male</td>\n",
       "      <td>34</td>\n",
       "      <td>0</td>\n",
       "      <td>0</td>\n",
       "      <td>7.8292</td>\n",
       "      <td>Q</td>\n",
       "    </tr>\n",
       "    <tr>\n",
       "      <th>1</th>\n",
       "      <td>3</td>\n",
       "      <td>female</td>\n",
       "      <td>47</td>\n",
       "      <td>1</td>\n",
       "      <td>0</td>\n",
       "      <td>7.0000</td>\n",
       "      <td>S</td>\n",
       "    </tr>\n",
       "    <tr>\n",
       "      <th>2</th>\n",
       "      <td>2</td>\n",
       "      <td>male</td>\n",
       "      <td>62</td>\n",
       "      <td>0</td>\n",
       "      <td>0</td>\n",
       "      <td>9.6875</td>\n",
       "      <td>Q</td>\n",
       "    </tr>\n",
       "    <tr>\n",
       "      <th>3</th>\n",
       "      <td>3</td>\n",
       "      <td>male</td>\n",
       "      <td>27</td>\n",
       "      <td>0</td>\n",
       "      <td>0</td>\n",
       "      <td>8.6625</td>\n",
       "      <td>S</td>\n",
       "    </tr>\n",
       "    <tr>\n",
       "      <th>4</th>\n",
       "      <td>3</td>\n",
       "      <td>female</td>\n",
       "      <td>22</td>\n",
       "      <td>1</td>\n",
       "      <td>1</td>\n",
       "      <td>12.2875</td>\n",
       "      <td>S</td>\n",
       "    </tr>\n",
       "  </tbody>\n",
       "</table>\n",
       "</div>\n",
       "      <button class=\"colab-df-convert\" onclick=\"convertToInteractive('df-379e0a74-0220-408c-b6dc-0a79a3c3c566')\"\n",
       "              title=\"Convert this dataframe to an interactive table.\"\n",
       "              style=\"display:none;\">\n",
       "        \n",
       "  <svg xmlns=\"http://www.w3.org/2000/svg\" height=\"24px\"viewBox=\"0 0 24 24\"\n",
       "       width=\"24px\">\n",
       "    <path d=\"M0 0h24v24H0V0z\" fill=\"none\"/>\n",
       "    <path d=\"M18.56 5.44l.94 2.06.94-2.06 2.06-.94-2.06-.94-.94-2.06-.94 2.06-2.06.94zm-11 1L8.5 8.5l.94-2.06 2.06-.94-2.06-.94L8.5 2.5l-.94 2.06-2.06.94zm10 10l.94 2.06.94-2.06 2.06-.94-2.06-.94-.94-2.06-.94 2.06-2.06.94z\"/><path d=\"M17.41 7.96l-1.37-1.37c-.4-.4-.92-.59-1.43-.59-.52 0-1.04.2-1.43.59L10.3 9.45l-7.72 7.72c-.78.78-.78 2.05 0 2.83L4 21.41c.39.39.9.59 1.41.59.51 0 1.02-.2 1.41-.59l7.78-7.78 2.81-2.81c.8-.78.8-2.07 0-2.86zM5.41 20L4 18.59l7.72-7.72 1.47 1.35L5.41 20z\"/>\n",
       "  </svg>\n",
       "      </button>\n",
       "      \n",
       "  <style>\n",
       "    .colab-df-container {\n",
       "      display:flex;\n",
       "      flex-wrap:wrap;\n",
       "      gap: 12px;\n",
       "    }\n",
       "\n",
       "    .colab-df-convert {\n",
       "      background-color: #E8F0FE;\n",
       "      border: none;\n",
       "      border-radius: 50%;\n",
       "      cursor: pointer;\n",
       "      display: none;\n",
       "      fill: #1967D2;\n",
       "      height: 32px;\n",
       "      padding: 0 0 0 0;\n",
       "      width: 32px;\n",
       "    }\n",
       "\n",
       "    .colab-df-convert:hover {\n",
       "      background-color: #E2EBFA;\n",
       "      box-shadow: 0px 1px 2px rgba(60, 64, 67, 0.3), 0px 1px 3px 1px rgba(60, 64, 67, 0.15);\n",
       "      fill: #174EA6;\n",
       "    }\n",
       "\n",
       "    [theme=dark] .colab-df-convert {\n",
       "      background-color: #3B4455;\n",
       "      fill: #D2E3FC;\n",
       "    }\n",
       "\n",
       "    [theme=dark] .colab-df-convert:hover {\n",
       "      background-color: #434B5C;\n",
       "      box-shadow: 0px 1px 3px 1px rgba(0, 0, 0, 0.15);\n",
       "      filter: drop-shadow(0px 1px 2px rgba(0, 0, 0, 0.3));\n",
       "      fill: #FFFFFF;\n",
       "    }\n",
       "  </style>\n",
       "\n",
       "      <script>\n",
       "        const buttonEl =\n",
       "          document.querySelector('#df-379e0a74-0220-408c-b6dc-0a79a3c3c566 button.colab-df-convert');\n",
       "        buttonEl.style.display =\n",
       "          google.colab.kernel.accessAllowed ? 'block' : 'none';\n",
       "\n",
       "        async function convertToInteractive(key) {\n",
       "          const element = document.querySelector('#df-379e0a74-0220-408c-b6dc-0a79a3c3c566');\n",
       "          const dataTable =\n",
       "            await google.colab.kernel.invokeFunction('convertToInteractive',\n",
       "                                                     [key], {});\n",
       "          if (!dataTable) return;\n",
       "\n",
       "          const docLinkHtml = 'Like what you see? Visit the ' +\n",
       "            '<a target=\"_blank\" href=https://colab.research.google.com/notebooks/data_table.ipynb>data table notebook</a>'\n",
       "            + ' to learn more about interactive tables.';\n",
       "          element.innerHTML = '';\n",
       "          dataTable['output_type'] = 'display_data';\n",
       "          await google.colab.output.renderOutput(dataTable, element);\n",
       "          const docLink = document.createElement('div');\n",
       "          docLink.innerHTML = docLinkHtml;\n",
       "          element.appendChild(docLink);\n",
       "        }\n",
       "      </script>\n",
       "    </div>\n",
       "  </div>\n",
       "  "
      ],
      "text/plain": [
       "   Pclass     Sex  Age  SibSp  Parch     Fare Embarked\n",
       "0       3    male   34      0      0   7.8292        Q\n",
       "1       3  female   47      1      0   7.0000        S\n",
       "2       2    male   62      0      0   9.6875        Q\n",
       "3       3    male   27      0      0   8.6625        S\n",
       "4       3  female   22      1      1  12.2875        S"
      ]
     },
     "execution_count": 72,
     "metadata": {},
     "output_type": "execute_result"
    }
   ],
   "source": [
    "df_test_catboost = df_test.copy()\n",
    "df_test_catboost.head()"
   ]
  },
  {
   "cell_type": "code",
   "execution_count": 73,
   "metadata": {
    "colab": {
     "base_uri": "https://localhost:8080/",
     "height": 206
    },
    "id": "K1V4Ycg5OZKb",
    "outputId": "9bc2d11d-a9f9-478c-f97b-997203e2a47e"
   },
   "outputs": [
    {
     "data": {
      "text/html": [
       "\n",
       "  <div id=\"df-d632043e-432b-4c60-be3e-14e0e3f1fb86\">\n",
       "    <div class=\"colab-df-container\">\n",
       "      <div>\n",
       "<style scoped>\n",
       "    .dataframe tbody tr th:only-of-type {\n",
       "        vertical-align: middle;\n",
       "    }\n",
       "\n",
       "    .dataframe tbody tr th {\n",
       "        vertical-align: top;\n",
       "    }\n",
       "\n",
       "    .dataframe thead th {\n",
       "        text-align: right;\n",
       "    }\n",
       "</style>\n",
       "<table border=\"1\" class=\"dataframe\">\n",
       "  <thead>\n",
       "    <tr style=\"text-align: right;\">\n",
       "      <th></th>\n",
       "      <th>Pclass</th>\n",
       "      <th>Age</th>\n",
       "      <th>SibSp</th>\n",
       "      <th>Parch</th>\n",
       "      <th>Fare</th>\n",
       "      <th>Sex_male</th>\n",
       "      <th>Embarked_Q</th>\n",
       "      <th>Embarked_S</th>\n",
       "    </tr>\n",
       "  </thead>\n",
       "  <tbody>\n",
       "    <tr>\n",
       "      <th>0</th>\n",
       "      <td>3</td>\n",
       "      <td>34</td>\n",
       "      <td>0</td>\n",
       "      <td>0</td>\n",
       "      <td>7.8292</td>\n",
       "      <td>1</td>\n",
       "      <td>1</td>\n",
       "      <td>0</td>\n",
       "    </tr>\n",
       "    <tr>\n",
       "      <th>1</th>\n",
       "      <td>3</td>\n",
       "      <td>47</td>\n",
       "      <td>1</td>\n",
       "      <td>0</td>\n",
       "      <td>7.0000</td>\n",
       "      <td>0</td>\n",
       "      <td>0</td>\n",
       "      <td>1</td>\n",
       "    </tr>\n",
       "    <tr>\n",
       "      <th>2</th>\n",
       "      <td>2</td>\n",
       "      <td>62</td>\n",
       "      <td>0</td>\n",
       "      <td>0</td>\n",
       "      <td>9.6875</td>\n",
       "      <td>1</td>\n",
       "      <td>1</td>\n",
       "      <td>0</td>\n",
       "    </tr>\n",
       "    <tr>\n",
       "      <th>3</th>\n",
       "      <td>3</td>\n",
       "      <td>27</td>\n",
       "      <td>0</td>\n",
       "      <td>0</td>\n",
       "      <td>8.6625</td>\n",
       "      <td>1</td>\n",
       "      <td>0</td>\n",
       "      <td>1</td>\n",
       "    </tr>\n",
       "    <tr>\n",
       "      <th>4</th>\n",
       "      <td>3</td>\n",
       "      <td>22</td>\n",
       "      <td>1</td>\n",
       "      <td>1</td>\n",
       "      <td>12.2875</td>\n",
       "      <td>0</td>\n",
       "      <td>0</td>\n",
       "      <td>1</td>\n",
       "    </tr>\n",
       "  </tbody>\n",
       "</table>\n",
       "</div>\n",
       "      <button class=\"colab-df-convert\" onclick=\"convertToInteractive('df-d632043e-432b-4c60-be3e-14e0e3f1fb86')\"\n",
       "              title=\"Convert this dataframe to an interactive table.\"\n",
       "              style=\"display:none;\">\n",
       "        \n",
       "  <svg xmlns=\"http://www.w3.org/2000/svg\" height=\"24px\"viewBox=\"0 0 24 24\"\n",
       "       width=\"24px\">\n",
       "    <path d=\"M0 0h24v24H0V0z\" fill=\"none\"/>\n",
       "    <path d=\"M18.56 5.44l.94 2.06.94-2.06 2.06-.94-2.06-.94-.94-2.06-.94 2.06-2.06.94zm-11 1L8.5 8.5l.94-2.06 2.06-.94-2.06-.94L8.5 2.5l-.94 2.06-2.06.94zm10 10l.94 2.06.94-2.06 2.06-.94-2.06-.94-.94-2.06-.94 2.06-2.06.94z\"/><path d=\"M17.41 7.96l-1.37-1.37c-.4-.4-.92-.59-1.43-.59-.52 0-1.04.2-1.43.59L10.3 9.45l-7.72 7.72c-.78.78-.78 2.05 0 2.83L4 21.41c.39.39.9.59 1.41.59.51 0 1.02-.2 1.41-.59l7.78-7.78 2.81-2.81c.8-.78.8-2.07 0-2.86zM5.41 20L4 18.59l7.72-7.72 1.47 1.35L5.41 20z\"/>\n",
       "  </svg>\n",
       "      </button>\n",
       "      \n",
       "  <style>\n",
       "    .colab-df-container {\n",
       "      display:flex;\n",
       "      flex-wrap:wrap;\n",
       "      gap: 12px;\n",
       "    }\n",
       "\n",
       "    .colab-df-convert {\n",
       "      background-color: #E8F0FE;\n",
       "      border: none;\n",
       "      border-radius: 50%;\n",
       "      cursor: pointer;\n",
       "      display: none;\n",
       "      fill: #1967D2;\n",
       "      height: 32px;\n",
       "      padding: 0 0 0 0;\n",
       "      width: 32px;\n",
       "    }\n",
       "\n",
       "    .colab-df-convert:hover {\n",
       "      background-color: #E2EBFA;\n",
       "      box-shadow: 0px 1px 2px rgba(60, 64, 67, 0.3), 0px 1px 3px 1px rgba(60, 64, 67, 0.15);\n",
       "      fill: #174EA6;\n",
       "    }\n",
       "\n",
       "    [theme=dark] .colab-df-convert {\n",
       "      background-color: #3B4455;\n",
       "      fill: #D2E3FC;\n",
       "    }\n",
       "\n",
       "    [theme=dark] .colab-df-convert:hover {\n",
       "      background-color: #434B5C;\n",
       "      box-shadow: 0px 1px 3px 1px rgba(0, 0, 0, 0.15);\n",
       "      filter: drop-shadow(0px 1px 2px rgba(0, 0, 0, 0.3));\n",
       "      fill: #FFFFFF;\n",
       "    }\n",
       "  </style>\n",
       "\n",
       "      <script>\n",
       "        const buttonEl =\n",
       "          document.querySelector('#df-d632043e-432b-4c60-be3e-14e0e3f1fb86 button.colab-df-convert');\n",
       "        buttonEl.style.display =\n",
       "          google.colab.kernel.accessAllowed ? 'block' : 'none';\n",
       "\n",
       "        async function convertToInteractive(key) {\n",
       "          const element = document.querySelector('#df-d632043e-432b-4c60-be3e-14e0e3f1fb86');\n",
       "          const dataTable =\n",
       "            await google.colab.kernel.invokeFunction('convertToInteractive',\n",
       "                                                     [key], {});\n",
       "          if (!dataTable) return;\n",
       "\n",
       "          const docLinkHtml = 'Like what you see? Visit the ' +\n",
       "            '<a target=\"_blank\" href=https://colab.research.google.com/notebooks/data_table.ipynb>data table notebook</a>'\n",
       "            + ' to learn more about interactive tables.';\n",
       "          element.innerHTML = '';\n",
       "          dataTable['output_type'] = 'display_data';\n",
       "          await google.colab.output.renderOutput(dataTable, element);\n",
       "          const docLink = document.createElement('div');\n",
       "          docLink.innerHTML = docLinkHtml;\n",
       "          element.appendChild(docLink);\n",
       "        }\n",
       "      </script>\n",
       "    </div>\n",
       "  </div>\n",
       "  "
      ],
      "text/plain": [
       "   Pclass  Age  SibSp  Parch     Fare  Sex_male  Embarked_Q  Embarked_S\n",
       "0       3   34      0      0   7.8292         1           1           0\n",
       "1       3   47      1      0   7.0000         0           0           1\n",
       "2       2   62      0      0   9.6875         1           1           0\n",
       "3       3   27      0      0   8.6625         1           0           1\n",
       "4       3   22      1      1  12.2875         0           0           1"
      ]
     },
     "execution_count": 73,
     "metadata": {},
     "output_type": "execute_result"
    }
   ],
   "source": [
    "df_test = pd.get_dummies(df_test,drop_first=True)\n",
    "df_test.head()"
   ]
  },
  {
   "cell_type": "markdown",
   "metadata": {
    "id": "rpZlJSkT-8T-"
   },
   "source": [
    "## Масштабирование признаков"
   ]
  },
  {
   "cell_type": "code",
   "execution_count": 74,
   "metadata": {
    "colab": {
     "base_uri": "https://localhost:8080/",
     "height": 269
    },
    "id": "Y44zHSSuS8nE",
    "outputId": "de045626-89f8-4a3f-b967-8125a5f8d969"
   },
   "outputs": [
    {
     "data": {
      "text/html": [
       "\n",
       "  <div id=\"df-5a4b90d2-0d4d-491e-9c34-2a1f77fc9a78\">\n",
       "    <div class=\"colab-df-container\">\n",
       "      <div>\n",
       "<style scoped>\n",
       "    .dataframe tbody tr th:only-of-type {\n",
       "        vertical-align: middle;\n",
       "    }\n",
       "\n",
       "    .dataframe tbody tr th {\n",
       "        vertical-align: top;\n",
       "    }\n",
       "\n",
       "    .dataframe thead th {\n",
       "        text-align: right;\n",
       "    }\n",
       "</style>\n",
       "<table border=\"1\" class=\"dataframe\">\n",
       "  <thead>\n",
       "    <tr style=\"text-align: right;\">\n",
       "      <th></th>\n",
       "      <th>Pclass</th>\n",
       "      <th>Age</th>\n",
       "      <th>SibSp</th>\n",
       "      <th>Parch</th>\n",
       "      <th>Fare</th>\n",
       "      <th>Sex_male</th>\n",
       "      <th>Embarked_Q</th>\n",
       "      <th>Embarked_S</th>\n",
       "    </tr>\n",
       "  </thead>\n",
       "  <tbody>\n",
       "    <tr>\n",
       "      <th>296</th>\n",
       "      <td>-0.420006</td>\n",
       "      <td>-1.408995</td>\n",
       "      <td>0.444550</td>\n",
       "      <td>1.962899</td>\n",
       "      <td>0.828785</td>\n",
       "      <td>0</td>\n",
       "      <td>0</td>\n",
       "      <td>0</td>\n",
       "    </tr>\n",
       "    <tr>\n",
       "      <th>41</th>\n",
       "      <td>-1.656451</td>\n",
       "      <td>-1.525294</td>\n",
       "      <td>-0.527062</td>\n",
       "      <td>-0.472784</td>\n",
       "      <td>0.123259</td>\n",
       "      <td>1</td>\n",
       "      <td>0</td>\n",
       "      <td>1</td>\n",
       "    </tr>\n",
       "    <tr>\n",
       "      <th>24</th>\n",
       "      <td>-1.656451</td>\n",
       "      <td>1.324038</td>\n",
       "      <td>0.444550</td>\n",
       "      <td>3.180741</td>\n",
       "      <td>11.193753</td>\n",
       "      <td>0</td>\n",
       "      <td>0</td>\n",
       "      <td>0</td>\n",
       "    </tr>\n",
       "    <tr>\n",
       "      <th>108</th>\n",
       "      <td>0.816439</td>\n",
       "      <td>-1.525294</td>\n",
       "      <td>-0.527062</td>\n",
       "      <td>-0.472784</td>\n",
       "      <td>-0.714099</td>\n",
       "      <td>1</td>\n",
       "      <td>0</td>\n",
       "      <td>1</td>\n",
       "    </tr>\n",
       "    <tr>\n",
       "      <th>31</th>\n",
       "      <td>-0.420006</td>\n",
       "      <td>-0.071553</td>\n",
       "      <td>1.416162</td>\n",
       "      <td>-0.472784</td>\n",
       "      <td>0.355630</td>\n",
       "      <td>1</td>\n",
       "      <td>0</td>\n",
       "      <td>1</td>\n",
       "    </tr>\n",
       "    <tr>\n",
       "      <th>38</th>\n",
       "      <td>0.816439</td>\n",
       "      <td>-0.013404</td>\n",
       "      <td>-0.527062</td>\n",
       "      <td>-0.472784</td>\n",
       "      <td>-0.677131</td>\n",
       "      <td>1</td>\n",
       "      <td>0</td>\n",
       "      <td>1</td>\n",
       "    </tr>\n",
       "    <tr>\n",
       "      <th>311</th>\n",
       "      <td>0.816439</td>\n",
       "      <td>-0.187853</td>\n",
       "      <td>-0.527062</td>\n",
       "      <td>-0.472784</td>\n",
       "      <td>-0.783928</td>\n",
       "      <td>1</td>\n",
       "      <td>0</td>\n",
       "      <td>0</td>\n",
       "    </tr>\n",
       "  </tbody>\n",
       "</table>\n",
       "</div>\n",
       "      <button class=\"colab-df-convert\" onclick=\"convertToInteractive('df-5a4b90d2-0d4d-491e-9c34-2a1f77fc9a78')\"\n",
       "              title=\"Convert this dataframe to an interactive table.\"\n",
       "              style=\"display:none;\">\n",
       "        \n",
       "  <svg xmlns=\"http://www.w3.org/2000/svg\" height=\"24px\"viewBox=\"0 0 24 24\"\n",
       "       width=\"24px\">\n",
       "    <path d=\"M0 0h24v24H0V0z\" fill=\"none\"/>\n",
       "    <path d=\"M18.56 5.44l.94 2.06.94-2.06 2.06-.94-2.06-.94-.94-2.06-.94 2.06-2.06.94zm-11 1L8.5 8.5l.94-2.06 2.06-.94-2.06-.94L8.5 2.5l-.94 2.06-2.06.94zm10 10l.94 2.06.94-2.06 2.06-.94-2.06-.94-.94-2.06-.94 2.06-2.06.94z\"/><path d=\"M17.41 7.96l-1.37-1.37c-.4-.4-.92-.59-1.43-.59-.52 0-1.04.2-1.43.59L10.3 9.45l-7.72 7.72c-.78.78-.78 2.05 0 2.83L4 21.41c.39.39.9.59 1.41.59.51 0 1.02-.2 1.41-.59l7.78-7.78 2.81-2.81c.8-.78.8-2.07 0-2.86zM5.41 20L4 18.59l7.72-7.72 1.47 1.35L5.41 20z\"/>\n",
       "  </svg>\n",
       "      </button>\n",
       "      \n",
       "  <style>\n",
       "    .colab-df-container {\n",
       "      display:flex;\n",
       "      flex-wrap:wrap;\n",
       "      gap: 12px;\n",
       "    }\n",
       "\n",
       "    .colab-df-convert {\n",
       "      background-color: #E8F0FE;\n",
       "      border: none;\n",
       "      border-radius: 50%;\n",
       "      cursor: pointer;\n",
       "      display: none;\n",
       "      fill: #1967D2;\n",
       "      height: 32px;\n",
       "      padding: 0 0 0 0;\n",
       "      width: 32px;\n",
       "    }\n",
       "\n",
       "    .colab-df-convert:hover {\n",
       "      background-color: #E2EBFA;\n",
       "      box-shadow: 0px 1px 2px rgba(60, 64, 67, 0.3), 0px 1px 3px 1px rgba(60, 64, 67, 0.15);\n",
       "      fill: #174EA6;\n",
       "    }\n",
       "\n",
       "    [theme=dark] .colab-df-convert {\n",
       "      background-color: #3B4455;\n",
       "      fill: #D2E3FC;\n",
       "    }\n",
       "\n",
       "    [theme=dark] .colab-df-convert:hover {\n",
       "      background-color: #434B5C;\n",
       "      box-shadow: 0px 1px 3px 1px rgba(0, 0, 0, 0.15);\n",
       "      filter: drop-shadow(0px 1px 2px rgba(0, 0, 0, 0.3));\n",
       "      fill: #FFFFFF;\n",
       "    }\n",
       "  </style>\n",
       "\n",
       "      <script>\n",
       "        const buttonEl =\n",
       "          document.querySelector('#df-5a4b90d2-0d4d-491e-9c34-2a1f77fc9a78 button.colab-df-convert');\n",
       "        buttonEl.style.display =\n",
       "          google.colab.kernel.accessAllowed ? 'block' : 'none';\n",
       "\n",
       "        async function convertToInteractive(key) {\n",
       "          const element = document.querySelector('#df-5a4b90d2-0d4d-491e-9c34-2a1f77fc9a78');\n",
       "          const dataTable =\n",
       "            await google.colab.kernel.invokeFunction('convertToInteractive',\n",
       "                                                     [key], {});\n",
       "          if (!dataTable) return;\n",
       "\n",
       "          const docLinkHtml = 'Like what you see? Visit the ' +\n",
       "            '<a target=\"_blank\" href=https://colab.research.google.com/notebooks/data_table.ipynb>data table notebook</a>'\n",
       "            + ' to learn more about interactive tables.';\n",
       "          element.innerHTML = '';\n",
       "          dataTable['output_type'] = 'display_data';\n",
       "          await google.colab.output.renderOutput(dataTable, element);\n",
       "          const docLink = document.createElement('div');\n",
       "          docLink.innerHTML = docLinkHtml;\n",
       "          element.appendChild(docLink);\n",
       "        }\n",
       "      </script>\n",
       "    </div>\n",
       "  </div>\n",
       "  "
      ],
      "text/plain": [
       "       Pclass       Age     SibSp     Parch       Fare  Sex_male  Embarked_Q  \\\n",
       "296 -0.420006 -1.408995  0.444550  1.962899   0.828785         0           0   \n",
       "41  -1.656451 -1.525294 -0.527062 -0.472784   0.123259         1           0   \n",
       "24  -1.656451  1.324038  0.444550  3.180741  11.193753         0           0   \n",
       "108  0.816439 -1.525294 -0.527062 -0.472784  -0.714099         1           0   \n",
       "31  -0.420006 -0.071553  1.416162 -0.472784   0.355630         1           0   \n",
       "38   0.816439 -0.013404 -0.527062 -0.472784  -0.677131         1           0   \n",
       "311  0.816439 -0.187853 -0.527062 -0.472784  -0.783928         1           0   \n",
       "\n",
       "     Embarked_S  \n",
       "296           0  \n",
       "41            1  \n",
       "24            0  \n",
       "108           1  \n",
       "31            1  \n",
       "38            1  \n",
       "311           0  "
      ]
     },
     "execution_count": 74,
     "metadata": {},
     "output_type": "execute_result"
    }
   ],
   "source": [
    "df_test[numeric] = scaler.transform(df_test[numeric])\n",
    "df_test.sample(7)"
   ]
  },
  {
   "cell_type": "markdown",
   "metadata": {
    "id": "Fz6vA8YrOZKb"
   },
   "source": [
    "## Вывод\n",
    "\n",
    "Наши тестовые данные готовы для получения скора"
   ]
  },
  {
   "cell_type": "markdown",
   "metadata": {
    "id": "r0O7c52ESxz3"
   },
   "source": [
    "# Получение предсказаний"
   ]
  },
  {
   "cell_type": "code",
   "execution_count": 75,
   "metadata": {
    "colab": {
     "base_uri": "https://localhost:8080/"
    },
    "id": "TZhbkJ_U_i2M",
    "outputId": "a39e3322-41a8-4a5b-9e0c-cb02b34b0b08"
   },
   "outputs": [
    {
     "name": "stdout",
     "output_type": "stream",
     "text": [
      "<class 'pandas.core.frame.DataFrame'>\n",
      "Int64Index: 418 entries, 892 to 1309\n",
      "Data columns (total 1 columns):\n",
      " #   Column    Non-Null Count  Dtype\n",
      "---  ------    --------------  -----\n",
      " 0   Survived  418 non-null    int64\n",
      "dtypes: int64(1)\n",
      "memory usage: 6.5 KB\n"
     ]
    }
   ],
   "source": [
    "submission = pd.read_csv('/content/drive/MyDrive/1T_sprint_titanic/gender_submission.csv', index_col = 0)\n",
    "submission.info()"
   ]
  },
  {
   "cell_type": "markdown",
   "metadata": {
    "id": "CGkG_6HrCPem"
   },
   "source": [
    "## Предсказания для лучшей модели LR"
   ]
  },
  {
   "cell_type": "code",
   "execution_count": 76,
   "metadata": {
    "id": "X8CAgFoq_GU1"
   },
   "outputs": [],
   "source": [
    "submission['Survived'] = lr.predict(df_test)\n",
    "submission.to_csv('my_submission_lr_.csv')"
   ]
  },
  {
   "cell_type": "markdown",
   "metadata": {
    "id": "pe5aly6iI74N"
   },
   "source": [
    "![2022-12-21_17-42-30.png](data:image/png;base64,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)"
   ]
  },
  {
   "cell_type": "markdown",
   "metadata": {
    "id": "Yoc9sluDCXMG"
   },
   "source": [
    "## Предсказания для лучшей модели KNN"
   ]
  },
  {
   "cell_type": "code",
   "execution_count": 77,
   "metadata": {
    "id": "NPTol34mCEoB"
   },
   "outputs": [],
   "source": [
    "submission['Survived'] = knn.predict(df_test)\n",
    "submission.to_csv('my_submission_knn_.csv')"
   ]
  },
  {
   "cell_type": "markdown",
   "metadata": {
    "id": "RaBzeIcTJAOd"
   },
   "source": [
    "![2022-12-21_17-42-09.png](data:image/png;base64,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)"
   ]
  },
  {
   "cell_type": "markdown",
   "metadata": {
    "id": "LAqVt37GHlcT"
   },
   "source": [
    "## Предсказания для лучшей модели CatBoost"
   ]
  },
  {
   "cell_type": "code",
   "execution_count": 78,
   "metadata": {
    "id": "_5WlFqvwDdCO"
   },
   "outputs": [],
   "source": [
    "submission['Survived'] = best_model.predict(df_test_catboost)\n",
    "submission.to_csv('my_submission_catboost_.csv')\n"
   ]
  },
  {
   "cell_type": "markdown",
   "metadata": {
    "id": "hG9Sojz8JGeg"
   },
   "source": [
    "![2022-12-21_17-41-51.png](data:image/png;base64,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)"
   ]
  },
  {
   "cell_type": "markdown",
   "metadata": {
    "id": "FnEL9jQiH2S0"
   },
   "source": [
    "# Вывод"
   ]
  },
  {
   "cell_type": "markdown",
   "metadata": {
    "id": "oSZSpuHuH4xZ"
   },
   "source": [
    "Как можно видеть, после обрубания хвостов (выбросов) в Fare \"тяжелая\" модель CatBoost дала прирост в скоре по сравнению с простыми моделями: 0.775 Но все равно, думаю, что датасет слишком прост для использования бустинга.\n",
    "\n",
    "Конечно, можно было бы сделать более хорошую предобработку данных. Так как данных мало и каждый пассажир в целом может иметь значение. \n",
    "\n",
    "Лучший скор модели KNN с подбором гиперпараметров: 0.7416. У Логистической регрессии Accuracy = 0.749 на тестовой выборке."
   ]
  }
 ],
 "metadata": {
  "colab": {
   "provenance": []
  },
  "gpuClass": "standard",
  "kernelspec": {
   "display_name": "Python 3 (ipykernel)",
   "language": "python",
   "name": "python3"
  },
  "language_info": {
   "codemirror_mode": {
    "name": "ipython",
    "version": 3
   },
   "file_extension": ".py",
   "mimetype": "text/x-python",
   "name": "python",
   "nbconvert_exporter": "python",
   "pygments_lexer": "ipython3",
   "version": "3.9.12"
  },
  "toc": {
   "base_numbering": 1,
   "nav_menu": {},
   "number_sections": true,
   "sideBar": true,
   "skip_h1_title": false,
   "title_cell": "Table of Contents",
   "title_sidebar": "Contents",
   "toc_cell": false,
   "toc_position": {
    "height": "calc(100% - 180px)",
    "left": "10px",
    "top": "150px",
    "width": "337.597px"
   },
   "toc_section_display": true,
   "toc_window_display": true
  },
  "widgets": {
   "application/vnd.jupyter.widget-state+json": {
    "d24f9758098649fdacba2191ef0437c2": {
     "model_module": "catboost-widget",
     "model_module_version": "^1.0.0",
     "model_name": "CatboostWidgetModel",
     "state": {
      "_dom_classes": [],
      "_model_module": "catboost-widget",
      "_model_module_version": "^1.0.0",
      "_model_name": "CatboostWidgetModel",
      "_view_count": null,
      "_view_module": "catboost-widget",
      "_view_module_version": "^1.0.0",
      "_view_name": "CatboostWidgetView",
      "data": {
       "catboost_info": {
        "content": {
         "data": {
          "iterations": [
           {
            "iteration": 0,
            "learn": [
             0.8568329718,
             0.3416267743
            ],
            "parameters": [
             {
              "depth": 3,
              "iterations": 200,
              "l2_leaf_reg": 5,
              "learning_rate": 0.07333333333
             }
            ],
            "passed_time": 0.5403544102,
            "remaining_time": 4.863189692,
            "test": [
             0.8189655172,
             0.465473814
            ]
           },
           {
            "iteration": 1,
            "learn": [
             0.9305856833,
             0.273644179
            ],
            "parameters": [
             {
              "depth": 3,
              "iterations": 300,
              "l2_leaf_reg": 2,
              "learning_rate": 0.07333333333
             }
            ],
            "passed_time": 1.153191294,
            "remaining_time": 4.612765178,
            "test": [
             0.8017241379,
             0.4686754476
            ]
           },
           {
            "iteration": 2,
            "learn": [
             0.9566160521,
             0.2003634462
            ],
            "parameters": [
             {
              "depth": 3,
              "iterations": 300,
              "l2_leaf_reg": 2,
              "learning_rate": 0.1366666667
             }
            ],
            "passed_time": 1.890648433,
            "remaining_time": 4.41151301,
            "test": [
             0.8017241379,
             0.469416446
            ]
           },
           {
            "iteration": 3,
            "learn": [
             0.9544468547,
             0.2062149424
            ],
            "parameters": [
             {
              "depth": 3,
              "iterations": 300,
              "l2_leaf_reg": 5,
              "learning_rate": 0.1577777778
             }
            ],
            "passed_time": 2.46418912,
            "remaining_time": 3.69628368,
            "test": [
             0.8017241379,
             0.4687717163
            ]
           },
           {
            "iteration": 4,
            "learn": [
             0.9240780911,
             0.2623675486
            ],
            "parameters": [
             {
              "depth": 6,
              "iterations": 300,
              "l2_leaf_reg": 2,
              "learning_rate": 0.03111111111
             }
            ],
            "passed_time": 3.334247969,
            "remaining_time": 3.334247969,
            "test": [
             0.8448275862,
             0.4553598455
            ]
           },
           {
            "iteration": 5,
            "learn": [
             0.9652928416,
             0.1802274505
            ],
            "parameters": [
             {
              "depth": 6,
              "iterations": 300,
              "l2_leaf_reg": 2,
              "learning_rate": 0.05222222222
             }
            ],
            "passed_time": 4.200420871,
            "remaining_time": 2.800280581,
            "test": [
             0.8189655172,
             0.4517711784
            ]
           },
           {
            "iteration": 6,
            "learn": [
             0.9913232104,
             0.06710085514
            ],
            "parameters": [
             {
              "depth": 6,
              "iterations": 300,
              "l2_leaf_reg": 2,
              "learning_rate": 0.1366666667
             }
            ],
            "passed_time": 5.104409647,
            "remaining_time": 2.187604134,
            "test": [
             0.8189655172,
             0.453571854
            ]
           },
           {
            "iteration": 7,
            "learn": [
             0.9436008677,
             0.2238546248
            ],
            "parameters": [
             {
              "depth": 6,
              "iterations": 300,
              "l2_leaf_reg": 5,
              "learning_rate": 0.05222222222
             }
            ],
            "passed_time": 6.235978929,
            "remaining_time": 1.558994732,
            "test": [
             0.8362068966,
             0.4460255075
            ]
           },
           {
            "iteration": 8,
            "learn": [
             0.9739696312,
             0.1378164665
            ],
            "parameters": [
             {
              "depth": 6,
              "iterations": 300,
              "l2_leaf_reg": 5,
              "learning_rate": 0.1155555556
             }
            ],
            "passed_time": 7.595019729,
            "remaining_time": 0.843891081,
            "test": [
             0.8362068966,
             0.4535939798
            ]
           },
           {
            "iteration": 9,
            "learn": [
             0.9848156182,
             0.09743715848
            ],
            "parameters": [
             {
              "depth": 6,
              "iterations": 300,
              "l2_leaf_reg": 5,
              "learning_rate": 0.1577777778
             }
            ],
            "passed_time": 8.943568983,
            "remaining_time": 0,
            "test": [
             0.8362068966,
             0.4650615771
            ]
           }
          ],
          "meta": {
           "iteration_count": 10,
           "launch_mode": "Train",
           "learn_metrics": [
            {
             "best_value": "Max",
             "name": "Accuracy"
            },
            {
             "best_value": "Min",
             "name": "Logloss"
            }
           ],
           "learn_sets": [
            "learn"
           ],
           "name": "experiment",
           "parameters": "parameters",
           "test_metrics": [
            {
             "best_value": "Max",
             "name": "Accuracy"
            },
            {
             "best_value": "Min",
             "name": "Logloss"
            }
           ],
           "test_sets": [
            "test"
           ]
          }
         },
         "passed_iterations": 9,
         "total_iterations": 10
        },
        "name": "catboost_info",
        "path": "catboost_info"
       }
      },
      "layout": "IPY_MODEL_6052049d7380448898cbb3d3841736eb"
     }
    }
   }
  }
 },
 "nbformat": 4,
 "nbformat_minor": 1
}
